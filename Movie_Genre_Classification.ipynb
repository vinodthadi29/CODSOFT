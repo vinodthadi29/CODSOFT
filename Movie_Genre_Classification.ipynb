{
  "nbformat": 4,
  "nbformat_minor": 0,
  "metadata": {
    "colab": {
      "provenance": [],
      "authorship_tag": "ABX9TyNNarYIJ7ENtXw68HQfCwqx",
      "include_colab_link": true
    },
    "kernelspec": {
      "name": "python3",
      "display_name": "Python 3"
    },
    "language_info": {
      "name": "python"
    },
    "widgets": {
      "application/vnd.jupyter.widget-state+json": {
        "adc83508dcc34006aee418bc14d39e06": {
          "model_module": "@jupyter-widgets/controls",
          "model_name": "HBoxModel",
          "model_module_version": "1.5.0",
          "state": {
            "_dom_classes": [],
            "_model_module": "@jupyter-widgets/controls",
            "_model_module_version": "1.5.0",
            "_model_name": "HBoxModel",
            "_view_count": null,
            "_view_module": "@jupyter-widgets/controls",
            "_view_module_version": "1.5.0",
            "_view_name": "HBoxView",
            "box_style": "",
            "children": [
              "IPY_MODEL_2c1dda2d290347ef92bd6456ac14f9a1",
              "IPY_MODEL_04cfdf877d8e447e89f22c10b93ed985",
              "IPY_MODEL_6969e14d22a046bdb59c2695ebc5cb41"
            ],
            "layout": "IPY_MODEL_bd3c59b730ab4d948ea5731962d4db6b"
          }
        },
        "2c1dda2d290347ef92bd6456ac14f9a1": {
          "model_module": "@jupyter-widgets/controls",
          "model_name": "HTMLModel",
          "model_module_version": "1.5.0",
          "state": {
            "_dom_classes": [],
            "_model_module": "@jupyter-widgets/controls",
            "_model_module_version": "1.5.0",
            "_model_name": "HTMLModel",
            "_view_count": null,
            "_view_module": "@jupyter-widgets/controls",
            "_view_module_version": "1.5.0",
            "_view_name": "HTMLView",
            "description": "",
            "description_tooltip": null,
            "layout": "IPY_MODEL_f407d8f093c44dc99e51b675be2d7d24",
            "placeholder": "​",
            "style": "IPY_MODEL_47716bc321b84212afd64473adc07b14",
            "value": "tokenizer_config.json: 100%"
          }
        },
        "04cfdf877d8e447e89f22c10b93ed985": {
          "model_module": "@jupyter-widgets/controls",
          "model_name": "FloatProgressModel",
          "model_module_version": "1.5.0",
          "state": {
            "_dom_classes": [],
            "_model_module": "@jupyter-widgets/controls",
            "_model_module_version": "1.5.0",
            "_model_name": "FloatProgressModel",
            "_view_count": null,
            "_view_module": "@jupyter-widgets/controls",
            "_view_module_version": "1.5.0",
            "_view_name": "ProgressView",
            "bar_style": "success",
            "description": "",
            "description_tooltip": null,
            "layout": "IPY_MODEL_a3ebb5c0bfe442349c11ef38f4d0dc45",
            "max": 48,
            "min": 0,
            "orientation": "horizontal",
            "style": "IPY_MODEL_f997910e43e04eb29b1ce741dbb994a4",
            "value": 48
          }
        },
        "6969e14d22a046bdb59c2695ebc5cb41": {
          "model_module": "@jupyter-widgets/controls",
          "model_name": "HTMLModel",
          "model_module_version": "1.5.0",
          "state": {
            "_dom_classes": [],
            "_model_module": "@jupyter-widgets/controls",
            "_model_module_version": "1.5.0",
            "_model_name": "HTMLModel",
            "_view_count": null,
            "_view_module": "@jupyter-widgets/controls",
            "_view_module_version": "1.5.0",
            "_view_name": "HTMLView",
            "description": "",
            "description_tooltip": null,
            "layout": "IPY_MODEL_3af5b019242147d8bcf2870f23e2132b",
            "placeholder": "​",
            "style": "IPY_MODEL_ebd9dd33047042598738f5331ac61f4a",
            "value": " 48.0/48.0 [00:00&lt;00:00, 2.08kB/s]"
          }
        },
        "bd3c59b730ab4d948ea5731962d4db6b": {
          "model_module": "@jupyter-widgets/base",
          "model_name": "LayoutModel",
          "model_module_version": "1.2.0",
          "state": {
            "_model_module": "@jupyter-widgets/base",
            "_model_module_version": "1.2.0",
            "_model_name": "LayoutModel",
            "_view_count": null,
            "_view_module": "@jupyter-widgets/base",
            "_view_module_version": "1.2.0",
            "_view_name": "LayoutView",
            "align_content": null,
            "align_items": null,
            "align_self": null,
            "border": null,
            "bottom": null,
            "display": null,
            "flex": null,
            "flex_flow": null,
            "grid_area": null,
            "grid_auto_columns": null,
            "grid_auto_flow": null,
            "grid_auto_rows": null,
            "grid_column": null,
            "grid_gap": null,
            "grid_row": null,
            "grid_template_areas": null,
            "grid_template_columns": null,
            "grid_template_rows": null,
            "height": null,
            "justify_content": null,
            "justify_items": null,
            "left": null,
            "margin": null,
            "max_height": null,
            "max_width": null,
            "min_height": null,
            "min_width": null,
            "object_fit": null,
            "object_position": null,
            "order": null,
            "overflow": null,
            "overflow_x": null,
            "overflow_y": null,
            "padding": null,
            "right": null,
            "top": null,
            "visibility": null,
            "width": null
          }
        },
        "f407d8f093c44dc99e51b675be2d7d24": {
          "model_module": "@jupyter-widgets/base",
          "model_name": "LayoutModel",
          "model_module_version": "1.2.0",
          "state": {
            "_model_module": "@jupyter-widgets/base",
            "_model_module_version": "1.2.0",
            "_model_name": "LayoutModel",
            "_view_count": null,
            "_view_module": "@jupyter-widgets/base",
            "_view_module_version": "1.2.0",
            "_view_name": "LayoutView",
            "align_content": null,
            "align_items": null,
            "align_self": null,
            "border": null,
            "bottom": null,
            "display": null,
            "flex": null,
            "flex_flow": null,
            "grid_area": null,
            "grid_auto_columns": null,
            "grid_auto_flow": null,
            "grid_auto_rows": null,
            "grid_column": null,
            "grid_gap": null,
            "grid_row": null,
            "grid_template_areas": null,
            "grid_template_columns": null,
            "grid_template_rows": null,
            "height": null,
            "justify_content": null,
            "justify_items": null,
            "left": null,
            "margin": null,
            "max_height": null,
            "max_width": null,
            "min_height": null,
            "min_width": null,
            "object_fit": null,
            "object_position": null,
            "order": null,
            "overflow": null,
            "overflow_x": null,
            "overflow_y": null,
            "padding": null,
            "right": null,
            "top": null,
            "visibility": null,
            "width": null
          }
        },
        "47716bc321b84212afd64473adc07b14": {
          "model_module": "@jupyter-widgets/controls",
          "model_name": "DescriptionStyleModel",
          "model_module_version": "1.5.0",
          "state": {
            "_model_module": "@jupyter-widgets/controls",
            "_model_module_version": "1.5.0",
            "_model_name": "DescriptionStyleModel",
            "_view_count": null,
            "_view_module": "@jupyter-widgets/base",
            "_view_module_version": "1.2.0",
            "_view_name": "StyleView",
            "description_width": ""
          }
        },
        "a3ebb5c0bfe442349c11ef38f4d0dc45": {
          "model_module": "@jupyter-widgets/base",
          "model_name": "LayoutModel",
          "model_module_version": "1.2.0",
          "state": {
            "_model_module": "@jupyter-widgets/base",
            "_model_module_version": "1.2.0",
            "_model_name": "LayoutModel",
            "_view_count": null,
            "_view_module": "@jupyter-widgets/base",
            "_view_module_version": "1.2.0",
            "_view_name": "LayoutView",
            "align_content": null,
            "align_items": null,
            "align_self": null,
            "border": null,
            "bottom": null,
            "display": null,
            "flex": null,
            "flex_flow": null,
            "grid_area": null,
            "grid_auto_columns": null,
            "grid_auto_flow": null,
            "grid_auto_rows": null,
            "grid_column": null,
            "grid_gap": null,
            "grid_row": null,
            "grid_template_areas": null,
            "grid_template_columns": null,
            "grid_template_rows": null,
            "height": null,
            "justify_content": null,
            "justify_items": null,
            "left": null,
            "margin": null,
            "max_height": null,
            "max_width": null,
            "min_height": null,
            "min_width": null,
            "object_fit": null,
            "object_position": null,
            "order": null,
            "overflow": null,
            "overflow_x": null,
            "overflow_y": null,
            "padding": null,
            "right": null,
            "top": null,
            "visibility": null,
            "width": null
          }
        },
        "f997910e43e04eb29b1ce741dbb994a4": {
          "model_module": "@jupyter-widgets/controls",
          "model_name": "ProgressStyleModel",
          "model_module_version": "1.5.0",
          "state": {
            "_model_module": "@jupyter-widgets/controls",
            "_model_module_version": "1.5.0",
            "_model_name": "ProgressStyleModel",
            "_view_count": null,
            "_view_module": "@jupyter-widgets/base",
            "_view_module_version": "1.2.0",
            "_view_name": "StyleView",
            "bar_color": null,
            "description_width": ""
          }
        },
        "3af5b019242147d8bcf2870f23e2132b": {
          "model_module": "@jupyter-widgets/base",
          "model_name": "LayoutModel",
          "model_module_version": "1.2.0",
          "state": {
            "_model_module": "@jupyter-widgets/base",
            "_model_module_version": "1.2.0",
            "_model_name": "LayoutModel",
            "_view_count": null,
            "_view_module": "@jupyter-widgets/base",
            "_view_module_version": "1.2.0",
            "_view_name": "LayoutView",
            "align_content": null,
            "align_items": null,
            "align_self": null,
            "border": null,
            "bottom": null,
            "display": null,
            "flex": null,
            "flex_flow": null,
            "grid_area": null,
            "grid_auto_columns": null,
            "grid_auto_flow": null,
            "grid_auto_rows": null,
            "grid_column": null,
            "grid_gap": null,
            "grid_row": null,
            "grid_template_areas": null,
            "grid_template_columns": null,
            "grid_template_rows": null,
            "height": null,
            "justify_content": null,
            "justify_items": null,
            "left": null,
            "margin": null,
            "max_height": null,
            "max_width": null,
            "min_height": null,
            "min_width": null,
            "object_fit": null,
            "object_position": null,
            "order": null,
            "overflow": null,
            "overflow_x": null,
            "overflow_y": null,
            "padding": null,
            "right": null,
            "top": null,
            "visibility": null,
            "width": null
          }
        },
        "ebd9dd33047042598738f5331ac61f4a": {
          "model_module": "@jupyter-widgets/controls",
          "model_name": "DescriptionStyleModel",
          "model_module_version": "1.5.0",
          "state": {
            "_model_module": "@jupyter-widgets/controls",
            "_model_module_version": "1.5.0",
            "_model_name": "DescriptionStyleModel",
            "_view_count": null,
            "_view_module": "@jupyter-widgets/base",
            "_view_module_version": "1.2.0",
            "_view_name": "StyleView",
            "description_width": ""
          }
        },
        "9a86786ba9394897a11b8875143061df": {
          "model_module": "@jupyter-widgets/controls",
          "model_name": "HBoxModel",
          "model_module_version": "1.5.0",
          "state": {
            "_dom_classes": [],
            "_model_module": "@jupyter-widgets/controls",
            "_model_module_version": "1.5.0",
            "_model_name": "HBoxModel",
            "_view_count": null,
            "_view_module": "@jupyter-widgets/controls",
            "_view_module_version": "1.5.0",
            "_view_name": "HBoxView",
            "box_style": "",
            "children": [
              "IPY_MODEL_26f8c2ca85a54d909f83bf3ded4929e6",
              "IPY_MODEL_b9ac650f71874c2eadace6a747243830",
              "IPY_MODEL_213240ddb7584db8ae43560c6c174d70"
            ],
            "layout": "IPY_MODEL_0a98d7967dbf46ab80307b3135dbf88a"
          }
        },
        "26f8c2ca85a54d909f83bf3ded4929e6": {
          "model_module": "@jupyter-widgets/controls",
          "model_name": "HTMLModel",
          "model_module_version": "1.5.0",
          "state": {
            "_dom_classes": [],
            "_model_module": "@jupyter-widgets/controls",
            "_model_module_version": "1.5.0",
            "_model_name": "HTMLModel",
            "_view_count": null,
            "_view_module": "@jupyter-widgets/controls",
            "_view_module_version": "1.5.0",
            "_view_name": "HTMLView",
            "description": "",
            "description_tooltip": null,
            "layout": "IPY_MODEL_a4119841b7694e35a78987143245b7fc",
            "placeholder": "​",
            "style": "IPY_MODEL_dc2d59f29a6144f3b81a874af0ea864f",
            "value": "vocab.txt: 100%"
          }
        },
        "b9ac650f71874c2eadace6a747243830": {
          "model_module": "@jupyter-widgets/controls",
          "model_name": "FloatProgressModel",
          "model_module_version": "1.5.0",
          "state": {
            "_dom_classes": [],
            "_model_module": "@jupyter-widgets/controls",
            "_model_module_version": "1.5.0",
            "_model_name": "FloatProgressModel",
            "_view_count": null,
            "_view_module": "@jupyter-widgets/controls",
            "_view_module_version": "1.5.0",
            "_view_name": "ProgressView",
            "bar_style": "success",
            "description": "",
            "description_tooltip": null,
            "layout": "IPY_MODEL_db2a06cf518a4afcabf7a6c61e8f58a1",
            "max": 231508,
            "min": 0,
            "orientation": "horizontal",
            "style": "IPY_MODEL_d168a70587004e2c9ecebef63c75c354",
            "value": 231508
          }
        },
        "213240ddb7584db8ae43560c6c174d70": {
          "model_module": "@jupyter-widgets/controls",
          "model_name": "HTMLModel",
          "model_module_version": "1.5.0",
          "state": {
            "_dom_classes": [],
            "_model_module": "@jupyter-widgets/controls",
            "_model_module_version": "1.5.0",
            "_model_name": "HTMLModel",
            "_view_count": null,
            "_view_module": "@jupyter-widgets/controls",
            "_view_module_version": "1.5.0",
            "_view_name": "HTMLView",
            "description": "",
            "description_tooltip": null,
            "layout": "IPY_MODEL_eb5ae67856234341850cc6c6d714f46a",
            "placeholder": "​",
            "style": "IPY_MODEL_16967f14405e49829affd577ef730a2a",
            "value": " 232k/232k [00:00&lt;00:00, 3.76MB/s]"
          }
        },
        "0a98d7967dbf46ab80307b3135dbf88a": {
          "model_module": "@jupyter-widgets/base",
          "model_name": "LayoutModel",
          "model_module_version": "1.2.0",
          "state": {
            "_model_module": "@jupyter-widgets/base",
            "_model_module_version": "1.2.0",
            "_model_name": "LayoutModel",
            "_view_count": null,
            "_view_module": "@jupyter-widgets/base",
            "_view_module_version": "1.2.0",
            "_view_name": "LayoutView",
            "align_content": null,
            "align_items": null,
            "align_self": null,
            "border": null,
            "bottom": null,
            "display": null,
            "flex": null,
            "flex_flow": null,
            "grid_area": null,
            "grid_auto_columns": null,
            "grid_auto_flow": null,
            "grid_auto_rows": null,
            "grid_column": null,
            "grid_gap": null,
            "grid_row": null,
            "grid_template_areas": null,
            "grid_template_columns": null,
            "grid_template_rows": null,
            "height": null,
            "justify_content": null,
            "justify_items": null,
            "left": null,
            "margin": null,
            "max_height": null,
            "max_width": null,
            "min_height": null,
            "min_width": null,
            "object_fit": null,
            "object_position": null,
            "order": null,
            "overflow": null,
            "overflow_x": null,
            "overflow_y": null,
            "padding": null,
            "right": null,
            "top": null,
            "visibility": null,
            "width": null
          }
        },
        "a4119841b7694e35a78987143245b7fc": {
          "model_module": "@jupyter-widgets/base",
          "model_name": "LayoutModel",
          "model_module_version": "1.2.0",
          "state": {
            "_model_module": "@jupyter-widgets/base",
            "_model_module_version": "1.2.0",
            "_model_name": "LayoutModel",
            "_view_count": null,
            "_view_module": "@jupyter-widgets/base",
            "_view_module_version": "1.2.0",
            "_view_name": "LayoutView",
            "align_content": null,
            "align_items": null,
            "align_self": null,
            "border": null,
            "bottom": null,
            "display": null,
            "flex": null,
            "flex_flow": null,
            "grid_area": null,
            "grid_auto_columns": null,
            "grid_auto_flow": null,
            "grid_auto_rows": null,
            "grid_column": null,
            "grid_gap": null,
            "grid_row": null,
            "grid_template_areas": null,
            "grid_template_columns": null,
            "grid_template_rows": null,
            "height": null,
            "justify_content": null,
            "justify_items": null,
            "left": null,
            "margin": null,
            "max_height": null,
            "max_width": null,
            "min_height": null,
            "min_width": null,
            "object_fit": null,
            "object_position": null,
            "order": null,
            "overflow": null,
            "overflow_x": null,
            "overflow_y": null,
            "padding": null,
            "right": null,
            "top": null,
            "visibility": null,
            "width": null
          }
        },
        "dc2d59f29a6144f3b81a874af0ea864f": {
          "model_module": "@jupyter-widgets/controls",
          "model_name": "DescriptionStyleModel",
          "model_module_version": "1.5.0",
          "state": {
            "_model_module": "@jupyter-widgets/controls",
            "_model_module_version": "1.5.0",
            "_model_name": "DescriptionStyleModel",
            "_view_count": null,
            "_view_module": "@jupyter-widgets/base",
            "_view_module_version": "1.2.0",
            "_view_name": "StyleView",
            "description_width": ""
          }
        },
        "db2a06cf518a4afcabf7a6c61e8f58a1": {
          "model_module": "@jupyter-widgets/base",
          "model_name": "LayoutModel",
          "model_module_version": "1.2.0",
          "state": {
            "_model_module": "@jupyter-widgets/base",
            "_model_module_version": "1.2.0",
            "_model_name": "LayoutModel",
            "_view_count": null,
            "_view_module": "@jupyter-widgets/base",
            "_view_module_version": "1.2.0",
            "_view_name": "LayoutView",
            "align_content": null,
            "align_items": null,
            "align_self": null,
            "border": null,
            "bottom": null,
            "display": null,
            "flex": null,
            "flex_flow": null,
            "grid_area": null,
            "grid_auto_columns": null,
            "grid_auto_flow": null,
            "grid_auto_rows": null,
            "grid_column": null,
            "grid_gap": null,
            "grid_row": null,
            "grid_template_areas": null,
            "grid_template_columns": null,
            "grid_template_rows": null,
            "height": null,
            "justify_content": null,
            "justify_items": null,
            "left": null,
            "margin": null,
            "max_height": null,
            "max_width": null,
            "min_height": null,
            "min_width": null,
            "object_fit": null,
            "object_position": null,
            "order": null,
            "overflow": null,
            "overflow_x": null,
            "overflow_y": null,
            "padding": null,
            "right": null,
            "top": null,
            "visibility": null,
            "width": null
          }
        },
        "d168a70587004e2c9ecebef63c75c354": {
          "model_module": "@jupyter-widgets/controls",
          "model_name": "ProgressStyleModel",
          "model_module_version": "1.5.0",
          "state": {
            "_model_module": "@jupyter-widgets/controls",
            "_model_module_version": "1.5.0",
            "_model_name": "ProgressStyleModel",
            "_view_count": null,
            "_view_module": "@jupyter-widgets/base",
            "_view_module_version": "1.2.0",
            "_view_name": "StyleView",
            "bar_color": null,
            "description_width": ""
          }
        },
        "eb5ae67856234341850cc6c6d714f46a": {
          "model_module": "@jupyter-widgets/base",
          "model_name": "LayoutModel",
          "model_module_version": "1.2.0",
          "state": {
            "_model_module": "@jupyter-widgets/base",
            "_model_module_version": "1.2.0",
            "_model_name": "LayoutModel",
            "_view_count": null,
            "_view_module": "@jupyter-widgets/base",
            "_view_module_version": "1.2.0",
            "_view_name": "LayoutView",
            "align_content": null,
            "align_items": null,
            "align_self": null,
            "border": null,
            "bottom": null,
            "display": null,
            "flex": null,
            "flex_flow": null,
            "grid_area": null,
            "grid_auto_columns": null,
            "grid_auto_flow": null,
            "grid_auto_rows": null,
            "grid_column": null,
            "grid_gap": null,
            "grid_row": null,
            "grid_template_areas": null,
            "grid_template_columns": null,
            "grid_template_rows": null,
            "height": null,
            "justify_content": null,
            "justify_items": null,
            "left": null,
            "margin": null,
            "max_height": null,
            "max_width": null,
            "min_height": null,
            "min_width": null,
            "object_fit": null,
            "object_position": null,
            "order": null,
            "overflow": null,
            "overflow_x": null,
            "overflow_y": null,
            "padding": null,
            "right": null,
            "top": null,
            "visibility": null,
            "width": null
          }
        },
        "16967f14405e49829affd577ef730a2a": {
          "model_module": "@jupyter-widgets/controls",
          "model_name": "DescriptionStyleModel",
          "model_module_version": "1.5.0",
          "state": {
            "_model_module": "@jupyter-widgets/controls",
            "_model_module_version": "1.5.0",
            "_model_name": "DescriptionStyleModel",
            "_view_count": null,
            "_view_module": "@jupyter-widgets/base",
            "_view_module_version": "1.2.0",
            "_view_name": "StyleView",
            "description_width": ""
          }
        },
        "f208628372694a268e482048cd830539": {
          "model_module": "@jupyter-widgets/controls",
          "model_name": "HBoxModel",
          "model_module_version": "1.5.0",
          "state": {
            "_dom_classes": [],
            "_model_module": "@jupyter-widgets/controls",
            "_model_module_version": "1.5.0",
            "_model_name": "HBoxModel",
            "_view_count": null,
            "_view_module": "@jupyter-widgets/controls",
            "_view_module_version": "1.5.0",
            "_view_name": "HBoxView",
            "box_style": "",
            "children": [
              "IPY_MODEL_fc9d22f7614742c59457fb2c370a582d",
              "IPY_MODEL_dd207a24d22c4614bf7ec9f5e5d1fa55",
              "IPY_MODEL_0f90822b8fb645dcbcfd7b9dc1d7b8d6"
            ],
            "layout": "IPY_MODEL_bcee88db1c224404bccf915f5edd8de4"
          }
        },
        "fc9d22f7614742c59457fb2c370a582d": {
          "model_module": "@jupyter-widgets/controls",
          "model_name": "HTMLModel",
          "model_module_version": "1.5.0",
          "state": {
            "_dom_classes": [],
            "_model_module": "@jupyter-widgets/controls",
            "_model_module_version": "1.5.0",
            "_model_name": "HTMLModel",
            "_view_count": null,
            "_view_module": "@jupyter-widgets/controls",
            "_view_module_version": "1.5.0",
            "_view_name": "HTMLView",
            "description": "",
            "description_tooltip": null,
            "layout": "IPY_MODEL_d8c385eb3942465abdd86daaa2beb237",
            "placeholder": "​",
            "style": "IPY_MODEL_fa58c7afd2cd4696aca8cc57a1c4245a",
            "value": "tokenizer.json: 100%"
          }
        },
        "dd207a24d22c4614bf7ec9f5e5d1fa55": {
          "model_module": "@jupyter-widgets/controls",
          "model_name": "FloatProgressModel",
          "model_module_version": "1.5.0",
          "state": {
            "_dom_classes": [],
            "_model_module": "@jupyter-widgets/controls",
            "_model_module_version": "1.5.0",
            "_model_name": "FloatProgressModel",
            "_view_count": null,
            "_view_module": "@jupyter-widgets/controls",
            "_view_module_version": "1.5.0",
            "_view_name": "ProgressView",
            "bar_style": "success",
            "description": "",
            "description_tooltip": null,
            "layout": "IPY_MODEL_6e58b0036161425aa520a77c0e5e63e9",
            "max": 466062,
            "min": 0,
            "orientation": "horizontal",
            "style": "IPY_MODEL_90e79ae74e054fba989cdc185baffa4e",
            "value": 466062
          }
        },
        "0f90822b8fb645dcbcfd7b9dc1d7b8d6": {
          "model_module": "@jupyter-widgets/controls",
          "model_name": "HTMLModel",
          "model_module_version": "1.5.0",
          "state": {
            "_dom_classes": [],
            "_model_module": "@jupyter-widgets/controls",
            "_model_module_version": "1.5.0",
            "_model_name": "HTMLModel",
            "_view_count": null,
            "_view_module": "@jupyter-widgets/controls",
            "_view_module_version": "1.5.0",
            "_view_name": "HTMLView",
            "description": "",
            "description_tooltip": null,
            "layout": "IPY_MODEL_2447d4fceb3a4204a7db80af12067232",
            "placeholder": "​",
            "style": "IPY_MODEL_8cdb7a82f09e4b76bd688af633b44e2f",
            "value": " 466k/466k [00:00&lt;00:00, 12.9MB/s]"
          }
        },
        "bcee88db1c224404bccf915f5edd8de4": {
          "model_module": "@jupyter-widgets/base",
          "model_name": "LayoutModel",
          "model_module_version": "1.2.0",
          "state": {
            "_model_module": "@jupyter-widgets/base",
            "_model_module_version": "1.2.0",
            "_model_name": "LayoutModel",
            "_view_count": null,
            "_view_module": "@jupyter-widgets/base",
            "_view_module_version": "1.2.0",
            "_view_name": "LayoutView",
            "align_content": null,
            "align_items": null,
            "align_self": null,
            "border": null,
            "bottom": null,
            "display": null,
            "flex": null,
            "flex_flow": null,
            "grid_area": null,
            "grid_auto_columns": null,
            "grid_auto_flow": null,
            "grid_auto_rows": null,
            "grid_column": null,
            "grid_gap": null,
            "grid_row": null,
            "grid_template_areas": null,
            "grid_template_columns": null,
            "grid_template_rows": null,
            "height": null,
            "justify_content": null,
            "justify_items": null,
            "left": null,
            "margin": null,
            "max_height": null,
            "max_width": null,
            "min_height": null,
            "min_width": null,
            "object_fit": null,
            "object_position": null,
            "order": null,
            "overflow": null,
            "overflow_x": null,
            "overflow_y": null,
            "padding": null,
            "right": null,
            "top": null,
            "visibility": null,
            "width": null
          }
        },
        "d8c385eb3942465abdd86daaa2beb237": {
          "model_module": "@jupyter-widgets/base",
          "model_name": "LayoutModel",
          "model_module_version": "1.2.0",
          "state": {
            "_model_module": "@jupyter-widgets/base",
            "_model_module_version": "1.2.0",
            "_model_name": "LayoutModel",
            "_view_count": null,
            "_view_module": "@jupyter-widgets/base",
            "_view_module_version": "1.2.0",
            "_view_name": "LayoutView",
            "align_content": null,
            "align_items": null,
            "align_self": null,
            "border": null,
            "bottom": null,
            "display": null,
            "flex": null,
            "flex_flow": null,
            "grid_area": null,
            "grid_auto_columns": null,
            "grid_auto_flow": null,
            "grid_auto_rows": null,
            "grid_column": null,
            "grid_gap": null,
            "grid_row": null,
            "grid_template_areas": null,
            "grid_template_columns": null,
            "grid_template_rows": null,
            "height": null,
            "justify_content": null,
            "justify_items": null,
            "left": null,
            "margin": null,
            "max_height": null,
            "max_width": null,
            "min_height": null,
            "min_width": null,
            "object_fit": null,
            "object_position": null,
            "order": null,
            "overflow": null,
            "overflow_x": null,
            "overflow_y": null,
            "padding": null,
            "right": null,
            "top": null,
            "visibility": null,
            "width": null
          }
        },
        "fa58c7afd2cd4696aca8cc57a1c4245a": {
          "model_module": "@jupyter-widgets/controls",
          "model_name": "DescriptionStyleModel",
          "model_module_version": "1.5.0",
          "state": {
            "_model_module": "@jupyter-widgets/controls",
            "_model_module_version": "1.5.0",
            "_model_name": "DescriptionStyleModel",
            "_view_count": null,
            "_view_module": "@jupyter-widgets/base",
            "_view_module_version": "1.2.0",
            "_view_name": "StyleView",
            "description_width": ""
          }
        },
        "6e58b0036161425aa520a77c0e5e63e9": {
          "model_module": "@jupyter-widgets/base",
          "model_name": "LayoutModel",
          "model_module_version": "1.2.0",
          "state": {
            "_model_module": "@jupyter-widgets/base",
            "_model_module_version": "1.2.0",
            "_model_name": "LayoutModel",
            "_view_count": null,
            "_view_module": "@jupyter-widgets/base",
            "_view_module_version": "1.2.0",
            "_view_name": "LayoutView",
            "align_content": null,
            "align_items": null,
            "align_self": null,
            "border": null,
            "bottom": null,
            "display": null,
            "flex": null,
            "flex_flow": null,
            "grid_area": null,
            "grid_auto_columns": null,
            "grid_auto_flow": null,
            "grid_auto_rows": null,
            "grid_column": null,
            "grid_gap": null,
            "grid_row": null,
            "grid_template_areas": null,
            "grid_template_columns": null,
            "grid_template_rows": null,
            "height": null,
            "justify_content": null,
            "justify_items": null,
            "left": null,
            "margin": null,
            "max_height": null,
            "max_width": null,
            "min_height": null,
            "min_width": null,
            "object_fit": null,
            "object_position": null,
            "order": null,
            "overflow": null,
            "overflow_x": null,
            "overflow_y": null,
            "padding": null,
            "right": null,
            "top": null,
            "visibility": null,
            "width": null
          }
        },
        "90e79ae74e054fba989cdc185baffa4e": {
          "model_module": "@jupyter-widgets/controls",
          "model_name": "ProgressStyleModel",
          "model_module_version": "1.5.0",
          "state": {
            "_model_module": "@jupyter-widgets/controls",
            "_model_module_version": "1.5.0",
            "_model_name": "ProgressStyleModel",
            "_view_count": null,
            "_view_module": "@jupyter-widgets/base",
            "_view_module_version": "1.2.0",
            "_view_name": "StyleView",
            "bar_color": null,
            "description_width": ""
          }
        },
        "2447d4fceb3a4204a7db80af12067232": {
          "model_module": "@jupyter-widgets/base",
          "model_name": "LayoutModel",
          "model_module_version": "1.2.0",
          "state": {
            "_model_module": "@jupyter-widgets/base",
            "_model_module_version": "1.2.0",
            "_model_name": "LayoutModel",
            "_view_count": null,
            "_view_module": "@jupyter-widgets/base",
            "_view_module_version": "1.2.0",
            "_view_name": "LayoutView",
            "align_content": null,
            "align_items": null,
            "align_self": null,
            "border": null,
            "bottom": null,
            "display": null,
            "flex": null,
            "flex_flow": null,
            "grid_area": null,
            "grid_auto_columns": null,
            "grid_auto_flow": null,
            "grid_auto_rows": null,
            "grid_column": null,
            "grid_gap": null,
            "grid_row": null,
            "grid_template_areas": null,
            "grid_template_columns": null,
            "grid_template_rows": null,
            "height": null,
            "justify_content": null,
            "justify_items": null,
            "left": null,
            "margin": null,
            "max_height": null,
            "max_width": null,
            "min_height": null,
            "min_width": null,
            "object_fit": null,
            "object_position": null,
            "order": null,
            "overflow": null,
            "overflow_x": null,
            "overflow_y": null,
            "padding": null,
            "right": null,
            "top": null,
            "visibility": null,
            "width": null
          }
        },
        "8cdb7a82f09e4b76bd688af633b44e2f": {
          "model_module": "@jupyter-widgets/controls",
          "model_name": "DescriptionStyleModel",
          "model_module_version": "1.5.0",
          "state": {
            "_model_module": "@jupyter-widgets/controls",
            "_model_module_version": "1.5.0",
            "_model_name": "DescriptionStyleModel",
            "_view_count": null,
            "_view_module": "@jupyter-widgets/base",
            "_view_module_version": "1.2.0",
            "_view_name": "StyleView",
            "description_width": ""
          }
        },
        "9220e81d70464e379376fe592768d065": {
          "model_module": "@jupyter-widgets/controls",
          "model_name": "HBoxModel",
          "model_module_version": "1.5.0",
          "state": {
            "_dom_classes": [],
            "_model_module": "@jupyter-widgets/controls",
            "_model_module_version": "1.5.0",
            "_model_name": "HBoxModel",
            "_view_count": null,
            "_view_module": "@jupyter-widgets/controls",
            "_view_module_version": "1.5.0",
            "_view_name": "HBoxView",
            "box_style": "",
            "children": [
              "IPY_MODEL_c1a6d53ffa1c48efb4f173dd5abb336f",
              "IPY_MODEL_8b9f897a9c664918b57001dd41625f35",
              "IPY_MODEL_3e7cbf197cba486b91ac58edbee45f92"
            ],
            "layout": "IPY_MODEL_bfe7e27a85384bcb9831d2f54acec281"
          }
        },
        "c1a6d53ffa1c48efb4f173dd5abb336f": {
          "model_module": "@jupyter-widgets/controls",
          "model_name": "HTMLModel",
          "model_module_version": "1.5.0",
          "state": {
            "_dom_classes": [],
            "_model_module": "@jupyter-widgets/controls",
            "_model_module_version": "1.5.0",
            "_model_name": "HTMLModel",
            "_view_count": null,
            "_view_module": "@jupyter-widgets/controls",
            "_view_module_version": "1.5.0",
            "_view_name": "HTMLView",
            "description": "",
            "description_tooltip": null,
            "layout": "IPY_MODEL_2fac4af2dec24a659ebaa7c883f03641",
            "placeholder": "​",
            "style": "IPY_MODEL_8d8983c49306425d84bc77487b285c74",
            "value": "config.json: 100%"
          }
        },
        "8b9f897a9c664918b57001dd41625f35": {
          "model_module": "@jupyter-widgets/controls",
          "model_name": "FloatProgressModel",
          "model_module_version": "1.5.0",
          "state": {
            "_dom_classes": [],
            "_model_module": "@jupyter-widgets/controls",
            "_model_module_version": "1.5.0",
            "_model_name": "FloatProgressModel",
            "_view_count": null,
            "_view_module": "@jupyter-widgets/controls",
            "_view_module_version": "1.5.0",
            "_view_name": "ProgressView",
            "bar_style": "success",
            "description": "",
            "description_tooltip": null,
            "layout": "IPY_MODEL_6f02742988d84321b2d5414f6eb825e4",
            "max": 570,
            "min": 0,
            "orientation": "horizontal",
            "style": "IPY_MODEL_14bc6275ce5c424597039d5f2e4560c1",
            "value": 570
          }
        },
        "3e7cbf197cba486b91ac58edbee45f92": {
          "model_module": "@jupyter-widgets/controls",
          "model_name": "HTMLModel",
          "model_module_version": "1.5.0",
          "state": {
            "_dom_classes": [],
            "_model_module": "@jupyter-widgets/controls",
            "_model_module_version": "1.5.0",
            "_model_name": "HTMLModel",
            "_view_count": null,
            "_view_module": "@jupyter-widgets/controls",
            "_view_module_version": "1.5.0",
            "_view_name": "HTMLView",
            "description": "",
            "description_tooltip": null,
            "layout": "IPY_MODEL_4f88e2d6475f4a2d9cfea968ceb421b3",
            "placeholder": "​",
            "style": "IPY_MODEL_ffe6037760dc4ed0903e633b85a291f9",
            "value": " 570/570 [00:00&lt;00:00, 41.8kB/s]"
          }
        },
        "bfe7e27a85384bcb9831d2f54acec281": {
          "model_module": "@jupyter-widgets/base",
          "model_name": "LayoutModel",
          "model_module_version": "1.2.0",
          "state": {
            "_model_module": "@jupyter-widgets/base",
            "_model_module_version": "1.2.0",
            "_model_name": "LayoutModel",
            "_view_count": null,
            "_view_module": "@jupyter-widgets/base",
            "_view_module_version": "1.2.0",
            "_view_name": "LayoutView",
            "align_content": null,
            "align_items": null,
            "align_self": null,
            "border": null,
            "bottom": null,
            "display": null,
            "flex": null,
            "flex_flow": null,
            "grid_area": null,
            "grid_auto_columns": null,
            "grid_auto_flow": null,
            "grid_auto_rows": null,
            "grid_column": null,
            "grid_gap": null,
            "grid_row": null,
            "grid_template_areas": null,
            "grid_template_columns": null,
            "grid_template_rows": null,
            "height": null,
            "justify_content": null,
            "justify_items": null,
            "left": null,
            "margin": null,
            "max_height": null,
            "max_width": null,
            "min_height": null,
            "min_width": null,
            "object_fit": null,
            "object_position": null,
            "order": null,
            "overflow": null,
            "overflow_x": null,
            "overflow_y": null,
            "padding": null,
            "right": null,
            "top": null,
            "visibility": null,
            "width": null
          }
        },
        "2fac4af2dec24a659ebaa7c883f03641": {
          "model_module": "@jupyter-widgets/base",
          "model_name": "LayoutModel",
          "model_module_version": "1.2.0",
          "state": {
            "_model_module": "@jupyter-widgets/base",
            "_model_module_version": "1.2.0",
            "_model_name": "LayoutModel",
            "_view_count": null,
            "_view_module": "@jupyter-widgets/base",
            "_view_module_version": "1.2.0",
            "_view_name": "LayoutView",
            "align_content": null,
            "align_items": null,
            "align_self": null,
            "border": null,
            "bottom": null,
            "display": null,
            "flex": null,
            "flex_flow": null,
            "grid_area": null,
            "grid_auto_columns": null,
            "grid_auto_flow": null,
            "grid_auto_rows": null,
            "grid_column": null,
            "grid_gap": null,
            "grid_row": null,
            "grid_template_areas": null,
            "grid_template_columns": null,
            "grid_template_rows": null,
            "height": null,
            "justify_content": null,
            "justify_items": null,
            "left": null,
            "margin": null,
            "max_height": null,
            "max_width": null,
            "min_height": null,
            "min_width": null,
            "object_fit": null,
            "object_position": null,
            "order": null,
            "overflow": null,
            "overflow_x": null,
            "overflow_y": null,
            "padding": null,
            "right": null,
            "top": null,
            "visibility": null,
            "width": null
          }
        },
        "8d8983c49306425d84bc77487b285c74": {
          "model_module": "@jupyter-widgets/controls",
          "model_name": "DescriptionStyleModel",
          "model_module_version": "1.5.0",
          "state": {
            "_model_module": "@jupyter-widgets/controls",
            "_model_module_version": "1.5.0",
            "_model_name": "DescriptionStyleModel",
            "_view_count": null,
            "_view_module": "@jupyter-widgets/base",
            "_view_module_version": "1.2.0",
            "_view_name": "StyleView",
            "description_width": ""
          }
        },
        "6f02742988d84321b2d5414f6eb825e4": {
          "model_module": "@jupyter-widgets/base",
          "model_name": "LayoutModel",
          "model_module_version": "1.2.0",
          "state": {
            "_model_module": "@jupyter-widgets/base",
            "_model_module_version": "1.2.0",
            "_model_name": "LayoutModel",
            "_view_count": null,
            "_view_module": "@jupyter-widgets/base",
            "_view_module_version": "1.2.0",
            "_view_name": "LayoutView",
            "align_content": null,
            "align_items": null,
            "align_self": null,
            "border": null,
            "bottom": null,
            "display": null,
            "flex": null,
            "flex_flow": null,
            "grid_area": null,
            "grid_auto_columns": null,
            "grid_auto_flow": null,
            "grid_auto_rows": null,
            "grid_column": null,
            "grid_gap": null,
            "grid_row": null,
            "grid_template_areas": null,
            "grid_template_columns": null,
            "grid_template_rows": null,
            "height": null,
            "justify_content": null,
            "justify_items": null,
            "left": null,
            "margin": null,
            "max_height": null,
            "max_width": null,
            "min_height": null,
            "min_width": null,
            "object_fit": null,
            "object_position": null,
            "order": null,
            "overflow": null,
            "overflow_x": null,
            "overflow_y": null,
            "padding": null,
            "right": null,
            "top": null,
            "visibility": null,
            "width": null
          }
        },
        "14bc6275ce5c424597039d5f2e4560c1": {
          "model_module": "@jupyter-widgets/controls",
          "model_name": "ProgressStyleModel",
          "model_module_version": "1.5.0",
          "state": {
            "_model_module": "@jupyter-widgets/controls",
            "_model_module_version": "1.5.0",
            "_model_name": "ProgressStyleModel",
            "_view_count": null,
            "_view_module": "@jupyter-widgets/base",
            "_view_module_version": "1.2.0",
            "_view_name": "StyleView",
            "bar_color": null,
            "description_width": ""
          }
        },
        "4f88e2d6475f4a2d9cfea968ceb421b3": {
          "model_module": "@jupyter-widgets/base",
          "model_name": "LayoutModel",
          "model_module_version": "1.2.0",
          "state": {
            "_model_module": "@jupyter-widgets/base",
            "_model_module_version": "1.2.0",
            "_model_name": "LayoutModel",
            "_view_count": null,
            "_view_module": "@jupyter-widgets/base",
            "_view_module_version": "1.2.0",
            "_view_name": "LayoutView",
            "align_content": null,
            "align_items": null,
            "align_self": null,
            "border": null,
            "bottom": null,
            "display": null,
            "flex": null,
            "flex_flow": null,
            "grid_area": null,
            "grid_auto_columns": null,
            "grid_auto_flow": null,
            "grid_auto_rows": null,
            "grid_column": null,
            "grid_gap": null,
            "grid_row": null,
            "grid_template_areas": null,
            "grid_template_columns": null,
            "grid_template_rows": null,
            "height": null,
            "justify_content": null,
            "justify_items": null,
            "left": null,
            "margin": null,
            "max_height": null,
            "max_width": null,
            "min_height": null,
            "min_width": null,
            "object_fit": null,
            "object_position": null,
            "order": null,
            "overflow": null,
            "overflow_x": null,
            "overflow_y": null,
            "padding": null,
            "right": null,
            "top": null,
            "visibility": null,
            "width": null
          }
        },
        "ffe6037760dc4ed0903e633b85a291f9": {
          "model_module": "@jupyter-widgets/controls",
          "model_name": "DescriptionStyleModel",
          "model_module_version": "1.5.0",
          "state": {
            "_model_module": "@jupyter-widgets/controls",
            "_model_module_version": "1.5.0",
            "_model_name": "DescriptionStyleModel",
            "_view_count": null,
            "_view_module": "@jupyter-widgets/base",
            "_view_module_version": "1.2.0",
            "_view_name": "StyleView",
            "description_width": ""
          }
        },
        "b405813457b84b3e8bb81ec9df4c02ad": {
          "model_module": "@jupyter-widgets/controls",
          "model_name": "HBoxModel",
          "model_module_version": "1.5.0",
          "state": {
            "_dom_classes": [],
            "_model_module": "@jupyter-widgets/controls",
            "_model_module_version": "1.5.0",
            "_model_name": "HBoxModel",
            "_view_count": null,
            "_view_module": "@jupyter-widgets/controls",
            "_view_module_version": "1.5.0",
            "_view_name": "HBoxView",
            "box_style": "",
            "children": [
              "IPY_MODEL_2b78fd3aef0744128d399a00da1c7dc8",
              "IPY_MODEL_e06b1a713e5646f99dc42e2d006bb3c2",
              "IPY_MODEL_b3a6f7c5d5dd4eb6810549a2d2fac5c6"
            ],
            "layout": "IPY_MODEL_2d3200571bee4869854a107aafbc8287"
          }
        },
        "2b78fd3aef0744128d399a00da1c7dc8": {
          "model_module": "@jupyter-widgets/controls",
          "model_name": "HTMLModel",
          "model_module_version": "1.5.0",
          "state": {
            "_dom_classes": [],
            "_model_module": "@jupyter-widgets/controls",
            "_model_module_version": "1.5.0",
            "_model_name": "HTMLModel",
            "_view_count": null,
            "_view_module": "@jupyter-widgets/controls",
            "_view_module_version": "1.5.0",
            "_view_name": "HTMLView",
            "description": "",
            "description_tooltip": null,
            "layout": "IPY_MODEL_a96d70930094482d93afaff23016392f",
            "placeholder": "​",
            "style": "IPY_MODEL_ea8042963930406e935e2f01e433ba9a",
            "value": "model.safetensors: 100%"
          }
        },
        "e06b1a713e5646f99dc42e2d006bb3c2": {
          "model_module": "@jupyter-widgets/controls",
          "model_name": "FloatProgressModel",
          "model_module_version": "1.5.0",
          "state": {
            "_dom_classes": [],
            "_model_module": "@jupyter-widgets/controls",
            "_model_module_version": "1.5.0",
            "_model_name": "FloatProgressModel",
            "_view_count": null,
            "_view_module": "@jupyter-widgets/controls",
            "_view_module_version": "1.5.0",
            "_view_name": "ProgressView",
            "bar_style": "success",
            "description": "",
            "description_tooltip": null,
            "layout": "IPY_MODEL_040c141e599f498ea9ade2b8f2cf92e1",
            "max": 440449768,
            "min": 0,
            "orientation": "horizontal",
            "style": "IPY_MODEL_d328a2d033664d6584b53d7b434e321a",
            "value": 440449768
          }
        },
        "b3a6f7c5d5dd4eb6810549a2d2fac5c6": {
          "model_module": "@jupyter-widgets/controls",
          "model_name": "HTMLModel",
          "model_module_version": "1.5.0",
          "state": {
            "_dom_classes": [],
            "_model_module": "@jupyter-widgets/controls",
            "_model_module_version": "1.5.0",
            "_model_name": "HTMLModel",
            "_view_count": null,
            "_view_module": "@jupyter-widgets/controls",
            "_view_module_version": "1.5.0",
            "_view_name": "HTMLView",
            "description": "",
            "description_tooltip": null,
            "layout": "IPY_MODEL_7ae5984e0c334ce69c3e329b5c186925",
            "placeholder": "​",
            "style": "IPY_MODEL_00f4ec66604f4f44a517b233a951248e",
            "value": " 440M/440M [00:05&lt;00:00, 96.3MB/s]"
          }
        },
        "2d3200571bee4869854a107aafbc8287": {
          "model_module": "@jupyter-widgets/base",
          "model_name": "LayoutModel",
          "model_module_version": "1.2.0",
          "state": {
            "_model_module": "@jupyter-widgets/base",
            "_model_module_version": "1.2.0",
            "_model_name": "LayoutModel",
            "_view_count": null,
            "_view_module": "@jupyter-widgets/base",
            "_view_module_version": "1.2.0",
            "_view_name": "LayoutView",
            "align_content": null,
            "align_items": null,
            "align_self": null,
            "border": null,
            "bottom": null,
            "display": null,
            "flex": null,
            "flex_flow": null,
            "grid_area": null,
            "grid_auto_columns": null,
            "grid_auto_flow": null,
            "grid_auto_rows": null,
            "grid_column": null,
            "grid_gap": null,
            "grid_row": null,
            "grid_template_areas": null,
            "grid_template_columns": null,
            "grid_template_rows": null,
            "height": null,
            "justify_content": null,
            "justify_items": null,
            "left": null,
            "margin": null,
            "max_height": null,
            "max_width": null,
            "min_height": null,
            "min_width": null,
            "object_fit": null,
            "object_position": null,
            "order": null,
            "overflow": null,
            "overflow_x": null,
            "overflow_y": null,
            "padding": null,
            "right": null,
            "top": null,
            "visibility": null,
            "width": null
          }
        },
        "a96d70930094482d93afaff23016392f": {
          "model_module": "@jupyter-widgets/base",
          "model_name": "LayoutModel",
          "model_module_version": "1.2.0",
          "state": {
            "_model_module": "@jupyter-widgets/base",
            "_model_module_version": "1.2.0",
            "_model_name": "LayoutModel",
            "_view_count": null,
            "_view_module": "@jupyter-widgets/base",
            "_view_module_version": "1.2.0",
            "_view_name": "LayoutView",
            "align_content": null,
            "align_items": null,
            "align_self": null,
            "border": null,
            "bottom": null,
            "display": null,
            "flex": null,
            "flex_flow": null,
            "grid_area": null,
            "grid_auto_columns": null,
            "grid_auto_flow": null,
            "grid_auto_rows": null,
            "grid_column": null,
            "grid_gap": null,
            "grid_row": null,
            "grid_template_areas": null,
            "grid_template_columns": null,
            "grid_template_rows": null,
            "height": null,
            "justify_content": null,
            "justify_items": null,
            "left": null,
            "margin": null,
            "max_height": null,
            "max_width": null,
            "min_height": null,
            "min_width": null,
            "object_fit": null,
            "object_position": null,
            "order": null,
            "overflow": null,
            "overflow_x": null,
            "overflow_y": null,
            "padding": null,
            "right": null,
            "top": null,
            "visibility": null,
            "width": null
          }
        },
        "ea8042963930406e935e2f01e433ba9a": {
          "model_module": "@jupyter-widgets/controls",
          "model_name": "DescriptionStyleModel",
          "model_module_version": "1.5.0",
          "state": {
            "_model_module": "@jupyter-widgets/controls",
            "_model_module_version": "1.5.0",
            "_model_name": "DescriptionStyleModel",
            "_view_count": null,
            "_view_module": "@jupyter-widgets/base",
            "_view_module_version": "1.2.0",
            "_view_name": "StyleView",
            "description_width": ""
          }
        },
        "040c141e599f498ea9ade2b8f2cf92e1": {
          "model_module": "@jupyter-widgets/base",
          "model_name": "LayoutModel",
          "model_module_version": "1.2.0",
          "state": {
            "_model_module": "@jupyter-widgets/base",
            "_model_module_version": "1.2.0",
            "_model_name": "LayoutModel",
            "_view_count": null,
            "_view_module": "@jupyter-widgets/base",
            "_view_module_version": "1.2.0",
            "_view_name": "LayoutView",
            "align_content": null,
            "align_items": null,
            "align_self": null,
            "border": null,
            "bottom": null,
            "display": null,
            "flex": null,
            "flex_flow": null,
            "grid_area": null,
            "grid_auto_columns": null,
            "grid_auto_flow": null,
            "grid_auto_rows": null,
            "grid_column": null,
            "grid_gap": null,
            "grid_row": null,
            "grid_template_areas": null,
            "grid_template_columns": null,
            "grid_template_rows": null,
            "height": null,
            "justify_content": null,
            "justify_items": null,
            "left": null,
            "margin": null,
            "max_height": null,
            "max_width": null,
            "min_height": null,
            "min_width": null,
            "object_fit": null,
            "object_position": null,
            "order": null,
            "overflow": null,
            "overflow_x": null,
            "overflow_y": null,
            "padding": null,
            "right": null,
            "top": null,
            "visibility": null,
            "width": null
          }
        },
        "d328a2d033664d6584b53d7b434e321a": {
          "model_module": "@jupyter-widgets/controls",
          "model_name": "ProgressStyleModel",
          "model_module_version": "1.5.0",
          "state": {
            "_model_module": "@jupyter-widgets/controls",
            "_model_module_version": "1.5.0",
            "_model_name": "ProgressStyleModel",
            "_view_count": null,
            "_view_module": "@jupyter-widgets/base",
            "_view_module_version": "1.2.0",
            "_view_name": "StyleView",
            "bar_color": null,
            "description_width": ""
          }
        },
        "7ae5984e0c334ce69c3e329b5c186925": {
          "model_module": "@jupyter-widgets/base",
          "model_name": "LayoutModel",
          "model_module_version": "1.2.0",
          "state": {
            "_model_module": "@jupyter-widgets/base",
            "_model_module_version": "1.2.0",
            "_model_name": "LayoutModel",
            "_view_count": null,
            "_view_module": "@jupyter-widgets/base",
            "_view_module_version": "1.2.0",
            "_view_name": "LayoutView",
            "align_content": null,
            "align_items": null,
            "align_self": null,
            "border": null,
            "bottom": null,
            "display": null,
            "flex": null,
            "flex_flow": null,
            "grid_area": null,
            "grid_auto_columns": null,
            "grid_auto_flow": null,
            "grid_auto_rows": null,
            "grid_column": null,
            "grid_gap": null,
            "grid_row": null,
            "grid_template_areas": null,
            "grid_template_columns": null,
            "grid_template_rows": null,
            "height": null,
            "justify_content": null,
            "justify_items": null,
            "left": null,
            "margin": null,
            "max_height": null,
            "max_width": null,
            "min_height": null,
            "min_width": null,
            "object_fit": null,
            "object_position": null,
            "order": null,
            "overflow": null,
            "overflow_x": null,
            "overflow_y": null,
            "padding": null,
            "right": null,
            "top": null,
            "visibility": null,
            "width": null
          }
        },
        "00f4ec66604f4f44a517b233a951248e": {
          "model_module": "@jupyter-widgets/controls",
          "model_name": "DescriptionStyleModel",
          "model_module_version": "1.5.0",
          "state": {
            "_model_module": "@jupyter-widgets/controls",
            "_model_module_version": "1.5.0",
            "_model_name": "DescriptionStyleModel",
            "_view_count": null,
            "_view_module": "@jupyter-widgets/base",
            "_view_module_version": "1.2.0",
            "_view_name": "StyleView",
            "description_width": ""
          }
        }
      }
    }
  },
  "cells": [
    {
      "cell_type": "markdown",
      "metadata": {
        "id": "view-in-github",
        "colab_type": "text"
      },
      "source": [
        "<a href=\"https://colab.research.google.com/github/vinodthadi29/CODSOFT/blob/main/Movie_Genre_Classification.ipynb\" target=\"_parent\"><img src=\"https://colab.research.google.com/assets/colab-badge.svg\" alt=\"Open In Colab\"/></a>"
      ]
    },
    {
      "cell_type": "code",
      "source": [
        "# Install necessary libraries\n",
        "!pip install pandas numpy scikit-learn matplotlib seaborn nltk transformers"
      ],
      "metadata": {
        "colab": {
          "base_uri": "https://localhost:8080/"
        },
        "id": "knZSz0HqXooK",
        "outputId": "0e23cde5-dd30-4979-8535-93b136450f73"
      },
      "execution_count": null,
      "outputs": [
        {
          "output_type": "stream",
          "name": "stdout",
          "text": [
            "Requirement already satisfied: pandas in /usr/local/lib/python3.11/dist-packages (2.2.2)\n",
            "Requirement already satisfied: numpy in /usr/local/lib/python3.11/dist-packages (1.24.3)\n",
            "Requirement already satisfied: scikit-learn in /usr/local/lib/python3.11/dist-packages (1.6.0)\n",
            "Requirement already satisfied: matplotlib in /usr/local/lib/python3.11/dist-packages (3.10.0)\n",
            "Requirement already satisfied: seaborn in /usr/local/lib/python3.11/dist-packages (0.13.2)\n",
            "Requirement already satisfied: nltk in /usr/local/lib/python3.11/dist-packages (3.9.1)\n",
            "Requirement already satisfied: transformers in /usr/local/lib/python3.11/dist-packages (4.47.1)\n",
            "Requirement already satisfied: python-dateutil>=2.8.2 in /usr/local/lib/python3.11/dist-packages (from pandas) (2.8.2)\n",
            "Requirement already satisfied: pytz>=2020.1 in /usr/local/lib/python3.11/dist-packages (from pandas) (2024.2)\n",
            "Requirement already satisfied: tzdata>=2022.7 in /usr/local/lib/python3.11/dist-packages (from pandas) (2024.2)\n",
            "Requirement already satisfied: scipy>=1.6.0 in /usr/local/lib/python3.11/dist-packages (from scikit-learn) (1.13.1)\n",
            "Requirement already satisfied: joblib>=1.2.0 in /usr/local/lib/python3.11/dist-packages (from scikit-learn) (1.4.2)\n",
            "Requirement already satisfied: threadpoolctl>=3.1.0 in /usr/local/lib/python3.11/dist-packages (from scikit-learn) (3.5.0)\n",
            "Requirement already satisfied: contourpy>=1.0.1 in /usr/local/lib/python3.11/dist-packages (from matplotlib) (1.3.1)\n",
            "Requirement already satisfied: cycler>=0.10 in /usr/local/lib/python3.11/dist-packages (from matplotlib) (0.12.1)\n",
            "Requirement already satisfied: fonttools>=4.22.0 in /usr/local/lib/python3.11/dist-packages (from matplotlib) (4.55.3)\n",
            "Requirement already satisfied: kiwisolver>=1.3.1 in /usr/local/lib/python3.11/dist-packages (from matplotlib) (1.4.8)\n",
            "Requirement already satisfied: packaging>=20.0 in /usr/local/lib/python3.11/dist-packages (from matplotlib) (24.2)\n",
            "Requirement already satisfied: pillow>=8 in /usr/local/lib/python3.11/dist-packages (from matplotlib) (11.1.0)\n",
            "Requirement already satisfied: pyparsing>=2.3.1 in /usr/local/lib/python3.11/dist-packages (from matplotlib) (3.2.1)\n",
            "Requirement already satisfied: click in /usr/local/lib/python3.11/dist-packages (from nltk) (8.1.8)\n",
            "Requirement already satisfied: regex>=2021.8.3 in /usr/local/lib/python3.11/dist-packages (from nltk) (2024.11.6)\n",
            "Requirement already satisfied: tqdm in /usr/local/lib/python3.11/dist-packages (from nltk) (4.67.1)\n",
            "Requirement already satisfied: filelock in /usr/local/lib/python3.11/dist-packages (from transformers) (3.16.1)\n",
            "Requirement already satisfied: huggingface-hub<1.0,>=0.24.0 in /usr/local/lib/python3.11/dist-packages (from transformers) (0.27.1)\n",
            "Requirement already satisfied: pyyaml>=5.1 in /usr/local/lib/python3.11/dist-packages (from transformers) (6.0.2)\n",
            "Requirement already satisfied: requests in /usr/local/lib/python3.11/dist-packages (from transformers) (2.32.3)\n",
            "Requirement already satisfied: tokenizers<0.22,>=0.21 in /usr/local/lib/python3.11/dist-packages (from transformers) (0.21.0)\n",
            "Requirement already satisfied: safetensors>=0.4.1 in /usr/local/lib/python3.11/dist-packages (from transformers) (0.5.2)\n",
            "Requirement already satisfied: fsspec>=2023.5.0 in /usr/local/lib/python3.11/dist-packages (from huggingface-hub<1.0,>=0.24.0->transformers) (2024.10.0)\n",
            "Requirement already satisfied: typing-extensions>=3.7.4.3 in /usr/local/lib/python3.11/dist-packages (from huggingface-hub<1.0,>=0.24.0->transformers) (4.12.2)\n",
            "Requirement already satisfied: six>=1.5 in /usr/local/lib/python3.11/dist-packages (from python-dateutil>=2.8.2->pandas) (1.17.0)\n",
            "Requirement already satisfied: charset-normalizer<4,>=2 in /usr/local/lib/python3.11/dist-packages (from requests->transformers) (3.4.1)\n",
            "Requirement already satisfied: idna<4,>=2.5 in /usr/local/lib/python3.11/dist-packages (from requests->transformers) (3.10)\n",
            "Requirement already satisfied: urllib3<3,>=1.21.1 in /usr/local/lib/python3.11/dist-packages (from requests->transformers) (2.3.0)\n",
            "Requirement already satisfied: certifi>=2017.4.17 in /usr/local/lib/python3.11/dist-packages (from requests->transformers) (2024.12.14)\n"
          ]
        }
      ]
    },
    {
      "cell_type": "code",
      "source": [
        "# Import essential libraries\n",
        "import pandas as pd\n",
        "import numpy as np\n",
        "import matplotlib.pyplot as plt\n",
        "import seaborn as sns\n",
        "from sklearn.feature_extraction.text import TfidfVectorizer\n",
        "from sklearn.naive_bayes import MultinomialNB\n",
        "from sklearn.linear_model import LogisticRegression\n",
        "from sklearn.metrics import classification_report, accuracy_score\n",
        "# Instead of 'from sklearn.preprocessing import MultilabelBinarizer',\n",
        "# use the following import statement to accommodate version changes\n",
        "from sklearn.preprocessing import MultiLabelBinarizer\n",
        "from sklearn.model_selection import train_test_split, GridSearchCV\n",
        "from sklearn.multiclass import OneVsRestClassifier\n",
        "import nltk\n",
        "from nltk.corpus import stopwords\n",
        "from nltk.stem import WordNetLemmatizer\n",
        "import re\n",
        "import torch\n",
        "from transformers import BertTokenizer, BertModel\n",
        "import pickle\n",
        "import warnings"
      ],
      "metadata": {
        "id": "CVJriLHsXpA7"
      },
      "execution_count": null,
      "outputs": []
    },
    {
      "cell_type": "code",
      "source": [
        "# Suppress warnings for cleaner output\n",
        "warnings.filterwarnings(\"ignore\")"
      ],
      "metadata": {
        "id": "csE9ETOxXpIx"
      },
      "execution_count": null,
      "outputs": []
    },
    {
      "cell_type": "code",
      "source": [
        "# Download nltk resources\n",
        "nltk.download('stopwords')\n",
        "nltk.download('wordnet')"
      ],
      "metadata": {
        "colab": {
          "base_uri": "https://localhost:8080/"
        },
        "id": "YwCk-YyjXpPR",
        "outputId": "1738ebee-9f76-40f1-ae48-c1c86835c8e5"
      },
      "execution_count": null,
      "outputs": [
        {
          "output_type": "stream",
          "name": "stderr",
          "text": [
            "[nltk_data] Downloading package stopwords to /root/nltk_data...\n",
            "[nltk_data]   Unzipping corpora/stopwords.zip.\n",
            "[nltk_data] Downloading package wordnet to /root/nltk_data...\n"
          ]
        },
        {
          "output_type": "execute_result",
          "data": {
            "text/plain": [
              "True"
            ]
          },
          "metadata": {},
          "execution_count": 4
        }
      ]
    },
    {
      "cell_type": "code",
      "source": [
        "# Preprocessing helper functions\n",
        "stop_words = set(stopwords.words('english'))\n",
        "lemmatizer = WordNetLemmatizer()"
      ],
      "metadata": {
        "id": "cixH-2CgXpsg"
      },
      "execution_count": null,
      "outputs": []
    },
    {
      "cell_type": "code",
      "source": [
        "def preprocess_text(text):\n",
        "    \"\"\"Clean and preprocess a given text.\"\"\"\n",
        "    text = re.sub(r'[^a-zA-Z\\s]', '', text.lower())  # Remove non-alphabetic characters\n",
        "    tokens = [lemmatizer.lemmatize(word) for word in text.split() if word not in stop_words]\n",
        "    return ' '.join(tokens)"
      ],
      "metadata": {
        "id": "v96dTsGrXpU0"
      },
      "execution_count": null,
      "outputs": []
    },
    {
      "cell_type": "code",
      "source": [
        "# Load the data\n",
        "train_data = pd.read_csv('/content/train_data.txt.zip', sep=':::', names=[\"Movie_name\", \"Gener\", \"Description\"])\n",
        "print(\"\\nTraining Data Sample:\")\n",
        "print(train_data.head())"
      ],
      "metadata": {
        "colab": {
          "base_uri": "https://localhost:8080/"
        },
        "id": "7Wm6SOngXpcP",
        "outputId": "51ae45e3-39ed-49b8-ea4e-0354a352cb19"
      },
      "execution_count": null,
      "outputs": [
        {
          "output_type": "stream",
          "name": "stdout",
          "text": [
            "\n",
            "Training Data Sample:\n",
            "                           Movie_name       Gener  \\\n",
            "1       Oscar et la dame rose (2009)       drama    \n",
            "2                       Cupid (1997)    thriller    \n",
            "3   Young, Wild and Wonderful (1980)       adult    \n",
            "4              The Secret Sin (1915)       drama    \n",
            "5             The Unrecovered (2007)       drama    \n",
            "\n",
            "                                         Description  \n",
            "1   Listening in to a conversation between his do...  \n",
            "2   A brother and sister with a past incestuous r...  \n",
            "3   As the bus empties the students for their fie...  \n",
            "4   To help their unemployed father make ends mee...  \n",
            "5   The film's title refers not only to the un-re...  \n"
          ]
        }
      ]
    },
    {
      "cell_type": "code",
      "source": [
        "train_data.describe()"
      ],
      "metadata": {
        "colab": {
          "base_uri": "https://localhost:8080/",
          "height": 264
        },
        "id": "xXTK4-I4yllz",
        "outputId": "c5db8156-5b3a-41b5-bb1e-11fed1278b68"
      },
      "execution_count": null,
      "outputs": [
        {
          "output_type": "execute_result",
          "data": {
            "text/plain": [
              "                            Movie_name    Gener  \\\n",
              "count                            54214    54214   \n",
              "unique                           54214       27   \n",
              "top      Oscar et la dame rose (2009)    drama    \n",
              "freq                                 1    13613   \n",
              "\n",
              "                                              Description  \n",
              "count                                               54214  \n",
              "unique                                              54086  \n",
              "top      Grammy - music award of the American academy ...  \n",
              "freq                                                   12  "
            ],
            "text/html": [
              "\n",
              "  <div id=\"df-369bf50d-bb91-46e0-8800-37dcf78ade2a\" class=\"colab-df-container\">\n",
              "    <div>\n",
              "<style scoped>\n",
              "    .dataframe tbody tr th:only-of-type {\n",
              "        vertical-align: middle;\n",
              "    }\n",
              "\n",
              "    .dataframe tbody tr th {\n",
              "        vertical-align: top;\n",
              "    }\n",
              "\n",
              "    .dataframe thead th {\n",
              "        text-align: right;\n",
              "    }\n",
              "</style>\n",
              "<table border=\"1\" class=\"dataframe\">\n",
              "  <thead>\n",
              "    <tr style=\"text-align: right;\">\n",
              "      <th></th>\n",
              "      <th>Movie_name</th>\n",
              "      <th>Gener</th>\n",
              "      <th>Description</th>\n",
              "    </tr>\n",
              "  </thead>\n",
              "  <tbody>\n",
              "    <tr>\n",
              "      <th>count</th>\n",
              "      <td>54214</td>\n",
              "      <td>54214</td>\n",
              "      <td>54214</td>\n",
              "    </tr>\n",
              "    <tr>\n",
              "      <th>unique</th>\n",
              "      <td>54214</td>\n",
              "      <td>27</td>\n",
              "      <td>54086</td>\n",
              "    </tr>\n",
              "    <tr>\n",
              "      <th>top</th>\n",
              "      <td>Oscar et la dame rose (2009)</td>\n",
              "      <td>drama</td>\n",
              "      <td>Grammy - music award of the American academy ...</td>\n",
              "    </tr>\n",
              "    <tr>\n",
              "      <th>freq</th>\n",
              "      <td>1</td>\n",
              "      <td>13613</td>\n",
              "      <td>12</td>\n",
              "    </tr>\n",
              "  </tbody>\n",
              "</table>\n",
              "</div>\n",
              "    <div class=\"colab-df-buttons\">\n",
              "\n",
              "  <div class=\"colab-df-container\">\n",
              "    <button class=\"colab-df-convert\" onclick=\"convertToInteractive('df-369bf50d-bb91-46e0-8800-37dcf78ade2a')\"\n",
              "            title=\"Convert this dataframe to an interactive table.\"\n",
              "            style=\"display:none;\">\n",
              "\n",
              "  <svg xmlns=\"http://www.w3.org/2000/svg\" height=\"24px\" viewBox=\"0 -960 960 960\">\n",
              "    <path d=\"M120-120v-720h720v720H120Zm60-500h600v-160H180v160Zm220 220h160v-160H400v160Zm0 220h160v-160H400v160ZM180-400h160v-160H180v160Zm440 0h160v-160H620v160ZM180-180h160v-160H180v160Zm440 0h160v-160H620v160Z\"/>\n",
              "  </svg>\n",
              "    </button>\n",
              "\n",
              "  <style>\n",
              "    .colab-df-container {\n",
              "      display:flex;\n",
              "      gap: 12px;\n",
              "    }\n",
              "\n",
              "    .colab-df-convert {\n",
              "      background-color: #E8F0FE;\n",
              "      border: none;\n",
              "      border-radius: 50%;\n",
              "      cursor: pointer;\n",
              "      display: none;\n",
              "      fill: #1967D2;\n",
              "      height: 32px;\n",
              "      padding: 0 0 0 0;\n",
              "      width: 32px;\n",
              "    }\n",
              "\n",
              "    .colab-df-convert:hover {\n",
              "      background-color: #E2EBFA;\n",
              "      box-shadow: 0px 1px 2px rgba(60, 64, 67, 0.3), 0px 1px 3px 1px rgba(60, 64, 67, 0.15);\n",
              "      fill: #174EA6;\n",
              "    }\n",
              "\n",
              "    .colab-df-buttons div {\n",
              "      margin-bottom: 4px;\n",
              "    }\n",
              "\n",
              "    [theme=dark] .colab-df-convert {\n",
              "      background-color: #3B4455;\n",
              "      fill: #D2E3FC;\n",
              "    }\n",
              "\n",
              "    [theme=dark] .colab-df-convert:hover {\n",
              "      background-color: #434B5C;\n",
              "      box-shadow: 0px 1px 3px 1px rgba(0, 0, 0, 0.15);\n",
              "      filter: drop-shadow(0px 1px 2px rgba(0, 0, 0, 0.3));\n",
              "      fill: #FFFFFF;\n",
              "    }\n",
              "  </style>\n",
              "\n",
              "    <script>\n",
              "      const buttonEl =\n",
              "        document.querySelector('#df-369bf50d-bb91-46e0-8800-37dcf78ade2a button.colab-df-convert');\n",
              "      buttonEl.style.display =\n",
              "        google.colab.kernel.accessAllowed ? 'block' : 'none';\n",
              "\n",
              "      async function convertToInteractive(key) {\n",
              "        const element = document.querySelector('#df-369bf50d-bb91-46e0-8800-37dcf78ade2a');\n",
              "        const dataTable =\n",
              "          await google.colab.kernel.invokeFunction('convertToInteractive',\n",
              "                                                    [key], {});\n",
              "        if (!dataTable) return;\n",
              "\n",
              "        const docLinkHtml = 'Like what you see? Visit the ' +\n",
              "          '<a target=\"_blank\" href=https://colab.research.google.com/notebooks/data_table.ipynb>data table notebook</a>'\n",
              "          + ' to learn more about interactive tables.';\n",
              "        element.innerHTML = '';\n",
              "        dataTable['output_type'] = 'display_data';\n",
              "        await google.colab.output.renderOutput(dataTable, element);\n",
              "        const docLink = document.createElement('div');\n",
              "        docLink.innerHTML = docLinkHtml;\n",
              "        element.appendChild(docLink);\n",
              "      }\n",
              "    </script>\n",
              "  </div>\n",
              "\n",
              "\n",
              "<div id=\"df-8ec3eab9-5b1f-48aa-9fc8-ba8418af16bb\">\n",
              "  <button class=\"colab-df-quickchart\" onclick=\"quickchart('df-8ec3eab9-5b1f-48aa-9fc8-ba8418af16bb')\"\n",
              "            title=\"Suggest charts\"\n",
              "            style=\"display:none;\">\n",
              "\n",
              "<svg xmlns=\"http://www.w3.org/2000/svg\" height=\"24px\"viewBox=\"0 0 24 24\"\n",
              "     width=\"24px\">\n",
              "    <g>\n",
              "        <path d=\"M19 3H5c-1.1 0-2 .9-2 2v14c0 1.1.9 2 2 2h14c1.1 0 2-.9 2-2V5c0-1.1-.9-2-2-2zM9 17H7v-7h2v7zm4 0h-2V7h2v10zm4 0h-2v-4h2v4z\"/>\n",
              "    </g>\n",
              "</svg>\n",
              "  </button>\n",
              "\n",
              "<style>\n",
              "  .colab-df-quickchart {\n",
              "      --bg-color: #E8F0FE;\n",
              "      --fill-color: #1967D2;\n",
              "      --hover-bg-color: #E2EBFA;\n",
              "      --hover-fill-color: #174EA6;\n",
              "      --disabled-fill-color: #AAA;\n",
              "      --disabled-bg-color: #DDD;\n",
              "  }\n",
              "\n",
              "  [theme=dark] .colab-df-quickchart {\n",
              "      --bg-color: #3B4455;\n",
              "      --fill-color: #D2E3FC;\n",
              "      --hover-bg-color: #434B5C;\n",
              "      --hover-fill-color: #FFFFFF;\n",
              "      --disabled-bg-color: #3B4455;\n",
              "      --disabled-fill-color: #666;\n",
              "  }\n",
              "\n",
              "  .colab-df-quickchart {\n",
              "    background-color: var(--bg-color);\n",
              "    border: none;\n",
              "    border-radius: 50%;\n",
              "    cursor: pointer;\n",
              "    display: none;\n",
              "    fill: var(--fill-color);\n",
              "    height: 32px;\n",
              "    padding: 0;\n",
              "    width: 32px;\n",
              "  }\n",
              "\n",
              "  .colab-df-quickchart:hover {\n",
              "    background-color: var(--hover-bg-color);\n",
              "    box-shadow: 0 1px 2px rgba(60, 64, 67, 0.3), 0 1px 3px 1px rgba(60, 64, 67, 0.15);\n",
              "    fill: var(--button-hover-fill-color);\n",
              "  }\n",
              "\n",
              "  .colab-df-quickchart-complete:disabled,\n",
              "  .colab-df-quickchart-complete:disabled:hover {\n",
              "    background-color: var(--disabled-bg-color);\n",
              "    fill: var(--disabled-fill-color);\n",
              "    box-shadow: none;\n",
              "  }\n",
              "\n",
              "  .colab-df-spinner {\n",
              "    border: 2px solid var(--fill-color);\n",
              "    border-color: transparent;\n",
              "    border-bottom-color: var(--fill-color);\n",
              "    animation:\n",
              "      spin 1s steps(1) infinite;\n",
              "  }\n",
              "\n",
              "  @keyframes spin {\n",
              "    0% {\n",
              "      border-color: transparent;\n",
              "      border-bottom-color: var(--fill-color);\n",
              "      border-left-color: var(--fill-color);\n",
              "    }\n",
              "    20% {\n",
              "      border-color: transparent;\n",
              "      border-left-color: var(--fill-color);\n",
              "      border-top-color: var(--fill-color);\n",
              "    }\n",
              "    30% {\n",
              "      border-color: transparent;\n",
              "      border-left-color: var(--fill-color);\n",
              "      border-top-color: var(--fill-color);\n",
              "      border-right-color: var(--fill-color);\n",
              "    }\n",
              "    40% {\n",
              "      border-color: transparent;\n",
              "      border-right-color: var(--fill-color);\n",
              "      border-top-color: var(--fill-color);\n",
              "    }\n",
              "    60% {\n",
              "      border-color: transparent;\n",
              "      border-right-color: var(--fill-color);\n",
              "    }\n",
              "    80% {\n",
              "      border-color: transparent;\n",
              "      border-right-color: var(--fill-color);\n",
              "      border-bottom-color: var(--fill-color);\n",
              "    }\n",
              "    90% {\n",
              "      border-color: transparent;\n",
              "      border-bottom-color: var(--fill-color);\n",
              "    }\n",
              "  }\n",
              "</style>\n",
              "\n",
              "  <script>\n",
              "    async function quickchart(key) {\n",
              "      const quickchartButtonEl =\n",
              "        document.querySelector('#' + key + ' button');\n",
              "      quickchartButtonEl.disabled = true;  // To prevent multiple clicks.\n",
              "      quickchartButtonEl.classList.add('colab-df-spinner');\n",
              "      try {\n",
              "        const charts = await google.colab.kernel.invokeFunction(\n",
              "            'suggestCharts', [key], {});\n",
              "      } catch (error) {\n",
              "        console.error('Error during call to suggestCharts:', error);\n",
              "      }\n",
              "      quickchartButtonEl.classList.remove('colab-df-spinner');\n",
              "      quickchartButtonEl.classList.add('colab-df-quickchart-complete');\n",
              "    }\n",
              "    (() => {\n",
              "      let quickchartButtonEl =\n",
              "        document.querySelector('#df-8ec3eab9-5b1f-48aa-9fc8-ba8418af16bb button');\n",
              "      quickchartButtonEl.style.display =\n",
              "        google.colab.kernel.accessAllowed ? 'block' : 'none';\n",
              "    })();\n",
              "  </script>\n",
              "</div>\n",
              "\n",
              "    </div>\n",
              "  </div>\n"
            ],
            "application/vnd.google.colaboratory.intrinsic+json": {
              "type": "dataframe",
              "summary": "{\n  \"name\": \"train_data\",\n  \"rows\": 4,\n  \"fields\": [\n    {\n      \"column\": \"Movie_name\",\n      \"properties\": {\n        \"dtype\": \"string\",\n        \"num_unique_values\": 3,\n        \"samples\": [\n          \"54214\",\n          \" Oscar et la dame rose (2009) \",\n          \"1\"\n        ],\n        \"semantic_type\": \"\",\n        \"description\": \"\"\n      }\n    },\n    {\n      \"column\": \"Gener\",\n      \"properties\": {\n        \"dtype\": \"string\",\n        \"num_unique_values\": 4,\n        \"samples\": [\n          27,\n          \"13613\",\n          \"54214\"\n        ],\n        \"semantic_type\": \"\",\n        \"description\": \"\"\n      }\n    },\n    {\n      \"column\": \"Description\",\n      \"properties\": {\n        \"dtype\": \"string\",\n        \"num_unique_values\": 4,\n        \"samples\": [\n          54086,\n          \"12\",\n          \"54214\"\n        ],\n        \"semantic_type\": \"\",\n        \"description\": \"\"\n      }\n    }\n  ]\n}"
            }
          },
          "metadata": {},
          "execution_count": 8
        }
      ]
    },
    {
      "cell_type": "code",
      "source": [
        "train_data.info()"
      ],
      "metadata": {
        "colab": {
          "base_uri": "https://localhost:8080/"
        },
        "id": "nHdeM9QByqVm",
        "outputId": "7575d525-43f8-49e3-a49c-05240dc7776a"
      },
      "execution_count": null,
      "outputs": [
        {
          "output_type": "stream",
          "name": "stdout",
          "text": [
            "<class 'pandas.core.frame.DataFrame'>\n",
            "Index: 54214 entries, 1 to 54214\n",
            "Data columns (total 3 columns):\n",
            " #   Column       Non-Null Count  Dtype \n",
            "---  ------       --------------  ----- \n",
            " 0   Movie_name   54214 non-null  object\n",
            " 1   Gener        54214 non-null  object\n",
            " 2   Description  54214 non-null  object\n",
            "dtypes: object(3)\n",
            "memory usage: 1.7+ MB\n"
          ]
        }
      ]
    },
    {
      "cell_type": "code",
      "source": [
        "test_data = pd.read_csv('/content/test_data.txt.zip', sep='\\t', header=None, names=['plot_summary'])\n",
        "print(\"\\nTest Data Sample:\")\n",
        "print(test_data.head())"
      ],
      "metadata": {
        "colab": {
          "base_uri": "https://localhost:8080/"
        },
        "id": "AN-P9Go8Xphq",
        "outputId": "a0e21609-784e-4701-cc97-dcbfbb3e82fd"
      },
      "execution_count": null,
      "outputs": [
        {
          "output_type": "stream",
          "name": "stdout",
          "text": [
            "\n",
            "Test Data Sample:\n",
            "                                        plot_summary\n",
            "0  1 ::: Edgar's Lunch (1998) ::: L.R. Brane love...\n",
            "1  2 ::: La guerra de papá (1977) ::: Spain, Marc...\n",
            "2  3 ::: Off the Beaten Track (2010) ::: One year...\n",
            "3  4 ::: Meu Amigo Hindu (2015) ::: His father ha...\n",
            "4  5 ::: Er nu zhai (1955) ::: Before he was know...\n"
          ]
        }
      ]
    },
    {
      "cell_type": "code",
      "source": [
        "test_data.info()"
      ],
      "metadata": {
        "colab": {
          "base_uri": "https://localhost:8080/"
        },
        "id": "Rq8W6VoRywZo",
        "outputId": "e4bf0582-7356-4371-e35a-2940f0863f75"
      },
      "execution_count": null,
      "outputs": [
        {
          "output_type": "stream",
          "name": "stdout",
          "text": [
            "<class 'pandas.core.frame.DataFrame'>\n",
            "RangeIndex: 54200 entries, 0 to 54199\n",
            "Data columns (total 1 columns):\n",
            " #   Column        Non-Null Count  Dtype \n",
            "---  ------        --------------  ----- \n",
            " 0   plot_summary  54200 non-null  object\n",
            "dtypes: object(1)\n",
            "memory usage: 423.6+ KB\n"
          ]
        }
      ]
    },
    {
      "cell_type": "code",
      "source": [
        "test_solution = pd.read_csv('/content/test_data_solution.txt.zip', sep='\\t', header=None, names=['plot_summary', 'genre'])\n",
        "print(\"\\nTest Data Solution Sample:\")\n",
        "print(test_solution.head())"
      ],
      "metadata": {
        "colab": {
          "base_uri": "https://localhost:8080/"
        },
        "id": "dOjGcQKVXpks",
        "outputId": "b136ddf0-edfc-416e-c79d-0699fe99203b"
      },
      "execution_count": null,
      "outputs": [
        {
          "output_type": "stream",
          "name": "stdout",
          "text": [
            "\n",
            "Test Data Solution Sample:\n",
            "                                        plot_summary  genre\n",
            "0  1 ::: Edgar's Lunch (1998) ::: thriller ::: L....    NaN\n",
            "1  2 ::: La guerra de papá (1977) ::: comedy ::: ...    NaN\n",
            "2  3 ::: Off the Beaten Track (2010) ::: document...    NaN\n",
            "3  4 ::: Meu Amigo Hindu (2015) ::: drama ::: His...    NaN\n",
            "4  5 ::: Er nu zhai (1955) ::: drama ::: Before h...    NaN\n"
          ]
        }
      ]
    },
    {
      "cell_type": "code",
      "source": [
        "# Handle missing genres by marking them as empty lists\n",
        "train_data['genre'] = train_data['Gener'].fillna('Unknown').apply(lambda x: [])\n",
        "test_solution['genre'] = test_solution['genre'].fillna('Unknown').apply(lambda x: [])"
      ],
      "metadata": {
        "id": "jreAkf2JXpoE"
      },
      "execution_count": null,
      "outputs": []
    },
    {
      "cell_type": "code",
      "source": [
        "# Check for missing values\n",
        "print(\"\\nChecking for missing values in training data:\")\n",
        "print(train_data.isnull().sum())\n",
        "print(\"\\nChecking for missing values in test data:\")\n",
        "print(test_data.isnull().sum())"
      ],
      "metadata": {
        "colab": {
          "base_uri": "https://localhost:8080/"
        },
        "id": "OPyq4WDHYsXw",
        "outputId": "a295fff6-bc09-4cd5-a479-efc0e9891285"
      },
      "execution_count": null,
      "outputs": [
        {
          "output_type": "stream",
          "name": "stdout",
          "text": [
            "\n",
            "Checking for missing values in training data:\n",
            "Movie_name     0\n",
            "Gener          0\n",
            "Description    0\n",
            "genre          0\n",
            "dtype: int64\n",
            "\n",
            "Checking for missing values in test data:\n",
            "plot_summary    0\n",
            "dtype: int64\n"
          ]
        }
      ]
    },
    {
      "cell_type": "code",
      "source": [
        "# Rename the 'Description' column to 'plot_summary'\n",
        "train_data = train_data.rename(columns={'Description': 'plot_summary'})"
      ],
      "metadata": {
        "id": "FskN2cxWYvvH"
      },
      "execution_count": null,
      "outputs": []
    },
    {
      "cell_type": "code",
      "source": [
        "# Check and remove duplicates based on 'plot_summary' only\n",
        "print(\"\\nChecking for duplicates in training data...\")\n",
        "print(\"Duplicates found:\", train_data['plot_summary'].duplicated().sum())\n",
        "train_data = train_data[~train_data['plot_summary'].duplicated()]"
      ],
      "metadata": {
        "colab": {
          "base_uri": "https://localhost:8080/"
        },
        "id": "6a5R7TryYwXB",
        "outputId": "91b47e74-f3c0-4f76-fa19-ffc06a9f90d7"
      },
      "execution_count": null,
      "outputs": [
        {
          "output_type": "stream",
          "name": "stdout",
          "text": [
            "\n",
            "Checking for duplicates in training data...\n",
            "Duplicates found: 128\n"
          ]
        }
      ]
    },
    {
      "cell_type": "code",
      "source": [
        "# Check dataset size after cleaning\n",
        "print(\"\\nDataset sizes after cleaning:\")\n",
        "print(\"Training data size:\", train_data.shape)\n",
        "print(\"Test data size:\", test_data.shape)"
      ],
      "metadata": {
        "colab": {
          "base_uri": "https://localhost:8080/"
        },
        "id": "0kdgUk38Y4AP",
        "outputId": "c86e9b22-b951-4717-ad74-4024530dbb78"
      },
      "execution_count": null,
      "outputs": [
        {
          "output_type": "stream",
          "name": "stdout",
          "text": [
            "\n",
            "Dataset sizes after cleaning:\n",
            "Training data size: (54056, 7)\n",
            "Test data size: (54185, 3)\n"
          ]
        }
      ]
    },
    {
      "cell_type": "code",
      "source": [
        "# Plot the distribution of genres\n",
        "plt.figure(figsize=(15,15))\n",
        "plt.pie(train_data['Gener'].value_counts(), labels=train_data['Gener'].value_counts().index, autopct='%0.1f%%')\n",
        "plt.show()"
      ],
      "metadata": {
        "colab": {
          "base_uri": "https://localhost:8080/",
          "height": 348
        },
        "id": "QCR4Oqg0Y7e8",
        "outputId": "1ff17bf3-a4da-4ed1-d5d8-3d916e3ea874"
      },
      "execution_count": null,
      "outputs": [
        {
          "output_type": "display_data",
          "data": {
            "text/plain": [
              "<Figure size 1500x1500 with 1 Axes>"
            ],
            "image/png": "[encoded data removed]"
          },
          "metadata": {}
        }
      ]
    },
    {
      "cell_type": "code",
      "source": [
        "# Check plot summary lengths\n",
        "train_data['summary_length'] = train_data['plot_summary'].apply(len)\n",
        "test_data['summary_length'] = test_data['plot_summary'].apply(len)"
      ],
      "metadata": {
        "id": "pMVkBnTUY_Fw"
      },
      "execution_count": null,
      "outputs": []
    },
    {
      "cell_type": "code",
      "source": [
        "# Plot the distribution of plot summary lengths\n",
        "plt.figure(figsize=(10, 5))\n",
        "sns.histplot(train_data['summary_length'], bins=50, kde=True, color='blue', label='Train')\n",
        "sns.histplot(test_data['summary_length'], bins=50, kde=True, color='orange', label='Test')\n",
        "plt.title('Plot Summary Length Distribution')\n",
        "plt.xlabel('Number of Characters')\n",
        "plt.ylabel('Frequency')\n",
        "plt.legend()\n",
        "plt.show()"
      ],
      "metadata": {
        "colab": {
          "base_uri": "https://localhost:8080/",
          "height": 199
        },
        "id": "9g1jIMWjZC_N",
        "outputId": "036cd625-49e6-4a1a-b370-46eb281d0eea"
      },
      "execution_count": null,
      "outputs": [
        {
          "output_type": "display_data",
          "data": {
            "text/plain": [
              "<Figure size 1000x500 with 1 Axes>"
            ],
            "image/png": "[encoded data removed]"
          },
          "metadata": {}
        }
      ]
    },
    {
      "cell_type": "code",
      "source": [
        "# Remove outliers based on plot summary lengths\n",
        "# *** ADJUSTMENT: Filter test_solution to match the indices of test_data after removing outliers ***\n",
        "train_data = train_data[(train_data['summary_length'] >= 50) & (train_data['summary_length'] <= 5000)]\n",
        "test_data = test_data[(test_data['summary_length'] >= 50) & (test_data['summary_length'] <= 5000)]\n",
        "\n",
        "# Filter test_solution DataFrame to align with the cleaned test_data\n",
        "test_solution = test_solution[test_solution.index.isin(test_data.index)]"
      ],
      "metadata": {
        "id": "s0NPxXVIZHBj"
      },
      "execution_count": null,
      "outputs": []
    },
    {
      "cell_type": "code",
      "source": [
        "print(\"\\nDataset sizes after removing outliers:\")\n",
        "print(\"Training data size:\", train_data.shape)\n",
        "print(\"Test data size:\", test_data.shape)\n",
        "print(\"Test Solution data size:\", test_solution.shape) #Added this line for clarity"
      ],
      "metadata": {
        "colab": {
          "base_uri": "https://localhost:8080/"
        },
        "id": "XDioPUlxZKR3",
        "outputId": "59afbf87-0fe2-42f0-e670-cd45b723fe43"
      },
      "execution_count": null,
      "outputs": [
        {
          "output_type": "stream",
          "name": "stdout",
          "text": [
            "\n",
            "Dataset sizes after removing outliers:\n",
            "Training data size: (54056, 7)\n",
            "Test data size: (54185, 3)\n",
            "Test Solution data size: (54185, 2)\n"
          ]
        }
      ]
    },
    {
      "cell_type": "code",
      "source": [
        "# Step 3: Preprocess the data\n",
        "train_data['cleaned_plot'] = train_data['plot_summary'].apply(preprocess_text)\n",
        "test_data['cleaned_plot'] = test_data['plot_summary'].apply(preprocess_text)"
      ],
      "metadata": {
        "id": "ypC74ikmZNIA"
      },
      "execution_count": null,
      "outputs": []
    },
    {
      "cell_type": "code",
      "source": [
        "# Display a few preprocessed plots for verification\n",
        "print(\"\\nPreprocessed Plot Summaries (Sample):\")\n",
        "print(train_data[['plot_summary', 'cleaned_plot']].head())"
      ],
      "metadata": {
        "colab": {
          "base_uri": "https://localhost:8080/"
        },
        "id": "tEyObYCuZQpw",
        "outputId": "48e7c384-8b00-4a20-ba3b-97a7c667b0e2"
      },
      "execution_count": null,
      "outputs": [
        {
          "output_type": "stream",
          "name": "stdout",
          "text": [
            "\n",
            "Preprocessed Plot Summaries (Sample):\n",
            "                                        plot_summary  \\\n",
            "1   Listening in to a conversation between his do...   \n",
            "2   A brother and sister with a past incestuous r...   \n",
            "3   As the bus empties the students for their fie...   \n",
            "4   To help their unemployed father make ends mee...   \n",
            "5   The film's title refers not only to the un-re...   \n",
            "\n",
            "                                        cleaned_plot  \n",
            "1  listening conversation doctor parent yearold o...  \n",
            "2  brother sister past incestuous relationship cu...  \n",
            "3  bus empty student field trip museum natural hi...  \n",
            "4  help unemployed father make end meet edith twi...  \n",
            "5  film title refers unrecovered body ground zero...  \n"
          ]
        }
      ]
    },
    {
      "cell_type": "code",
      "source": [
        "# Ensure consistent genre representation across train and test data\n",
        "def clean_genres(genres):\n",
        "    genres = str(genres)  # Convert to string to handle NaN\n",
        "    genres = genres.split(',')\n",
        "    genres = [genre.strip() for genre in genres if genre.strip() != 'nan']  # Remove nan\n",
        "    return genres"
      ],
      "metadata": {
        "id": "rYnXLBiAZU73"
      },
      "execution_count": null,
      "outputs": []
    },
    {
      "cell_type": "code",
      "source": [
        "# Split genres into lists, handling potential float values (NaN)\n",
        "train_data['genre'] = train_data['Gener'].astype(str).apply(lambda x: x.split(',') if x != 'nan' else [])\n",
        "test_solution['genre'] = test_solution['genre'].astype(str).apply(lambda x: x.split(',') if x != 'nan' else [])"
      ],
      "metadata": {
        "id": "uxe2KWyqZX1q"
      },
      "execution_count": null,
      "outputs": []
    },
    {
      "cell_type": "code",
      "source": [
        "# Check class distribution\n",
        "genre_counts = pd.Series([genre for genres in train_data['genre'] for genre in genres]).value_counts()\n",
        "print(\"\\nGenre Distribution:\")\n",
        "print(genre_counts)"
      ],
      "metadata": {
        "colab": {
          "base_uri": "https://localhost:8080/"
        },
        "id": "j2VSpA_4Zcm6",
        "outputId": "7b3cf001-6d58-4581-e516-20cef104f675"
      },
      "execution_count": null,
      "outputs": [
        {
          "output_type": "stream",
          "name": "stdout",
          "text": [
            "\n",
            "Genre Distribution:\n",
            "drama           13561\n",
            "documentary     13074\n",
            "comedy           7427\n",
            "short            5058\n",
            "horror           2201\n",
            "thriller         1590\n",
            "action           1313\n",
            "western          1032\n",
            "reality-tv        882\n",
            "family            774\n",
            "adventure         774\n",
            "music             719\n",
            "romance           669\n",
            "sci-fi            647\n",
            "adult             589\n",
            "crime             503\n",
            "animation         497\n",
            "sport             430\n",
            "talk-show         387\n",
            "fantasy           321\n",
            "mystery           316\n",
            "musical           277\n",
            "biography         265\n",
            "history           243\n",
            "game-show         194\n",
            "news              181\n",
            "war               132\n",
            "Name: count, dtype: int64\n"
          ]
        }
      ]
    },
    {
      "cell_type": "code",
      "source": [
        "# Plot genre frequency\n",
        "plt.figure(figsize=(12, 6))\n",
        "sns.barplot(x=genre_counts.index, y=genre_counts.values, palette='viridis')\n",
        "plt.xticks(rotation=45)\n",
        "plt.title('Genre Frequency in Training Data')\n",
        "plt.xlabel('Genres')\n",
        "plt.ylabel('Frequency')\n",
        "plt.show()"
      ],
      "metadata": {
        "colab": {
          "base_uri": "https://localhost:8080/",
          "height": 219
        },
        "id": "mljmyE-0ZgrR",
        "outputId": "897e542b-d3d8-4c09-e5ad-3aa4cc353f05"
      },
      "execution_count": null,
      "outputs": [
        {
          "output_type": "display_data",
          "data": {
            "text/plain": [
              "<Figure size 1200x600 with 1 Axes>"
            ],
            "image/png": "[encoded data removed]"
          },
          "metadata": {}
        }
      ]
    },
    {
      "cell_type": "code",
      "source": [
        "\n",
        "# Number of genres per movie\n",
        "train_data['num_genres'] = train_data['genre'].apply(len)"
      ],
      "metadata": {
        "id": "c1nOgdj4ZpTN"
      },
      "execution_count": null,
      "outputs": []
    },
    {
      "cell_type": "code",
      "source": [
        "plt.figure(figsize=(8, 5))\n",
        "sns.histplot(train_data['num_genres'], bins=10, kde=False, color='green')\n",
        "plt.title('Number of Genres Per Movie')\n",
        "plt.xlabel('Number of Genres')\n",
        "plt.ylabel('Frequency')\n",
        "plt.show()"
      ],
      "metadata": {
        "colab": {
          "base_uri": "https://localhost:8080/",
          "height": 239
        },
        "id": "hLXsOIz_Zspt",
        "outputId": "ae19002a-5b3b-4ec3-f92d-145a5d494cfd"
      },
      "execution_count": null,
      "outputs": [
        {
          "output_type": "display_data",
          "data": {
            "text/plain": [
              "<Figure size 800x500 with 1 Axes>"
            ],
            "image/png": "[encoded data removed]"
          },
          "metadata": {}
        }
      ]
    },
    {
      "cell_type": "code",
      "source": [
        "# Fit MultilabelBinarizer on combined genres from train and test\n",
        "all_genres = [genre for genres in train_data['genre'] for genre in genres] + \\\n",
        "             [genre for genres in test_solution['genre'] for genre in genres]"
      ],
      "metadata": {
        "id": "E5qpC3l2ZvuL"
      },
      "execution_count": null,
      "outputs": []
    },
    {
      "cell_type": "code",
      "source": [
        "# Get unique genres and sort them to ensure consistent ordering\n",
        "from sklearn.preprocessing import MultiLabelBinarizer # Import MultiLabelBinarizer here\n",
        "\n",
        "unique_genres = sorted(list(set(all_genres)))\n",
        "mlb = MultiLabelBinarizer(classes=unique_genres)  # using set to ensure unique classes\n",
        "y_train = mlb.fit_transform(train_data['genre'])\n",
        "y_test = mlb.transform(test_solution['genre'])"
      ],
      "metadata": {
        "id": "rc84l8pMZy_O"
      },
      "execution_count": null,
      "outputs": []
    },
    {
      "cell_type": "code",
      "source": [
        "print(\"\\nEncoded Genre Sample:\")\n",
        "print(y_train[:5])\n",
        "print(\"\\nGenre Labels:\")\n",
        "print(mlb.classes_)"
      ],
      "metadata": {
        "colab": {
          "base_uri": "https://localhost:8080/"
        },
        "id": "NXkhCnR-Z2gc",
        "outputId": "7dde0338-6dd9-4a59-f75d-1998022988e9"
      },
      "execution_count": null,
      "outputs": [
        {
          "output_type": "stream",
          "name": "stdout",
          "text": [
            "\n",
            "Encoded Genre Sample:\n",
            "[[0 0 0 0 0 0 0 0 1 0 0 0 0 0 0 0 0 0 0 0 0 0 0 0 0 0 0 0]\n",
            " [0 0 0 0 0 0 0 0 0 0 0 0 0 0 0 0 0 0 0 0 0 0 0 0 1 0 0 0]\n",
            " [0 1 0 0 0 0 0 0 0 0 0 0 0 0 0 0 0 0 0 0 0 0 0 0 0 0 0 0]\n",
            " [0 0 0 0 0 0 0 0 1 0 0 0 0 0 0 0 0 0 0 0 0 0 0 0 0 0 0 0]\n",
            " [0 0 0 0 0 0 0 0 1 0 0 0 0 0 0 0 0 0 0 0 0 0 0 0 0 0 0 0]]\n",
            "\n",
            "Genre Labels:\n",
            "[' action ' ' adult ' ' adventure ' ' animation ' ' biography ' ' comedy '\n",
            " ' crime ' ' documentary ' ' drama ' ' family ' ' fantasy ' ' game-show '\n",
            " ' history ' ' horror ' ' music ' ' musical ' ' mystery ' ' news '\n",
            " ' reality-tv ' ' romance ' ' sci-fi ' ' short ' ' sport ' ' talk-show '\n",
            " ' thriller ' ' war ' ' western ' '[]']\n"
          ]
        }
      ]
    },
    {
      "cell_type": "code",
      "source": [
        "# Vectorize plot summaries with TF-IDF\n",
        "tfidf_vectorizer = TfidfVectorizer(max_features=5000, stop_words='english')\n",
        "X_train_tfidf = tfidf_vectorizer.fit_transform(train_data['cleaned_plot'])\n",
        "X_test_tfidf = tfidf_vectorizer.transform(test_data['cleaned_plot'])"
      ],
      "metadata": {
        "id": "4ES1XELnaBHt"
      },
      "execution_count": null,
      "outputs": []
    },
    {
      "cell_type": "code",
      "source": [
        "# Hyperparameter tuning for Logistic Regression\n",
        "param_grid_lr = {\n",
        "    'estimator__C': [0.1, 1, 10],\n",
        "    'estimator__solver': ['lbfgs', 'sag']\n",
        "}\n",
        "lr_model = OneVsRestClassifier(LogisticRegression(max_iter=1000))\n",
        "grid_search_lr = GridSearchCV(lr_model, param_grid_lr, cv=3, scoring='f1_micro', verbose=1)\n",
        "grid_search_lr.fit(X_train_tfidf, y_train)\n",
        "best_lr_model = grid_search_lr.best_estimator_"
      ],
      "metadata": {
        "colab": {
          "base_uri": "https://localhost:8080/"
        },
        "id": "YY8RQwYIaEsW",
        "outputId": "8a25f821-52c9-4524-a1c8-c88555d3a69e"
      },
      "execution_count": null,
      "outputs": [
        {
          "output_type": "stream",
          "name": "stdout",
          "text": [
            "Fitting 3 folds for each of 6 candidates, totalling 18 fits\n"
          ]
        }
      ]
    },
    {
      "cell_type": "code",
      "source": [
        "# Hyperparameter tuning for Naive Bayes\n",
        "param_grid_nb = {'estimator__alpha': [0.1, 0.5, 1]}\n",
        "nb_model = OneVsRestClassifier(MultinomialNB())\n",
        "grid_search_nb = GridSearchCV(nb_model, param_grid_nb, cv=3, scoring='f1_micro', verbose=1)\n",
        "grid_search_nb.fit(X_train_tfidf, y_train)\n",
        "best_nb_model = grid_search_nb.best_estimator_"
      ],
      "metadata": {
        "colab": {
          "base_uri": "https://localhost:8080/"
        },
        "id": "6APxP9_9aIdc",
        "outputId": "a14fe764-b499-4b1d-cdea-53db456f115d"
      },
      "execution_count": null,
      "outputs": [
        {
          "output_type": "stream",
          "name": "stdout",
          "text": [
            "Fitting 3 folds for each of 3 candidates, totalling 9 fits\n"
          ]
        }
      ]
    },
    {
      "cell_type": "code",
      "source": [
        "# Initialize BERT tokenizer and model\n",
        "tokenizer = BertTokenizer.from_pretrained('bert-base-uncased')\n",
        "model = BertModel.from_pretrained('bert-base-uncased').eval()\n",
        "device = torch.device(\"cuda\" if torch.cuda.is_available() else \"cpu\")\n",
        "model = model.to(device)"
      ],
      "metadata": {
        "id": "sE67UJOYaNcs",
        "colab": {
          "base_uri": "https://localhost:8080/",
          "height": 177,
          "referenced_widgets": [
            "adc83508dcc34006aee418bc14d39e06",
            "2c1dda2d290347ef92bd6456ac14f9a1",
            "04cfdf877d8e447e89f22c10b93ed985",
            "6969e14d22a046bdb59c2695ebc5cb41",
            "bd3c59b730ab4d948ea5731962d4db6b",
            "f407d8f093c44dc99e51b675be2d7d24",
            "47716bc321b84212afd64473adc07b14",
            "a3ebb5c0bfe442349c11ef38f4d0dc45",
            "f997910e43e04eb29b1ce741dbb994a4",
            "3af5b019242147d8bcf2870f23e2132b",
            "ebd9dd33047042598738f5331ac61f4a",
            "9a86786ba9394897a11b8875143061df",
            "26f8c2ca85a54d909f83bf3ded4929e6",
            "b9ac650f71874c2eadace6a747243830",
            "213240ddb7584db8ae43560c6c174d70",
            "0a98d7967dbf46ab80307b3135dbf88a",
            "a4119841b7694e35a78987143245b7fc",
            "dc2d59f29a6144f3b81a874af0ea864f",
            "db2a06cf518a4afcabf7a6c61e8f58a1",
            "d168a70587004e2c9ecebef63c75c354",
            "eb5ae67856234341850cc6c6d714f46a",
            "16967f14405e49829affd577ef730a2a",
            "f208628372694a268e482048cd830539",
            "fc9d22f7614742c59457fb2c370a582d",
            "dd207a24d22c4614bf7ec9f5e5d1fa55",
            "0f90822b8fb645dcbcfd7b9dc1d7b8d6",
            "bcee88db1c224404bccf915f5edd8de4",
            "d8c385eb3942465abdd86daaa2beb237",
            "fa58c7afd2cd4696aca8cc57a1c4245a",
            "6e58b0036161425aa520a77c0e5e63e9",
            "90e79ae74e054fba989cdc185baffa4e",
            "2447d4fceb3a4204a7db80af12067232",
            "8cdb7a82f09e4b76bd688af633b44e2f",
            "9220e81d70464e379376fe592768d065",
            "c1a6d53ffa1c48efb4f173dd5abb336f",
            "8b9f897a9c664918b57001dd41625f35",
            "3e7cbf197cba486b91ac58edbee45f92",
            "bfe7e27a85384bcb9831d2f54acec281",
            "2fac4af2dec24a659ebaa7c883f03641",
            "8d8983c49306425d84bc77487b285c74",
            "6f02742988d84321b2d5414f6eb825e4",
            "14bc6275ce5c424597039d5f2e4560c1",
            "4f88e2d6475f4a2d9cfea968ceb421b3",
            "ffe6037760dc4ed0903e633b85a291f9",
            "b405813457b84b3e8bb81ec9df4c02ad",
            "2b78fd3aef0744128d399a00da1c7dc8",
            "e06b1a713e5646f99dc42e2d006bb3c2",
            "b3a6f7c5d5dd4eb6810549a2d2fac5c6",
            "2d3200571bee4869854a107aafbc8287",
            "a96d70930094482d93afaff23016392f",
            "ea8042963930406e935e2f01e433ba9a",
            "040c141e599f498ea9ade2b8f2cf92e1",
            "d328a2d033664d6584b53d7b434e321a",
            "7ae5984e0c334ce69c3e329b5c186925",
            "00f4ec66604f4f44a517b233a951248e"
          ]
        },
        "outputId": "3f1e0367-92db-48d5-e685-90f0243df8bd"
      },
      "execution_count": null,
      "outputs": [
        {
          "output_type": "display_data",
          "data": {
            "text/plain": [
              "tokenizer_config.json:   0%|          | 0.00/48.0 [00:00<?, ?B/s]"
            ],
            "application/vnd.jupyter.widget-view+json": {
              "version_major": 2,
              "version_minor": 0,
              "model_id": "adc83508dcc34006aee418bc14d39e06"
            }
          },
          "metadata": {}
        },
        {
          "output_type": "display_data",
          "data": {
            "text/plain": [
              "vocab.txt:   0%|          | 0.00/232k [00:00<?, ?B/s]"
            ],
            "application/vnd.jupyter.widget-view+json": {
              "version_major": 2,
              "version_minor": 0,
              "model_id": "9a86786ba9394897a11b8875143061df"
            }
          },
          "metadata": {}
        },
        {
          "output_type": "display_data",
          "data": {
            "text/plain": [
              "tokenizer.json:   0%|          | 0.00/466k [00:00<?, ?B/s]"
            ],
            "application/vnd.jupyter.widget-view+json": {
              "version_major": 2,
              "version_minor": 0,
              "model_id": "f208628372694a268e482048cd830539"
            }
          },
          "metadata": {}
        },
        {
          "output_type": "display_data",
          "data": {
            "text/plain": [
              "config.json:   0%|          | 0.00/570 [00:00<?, ?B/s]"
            ],
            "application/vnd.jupyter.widget-view+json": {
              "version_major": 2,
              "version_minor": 0,
              "model_id": "9220e81d70464e379376fe592768d065"
            }
          },
          "metadata": {}
        },
        {
          "output_type": "display_data",
          "data": {
            "text/plain": [
              "model.safetensors:   0%|          | 0.00/440M [00:00<?, ?B/s]"
            ],
            "application/vnd.jupyter.widget-view+json": {
              "version_major": 2,
              "version_minor": 0,
              "model_id": "b405813457b84b3e8bb81ec9df4c02ad"
            }
          },
          "metadata": {}
        }
      ]
    },
    {
      "cell_type": "code",
      "source": [
        "def bert_embeddings_batch(texts, batch_size=32, model=model, tokenizer=tokenizer, device=device):  # Pass model, tokenizer, and device as arguments\n",
        "    \"\"\"Generate BERT embeddings for a batch of texts.\"\"\"\n",
        "    embeddings = []\n",
        "    # model = model.to(device)  # Remove this line, as model is already on the device\n",
        "    for i in range(0, len(texts), batch_size):\n",
        "        batch = texts[i:i + batch_size]\n",
        "        inputs = tokenizer(batch, return_tensors='pt', padding=True, truncation=True, max_length=512)\n",
        "        inputs = {key: value.to(device) for key, value in inputs.items()}  # Move inputs to GPU\n",
        "        with torch.no_grad():\n",
        "            outputs = model(**inputs)  # Use the passed model\n",
        "        batch_embeddings = outputs.last_hidden_state.mean(dim=1).cpu().numpy()\n",
        "        embeddings.extend(batch_embeddings)\n",
        "    return np.array(embeddings)"
      ],
      "metadata": {
        "id": "3MDYLP6gaRP8"
      },
      "execution_count": null,
      "outputs": []
    },
    {
      "cell_type": "code",
      "source": [
        "# Ensure subset indices align with y_train's size\n",
        "subset_size = 1000  # Use 1000 samples for faster computation\n",
        "subset_indices = np.random.choice(len(y_train), subset_size, replace=False)  # Generate random indices"
      ],
      "metadata": {
        "id": "GfNAR-vNaVaA"
      },
      "execution_count": null,
      "outputs": []
    },
    {
      "cell_type": "code",
      "source": [
        "# Select the subset\n",
        "train_data_subset = train_data.iloc[subset_indices]\n",
        "y_train_subset = y_train[subset_indices]"
      ],
      "metadata": {
        "id": "cdXJJojaaYkA"
      },
      "execution_count": null,
      "outputs": []
    },
    {
      "cell_type": "code",
      "source": [
        "subset_size = 500  # Reduce the subset size\n",
        "subset_indices = np.random.choice(len(y_train), subset_size, replace=False)\n",
        "train_data_subset = train_data.iloc[subset_indices]\n",
        "y_train_subset = y_train[subset_indices]"
      ],
      "metadata": {
        "id": "6T_M2CuTgxCc"
      },
      "execution_count": null,
      "outputs": []
    },
    {
      "cell_type": "code",
      "source": [
        "import torch\n",
        "from transformers import DistilBertTokenizer, DistilBertModel\n",
        "import numpy as np\n",
        "\n",
        "# Initialize BERT tokenizer and model\n",
        "tokenizer = DistilBertTokenizer.from_pretrained('distilbert-base-uncased')\n",
        "model = DistilBertModel.from_pretrained('distilbert-base-uncased').eval()\n",
        "device = torch.device(\"cuda\" if torch.cuda.is_available() else \"cpu\")\n",
        "model = model.to(device)\n",
        "\n",
        "def bert_embeddings_batch(texts, batch_size=16):\n",
        "    \"\"\"Generate BERT embeddings for a batch of texts.\"\"\"\n",
        "    embeddings = []\n",
        "    for i in range(0, len(texts), batch_size):\n",
        "        batch = texts[i:i + batch_size]\n",
        "        inputs = tokenizer(batch, return_tensors='pt', padding=True, truncation=True, max_length=128)\n",
        "\n",
        "        # Remove token_type_ids from the inputs dictionary\n",
        "        if 'token_type_ids' in inputs:\n",
        "            del inputs['token_type_ids']\n",
        "\n",
        "        inputs = {key: value.to(device) for key, value in inputs.items()}  # Move inputs to GPU\n",
        "        with torch.no_grad():\n",
        "            outputs = model(**inputs)\n",
        "        batch_embeddings = outputs.last_hidden_state.mean(dim=1).cpu().numpy()\n",
        "        embeddings.extend(batch_embeddings)\n",
        "    return np.array(embeddings)\n",
        "# Generate BERT embeddings for the subset\n",
        "X_train_bert = bert_embeddings_batch(train_data_subset['cleaned_plot'].tolist(), batch_size=16)\n",
        "\n",
        "# Save embeddings to disk\n",
        "np.save('X_train_bert.npy', X_train_bert)"
      ],
      "metadata": {
        "id": "xpfISIwGhkcn"
      },
      "execution_count": null,
      "outputs": []
    },
    {
      "cell_type": "code",
      "source": [
        "# Train MLP model on the subset\n",
        "from sklearn.neural_network import MLPClassifier\n",
        "mlp_model = MLPClassifier(hidden_layer_sizes=(128, 64), max_iter=500, activation='relu')\n",
        "mlp_model.fit(X_train_bert, y_train_subset)"
      ],
      "metadata": {
        "colab": {
          "base_uri": "https://localhost:8080/",
          "height": 100
        },
        "id": "vbBAcrGBagh1",
        "outputId": "4bff3770-90ca-4345-8b49-35d85733b590"
      },
      "execution_count": null,
      "outputs": [
        {
          "output_type": "execute_result",
          "data": {
            "text/plain": [
              "MLPClassifier(hidden_layer_sizes=(128, 64), max_iter=500)"
            ],
            "text/html": [
              "<style>#sk-container-id-1 {\n",
              "  /* Definition of color scheme common for light and dark mode */\n",
              "  --sklearn-color-text: #000;\n",
              "  --sklearn-color-text-muted: #666;\n",
              "  --sklearn-color-line: gray;\n",
              "  /* Definition of color scheme for unfitted estimators */\n",
              "  --sklearn-color-unfitted-level-0: #fff5e6;\n",
              "  --sklearn-color-unfitted-level-1: #f6e4d2;\n",
              "  --sklearn-color-unfitted-level-2: #ffe0b3;\n",
              "  --sklearn-color-unfitted-level-3: chocolate;\n",
              "  /* Definition of color scheme for fitted estimators */\n",
              "  --sklearn-color-fitted-level-0: #f0f8ff;\n",
              "  --sklearn-color-fitted-level-1: #d4ebff;\n",
              "  --sklearn-color-fitted-level-2: #b3dbfd;\n",
              "  --sklearn-color-fitted-level-3: cornflowerblue;\n",
              "\n",
              "  /* Specific color for light theme */\n",
              "  --sklearn-color-text-on-default-background: var(--sg-text-color, var(--theme-code-foreground, var(--jp-content-font-color1, black)));\n",
              "  --sklearn-color-background: var(--sg-background-color, var(--theme-background, var(--jp-layout-color0, white)));\n",
              "  --sklearn-color-border-box: var(--sg-text-color, var(--theme-code-foreground, var(--jp-content-font-color1, black)));\n",
              "  --sklearn-color-icon: #696969;\n",
              "\n",
              "  @media (prefers-color-scheme: dark) {\n",
              "    /* Redefinition of color scheme for dark theme */\n",
              "    --sklearn-color-text-on-default-background: var(--sg-text-color, var(--theme-code-foreground, var(--jp-content-font-color1, white)));\n",
              "    --sklearn-color-background: var(--sg-background-color, var(--theme-background, var(--jp-layout-color0, #111)));\n",
              "    --sklearn-color-border-box: var(--sg-text-color, var(--theme-code-foreground, var(--jp-content-font-color1, white)));\n",
              "    --sklearn-color-icon: #878787;\n",
              "  }\n",
              "}\n",
              "\n",
              "#sk-container-id-1 {\n",
              "  color: var(--sklearn-color-text);\n",
              "}\n",
              "\n",
              "#sk-container-id-1 pre {\n",
              "  padding: 0;\n",
              "}\n",
              "\n",
              "#sk-container-id-1 input.sk-hidden--visually {\n",
              "  border: 0;\n",
              "  clip: rect(1px 1px 1px 1px);\n",
              "  clip: rect(1px, 1px, 1px, 1px);\n",
              "  height: 1px;\n",
              "  margin: -1px;\n",
              "  overflow: hidden;\n",
              "  padding: 0;\n",
              "  position: absolute;\n",
              "  width: 1px;\n",
              "}\n",
              "\n",
              "#sk-container-id-1 div.sk-dashed-wrapped {\n",
              "  border: 1px dashed var(--sklearn-color-line);\n",
              "  margin: 0 0.4em 0.5em 0.4em;\n",
              "  box-sizing: border-box;\n",
              "  padding-bottom: 0.4em;\n",
              "  background-color: var(--sklearn-color-background);\n",
              "}\n",
              "\n",
              "#sk-container-id-1 div.sk-container {\n",
              "  /* jupyter's `normalize.less` sets `[hidden] { display: none; }`\n",
              "     but bootstrap.min.css set `[hidden] { display: none !important; }`\n",
              "     so we also need the `!important` here to be able to override the\n",
              "     default hidden behavior on the sphinx rendered scikit-learn.org.\n",
              "     See: https://github.com/scikit-learn/scikit-learn/issues/21755 */\n",
              "  display: inline-block !important;\n",
              "  position: relative;\n",
              "}\n",
              "\n",
              "#sk-container-id-1 div.sk-text-repr-fallback {\n",
              "  display: none;\n",
              "}\n",
              "\n",
              "div.sk-parallel-item,\n",
              "div.sk-serial,\n",
              "div.sk-item {\n",
              "  /* draw centered vertical line to link estimators */\n",
              "  background-image: linear-gradient(var(--sklearn-color-text-on-default-background), var(--sklearn-color-text-on-default-background));\n",
              "  background-size: 2px 100%;\n",
              "  background-repeat: no-repeat;\n",
              "  background-position: center center;\n",
              "}\n",
              "\n",
              "/* Parallel-specific style estimator block */\n",
              "\n",
              "#sk-container-id-1 div.sk-parallel-item::after {\n",
              "  content: \"\";\n",
              "  width: 100%;\n",
              "  border-bottom: 2px solid var(--sklearn-color-text-on-default-background);\n",
              "  flex-grow: 1;\n",
              "}\n",
              "\n",
              "#sk-container-id-1 div.sk-parallel {\n",
              "  display: flex;\n",
              "  align-items: stretch;\n",
              "  justify-content: center;\n",
              "  background-color: var(--sklearn-color-background);\n",
              "  position: relative;\n",
              "}\n",
              "\n",
              "#sk-container-id-1 div.sk-parallel-item {\n",
              "  display: flex;\n",
              "  flex-direction: column;\n",
              "}\n",
              "\n",
              "#sk-container-id-1 div.sk-parallel-item:first-child::after {\n",
              "  align-self: flex-end;\n",
              "  width: 50%;\n",
              "}\n",
              "\n",
              "#sk-container-id-1 div.sk-parallel-item:last-child::after {\n",
              "  align-self: flex-start;\n",
              "  width: 50%;\n",
              "}\n",
              "\n",
              "#sk-container-id-1 div.sk-parallel-item:only-child::after {\n",
              "  width: 0;\n",
              "}\n",
              "\n",
              "/* Serial-specific style estimator block */\n",
              "\n",
              "#sk-container-id-1 div.sk-serial {\n",
              "  display: flex;\n",
              "  flex-direction: column;\n",
              "  align-items: center;\n",
              "  background-color: var(--sklearn-color-background);\n",
              "  padding-right: 1em;\n",
              "  padding-left: 1em;\n",
              "}\n",
              "\n",
              "\n",
              "/* Toggleable style: style used for estimator/Pipeline/ColumnTransformer box that is\n",
              "clickable and can be expanded/collapsed.\n",
              "- Pipeline and ColumnTransformer use this feature and define the default style\n",
              "- Estimators will overwrite some part of the style using the `sk-estimator` class\n",
              "*/\n",
              "\n",
              "/* Pipeline and ColumnTransformer style (default) */\n",
              "\n",
              "#sk-container-id-1 div.sk-toggleable {\n",
              "  /* Default theme specific background. It is overwritten whether we have a\n",
              "  specific estimator or a Pipeline/ColumnTransformer */\n",
              "  background-color: var(--sklearn-color-background);\n",
              "}\n",
              "\n",
              "/* Toggleable label */\n",
              "#sk-container-id-1 label.sk-toggleable__label {\n",
              "  cursor: pointer;\n",
              "  display: flex;\n",
              "  width: 100%;\n",
              "  margin-bottom: 0;\n",
              "  padding: 0.5em;\n",
              "  box-sizing: border-box;\n",
              "  text-align: center;\n",
              "  align-items: start;\n",
              "  justify-content: space-between;\n",
              "  gap: 0.5em;\n",
              "}\n",
              "\n",
              "#sk-container-id-1 label.sk-toggleable__label .caption {\n",
              "  font-size: 0.6rem;\n",
              "  font-weight: lighter;\n",
              "  color: var(--sklearn-color-text-muted);\n",
              "}\n",
              "\n",
              "#sk-container-id-1 label.sk-toggleable__label-arrow:before {\n",
              "  /* Arrow on the left of the label */\n",
              "  content: \"▸\";\n",
              "  float: left;\n",
              "  margin-right: 0.25em;\n",
              "  color: var(--sklearn-color-icon);\n",
              "}\n",
              "\n",
              "#sk-container-id-1 label.sk-toggleable__label-arrow:hover:before {\n",
              "  color: var(--sklearn-color-text);\n",
              "}\n",
              "\n",
              "/* Toggleable content - dropdown */\n",
              "\n",
              "#sk-container-id-1 div.sk-toggleable__content {\n",
              "  max-height: 0;\n",
              "  max-width: 0;\n",
              "  overflow: hidden;\n",
              "  text-align: left;\n",
              "  /* unfitted */\n",
              "  background-color: var(--sklearn-color-unfitted-level-0);\n",
              "}\n",
              "\n",
              "#sk-container-id-1 div.sk-toggleable__content.fitted {\n",
              "  /* fitted */\n",
              "  background-color: var(--sklearn-color-fitted-level-0);\n",
              "}\n",
              "\n",
              "#sk-container-id-1 div.sk-toggleable__content pre {\n",
              "  margin: 0.2em;\n",
              "  border-radius: 0.25em;\n",
              "  color: var(--sklearn-color-text);\n",
              "  /* unfitted */\n",
              "  background-color: var(--sklearn-color-unfitted-level-0);\n",
              "}\n",
              "\n",
              "#sk-container-id-1 div.sk-toggleable__content.fitted pre {\n",
              "  /* unfitted */\n",
              "  background-color: var(--sklearn-color-fitted-level-0);\n",
              "}\n",
              "\n",
              "#sk-container-id-1 input.sk-toggleable__control:checked~div.sk-toggleable__content {\n",
              "  /* Expand drop-down */\n",
              "  max-height: 200px;\n",
              "  max-width: 100%;\n",
              "  overflow: auto;\n",
              "}\n",
              "\n",
              "#sk-container-id-1 input.sk-toggleable__control:checked~label.sk-toggleable__label-arrow:before {\n",
              "  content: \"▾\";\n",
              "}\n",
              "\n",
              "/* Pipeline/ColumnTransformer-specific style */\n",
              "\n",
              "#sk-container-id-1 div.sk-label input.sk-toggleable__control:checked~label.sk-toggleable__label {\n",
              "  color: var(--sklearn-color-text);\n",
              "  background-color: var(--sklearn-color-unfitted-level-2);\n",
              "}\n",
              "\n",
              "#sk-container-id-1 div.sk-label.fitted input.sk-toggleable__control:checked~label.sk-toggleable__label {\n",
              "  background-color: var(--sklearn-color-fitted-level-2);\n",
              "}\n",
              "\n",
              "/* Estimator-specific style */\n",
              "\n",
              "/* Colorize estimator box */\n",
              "#sk-container-id-1 div.sk-estimator input.sk-toggleable__control:checked~label.sk-toggleable__label {\n",
              "  /* unfitted */\n",
              "  background-color: var(--sklearn-color-unfitted-level-2);\n",
              "}\n",
              "\n",
              "#sk-container-id-1 div.sk-estimator.fitted input.sk-toggleable__control:checked~label.sk-toggleable__label {\n",
              "  /* fitted */\n",
              "  background-color: var(--sklearn-color-fitted-level-2);\n",
              "}\n",
              "\n",
              "#sk-container-id-1 div.sk-label label.sk-toggleable__label,\n",
              "#sk-container-id-1 div.sk-label label {\n",
              "  /* The background is the default theme color */\n",
              "  color: var(--sklearn-color-text-on-default-background);\n",
              "}\n",
              "\n",
              "/* On hover, darken the color of the background */\n",
              "#sk-container-id-1 div.sk-label:hover label.sk-toggleable__label {\n",
              "  color: var(--sklearn-color-text);\n",
              "  background-color: var(--sklearn-color-unfitted-level-2);\n",
              "}\n",
              "\n",
              "/* Label box, darken color on hover, fitted */\n",
              "#sk-container-id-1 div.sk-label.fitted:hover label.sk-toggleable__label.fitted {\n",
              "  color: var(--sklearn-color-text);\n",
              "  background-color: var(--sklearn-color-fitted-level-2);\n",
              "}\n",
              "\n",
              "/* Estimator label */\n",
              "\n",
              "#sk-container-id-1 div.sk-label label {\n",
              "  font-family: monospace;\n",
              "  font-weight: bold;\n",
              "  display: inline-block;\n",
              "  line-height: 1.2em;\n",
              "}\n",
              "\n",
              "#sk-container-id-1 div.sk-label-container {\n",
              "  text-align: center;\n",
              "}\n",
              "\n",
              "/* Estimator-specific */\n",
              "#sk-container-id-1 div.sk-estimator {\n",
              "  font-family: monospace;\n",
              "  border: 1px dotted var(--sklearn-color-border-box);\n",
              "  border-radius: 0.25em;\n",
              "  box-sizing: border-box;\n",
              "  margin-bottom: 0.5em;\n",
              "  /* unfitted */\n",
              "  background-color: var(--sklearn-color-unfitted-level-0);\n",
              "}\n",
              "\n",
              "#sk-container-id-1 div.sk-estimator.fitted {\n",
              "  /* fitted */\n",
              "  background-color: var(--sklearn-color-fitted-level-0);\n",
              "}\n",
              "\n",
              "/* on hover */\n",
              "#sk-container-id-1 div.sk-estimator:hover {\n",
              "  /* unfitted */\n",
              "  background-color: var(--sklearn-color-unfitted-level-2);\n",
              "}\n",
              "\n",
              "#sk-container-id-1 div.sk-estimator.fitted:hover {\n",
              "  /* fitted */\n",
              "  background-color: var(--sklearn-color-fitted-level-2);\n",
              "}\n",
              "\n",
              "/* Specification for estimator info (e.g. \"i\" and \"?\") */\n",
              "\n",
              "/* Common style for \"i\" and \"?\" */\n",
              "\n",
              ".sk-estimator-doc-link,\n",
              "a:link.sk-estimator-doc-link,\n",
              "a:visited.sk-estimator-doc-link {\n",
              "  float: right;\n",
              "  font-size: smaller;\n",
              "  line-height: 1em;\n",
              "  font-family: monospace;\n",
              "  background-color: var(--sklearn-color-background);\n",
              "  border-radius: 1em;\n",
              "  height: 1em;\n",
              "  width: 1em;\n",
              "  text-decoration: none !important;\n",
              "  margin-left: 0.5em;\n",
              "  text-align: center;\n",
              "  /* unfitted */\n",
              "  border: var(--sklearn-color-unfitted-level-1) 1pt solid;\n",
              "  color: var(--sklearn-color-unfitted-level-1);\n",
              "}\n",
              "\n",
              ".sk-estimator-doc-link.fitted,\n",
              "a:link.sk-estimator-doc-link.fitted,\n",
              "a:visited.sk-estimator-doc-link.fitted {\n",
              "  /* fitted */\n",
              "  border: var(--sklearn-color-fitted-level-1) 1pt solid;\n",
              "  color: var(--sklearn-color-fitted-level-1);\n",
              "}\n",
              "\n",
              "/* On hover */\n",
              "div.sk-estimator:hover .sk-estimator-doc-link:hover,\n",
              ".sk-estimator-doc-link:hover,\n",
              "div.sk-label-container:hover .sk-estimator-doc-link:hover,\n",
              ".sk-estimator-doc-link:hover {\n",
              "  /* unfitted */\n",
              "  background-color: var(--sklearn-color-unfitted-level-3);\n",
              "  color: var(--sklearn-color-background);\n",
              "  text-decoration: none;\n",
              "}\n",
              "\n",
              "div.sk-estimator.fitted:hover .sk-estimator-doc-link.fitted:hover,\n",
              ".sk-estimator-doc-link.fitted:hover,\n",
              "div.sk-label-container:hover .sk-estimator-doc-link.fitted:hover,\n",
              ".sk-estimator-doc-link.fitted:hover {\n",
              "  /* fitted */\n",
              "  background-color: var(--sklearn-color-fitted-level-3);\n",
              "  color: var(--sklearn-color-background);\n",
              "  text-decoration: none;\n",
              "}\n",
              "\n",
              "/* Span, style for the box shown on hovering the info icon */\n",
              ".sk-estimator-doc-link span {\n",
              "  display: none;\n",
              "  z-index: 9999;\n",
              "  position: relative;\n",
              "  font-weight: normal;\n",
              "  right: .2ex;\n",
              "  padding: .5ex;\n",
              "  margin: .5ex;\n",
              "  width: min-content;\n",
              "  min-width: 20ex;\n",
              "  max-width: 50ex;\n",
              "  color: var(--sklearn-color-text);\n",
              "  box-shadow: 2pt 2pt 4pt #999;\n",
              "  /* unfitted */\n",
              "  background: var(--sklearn-color-unfitted-level-0);\n",
              "  border: .5pt solid var(--sklearn-color-unfitted-level-3);\n",
              "}\n",
              "\n",
              ".sk-estimator-doc-link.fitted span {\n",
              "  /* fitted */\n",
              "  background: var(--sklearn-color-fitted-level-0);\n",
              "  border: var(--sklearn-color-fitted-level-3);\n",
              "}\n",
              "\n",
              ".sk-estimator-doc-link:hover span {\n",
              "  display: block;\n",
              "}\n",
              "\n",
              "/* \"?\"-specific style due to the `<a>` HTML tag */\n",
              "\n",
              "#sk-container-id-1 a.estimator_doc_link {\n",
              "  float: right;\n",
              "  font-size: 1rem;\n",
              "  line-height: 1em;\n",
              "  font-family: monospace;\n",
              "  background-color: var(--sklearn-color-background);\n",
              "  border-radius: 1rem;\n",
              "  height: 1rem;\n",
              "  width: 1rem;\n",
              "  text-decoration: none;\n",
              "  /* unfitted */\n",
              "  color: var(--sklearn-color-unfitted-level-1);\n",
              "  border: var(--sklearn-color-unfitted-level-1) 1pt solid;\n",
              "}\n",
              "\n",
              "#sk-container-id-1 a.estimator_doc_link.fitted {\n",
              "  /* fitted */\n",
              "  border: var(--sklearn-color-fitted-level-1) 1pt solid;\n",
              "  color: var(--sklearn-color-fitted-level-1);\n",
              "}\n",
              "\n",
              "/* On hover */\n",
              "#sk-container-id-1 a.estimator_doc_link:hover {\n",
              "  /* unfitted */\n",
              "  background-color: var(--sklearn-color-unfitted-level-3);\n",
              "  color: var(--sklearn-color-background);\n",
              "  text-decoration: none;\n",
              "}\n",
              "\n",
              "#sk-container-id-1 a.estimator_doc_link.fitted:hover {\n",
              "  /* fitted */\n",
              "  background-color: var(--sklearn-color-fitted-level-3);\n",
              "}\n",
              "</style><div id=\"sk-container-id-1\" class=\"sk-top-container\"><div class=\"sk-text-repr-fallback\"><pre>MLPClassifier(hidden_layer_sizes=(128, 64), max_iter=500)</pre><b>In a Jupyter environment, please rerun this cell to show the HTML representation or trust the notebook. <br />On GitHub, the HTML representation is unable to render, please try loading this page with nbviewer.org.</b></div><div class=\"sk-container\" hidden><div class=\"sk-item\"><div class=\"sk-estimator fitted sk-toggleable\"><input class=\"sk-toggleable__control sk-hidden--visually\" id=\"sk-estimator-id-1\" type=\"checkbox\" checked><label for=\"sk-estimator-id-1\" class=\"sk-toggleable__label fitted sk-toggleable__label-arrow\"><div><div>MLPClassifier</div></div><div><a class=\"sk-estimator-doc-link fitted\" rel=\"noreferrer\" target=\"_blank\" href=\"https://scikit-learn.org/1.6/modules/generated/sklearn.neural_network.MLPClassifier.html\">?<span>Documentation for MLPClassifier</span></a><span class=\"sk-estimator-doc-link fitted\">i<span>Fitted</span></span></div></label><div class=\"sk-toggleable__content fitted\"><pre>MLPClassifier(hidden_layer_sizes=(128, 64), max_iter=500)</pre></div> </div></div></div></div>"
            ]
          },
          "metadata": {},
          "execution_count": 59
        }
      ]
    },
    {
      "cell_type": "code",
      "source": [
        "# Save the trained model\n",
        "with open('mlp_model.pkl', 'wb') as f:\n",
        "    pickle.dump(mlp_model, f)\n",
        "\n",
        "print(\"MLP model trained and saved successfully.\")"
      ],
      "metadata": {
        "colab": {
          "base_uri": "https://localhost:8080/"
        },
        "id": "N64Y8dQVajmF",
        "outputId": "4bfc35f6-f273-4fe0-f260-ae4db73037d5"
      },
      "execution_count": null,
      "outputs": [
        {
          "output_type": "stream",
          "name": "stdout",
          "text": [
            "MLP model trained and saved successfully.\n"
          ]
        }
      ]
    },
    {
      "cell_type": "code",
      "source": [
        "# Naive Bayes - Using OneVsRestClassifier for multi-label classification\n",
        "nb_model = OneVsRestClassifier(MultinomialNB())\n",
        "nb_model.fit(X_train_tfidf, y_train)\n",
        "y_pred_nb = nb_model.predict(X_test_tfidf)"
      ],
      "metadata": {
        "id": "sfFzilitaoPH"
      },
      "execution_count": null,
      "outputs": []
    },
    {
      "cell_type": "code",
      "source": [
        "# Logistic Regression - Using OneVsRestClassifier for multi-label classification\n",
        "lr_model = OneVsRestClassifier(LogisticRegression(max_iter=1000, multi_class='ovr'))\n",
        "lr_model.fit(X_train_tfidf, y_train)\n",
        "y_pred_lr = lr_model.predict(X_test_tfidf)"
      ],
      "metadata": {
        "id": "MVLxVeELar0T"
      },
      "execution_count": null,
      "outputs": []
    },
    {
      "cell_type": "code",
      "source": [
        "# Check dataset size after cleaning\n",
        "print(\"\\nDataset sizes after cleaning:\")\n",
        "print(\"Training data size:\", train_data.shape)\n",
        "print(\"Test data size:\", test_data.shape)\n",
        "\n",
        "# Plot the distribution of genres\n",
        "plt.figure(figsize=(15,15))\n",
        "plt.pie(train_data['Gener'].value_counts(), labels=train_data['Gener'].value_counts().index, autopct='%0.1f%%')\n",
        "plt.show()\n",
        "\n",
        "# Check plot summary lengths\n",
        "train_data['summary_length'] = train_data['plot_summary'].apply(len)\n",
        "test_data['summary_length'] = test_data['plot_summary'].apply(len)\n",
        "\n",
        "# Plot the distribution of plot summary lengths\n",
        "plt.figure(figsize=(10, 5))\n",
        "sns.histplot(train_data['summary_length'], bins=50, kde=True, color='blue', label='Train')\n",
        "sns.histplot(test_data['summary_length'], bins=50, kde=True, color='orange', label='Test')\n",
        "plt.title('Plot Summary Length Distribution')\n",
        "plt.xlabel('Number of Characters')\n",
        "plt.ylabel('Frequency')\n",
        "plt.legend()\n",
        "plt.show()\n",
        "\n",
        "# Remove outliers based on plot summary lengths\n",
        "# *** ADJUSTMENT: Filter test_solution to match the indices of test_data after removing outliers ***\n",
        "train_data = train_data[(train_data['summary_length'] >= 50) & (train_data['summary_length'] <= 5000)]\n",
        "test_data = test_data[(test_data['summary_length'] >= 50) & (test_data['summary_length'] <= 5000)]\n",
        "\n",
        "# Filter test_solution DataFrame to align with the cleaned test_data\n",
        "test_solution = test_solution[test_solution.index.isin(test_data.index)]\n",
        "\n",
        "# Update y_test after filtering test_solution in ipython-input-120-59e18764bd94\n",
        "y_test = mlb.transform(test_solution['genre'].apply(lambda x: [g.strip() for g in x if g.strip()])) # Recalculate y_test\n",
        "\n",
        "print(\"\\nDataset sizes after removing outliers:\")\n",
        "print(\"Training data size:\", train_data.shape)\n",
        "print(\"Test data size:\", test_data.shape)\n",
        "print(\"Test Solution data size:\", test_solution.shape) #Added this line for clarity"
      ],
      "metadata": {
        "colab": {
          "base_uri": "https://localhost:8080/",
          "height": 686
        },
        "id": "qznMZ5kCwhP0",
        "outputId": "eed10139-2cfd-4afa-e312-96f2932ca315"
      },
      "execution_count": null,
      "outputs": [
        {
          "output_type": "stream",
          "name": "stdout",
          "text": [
            "\n",
            "Dataset sizes after cleaning:\n",
            "Training data size: (54056, 7)\n",
            "Test data size: (54185, 3)\n"
          ]
        },
        {
          "output_type": "display_data",
          "data": {
            "text/plain": [
              "<Figure size 1500x1500 with 1 Axes>"
            ],
            "image/png": "[encoded data removed]"
          },
          "metadata": {}
        },
        {
          "output_type": "display_data",
          "data": {
            "text/plain": [
              "<Figure size 1000x500 with 1 Axes>"
            ],
            "image/png": "[encoded data removed]"
          },
          "metadata": {}
        },
        {
          "output_type": "stream",
          "name": "stdout",
          "text": [
            "\n",
            "Dataset sizes after removing outliers:\n",
            "Training data size: (54056, 7)\n",
            "Test data size: (54185, 3)\n",
            "Test Solution data size: (54185, 2)\n"
          ]
        }
      ]
    },
    {
      "cell_type": "code",
      "source": [
        "# Evaluate models\n",
        "def evaluate_model(model, X_test, y_test, model_name):\n",
        "    \"\"\"Evaluate a model's performance.\"\"\"\n",
        "    y_pred = model.predict(X_test)\n",
        "    # Convert y_pred to a dense NumPy array to ensure consistency\n",
        "    y_pred = y_pred.toarray() if hasattr(y_pred, \"toarray\") else y_pred\n",
        "    print(f\"\\n{model_name} Performance:\")\n",
        "    print(\"Accuracy:\", accuracy_score(y_test, y_pred))\n",
        "    print(\"Classification Report:\\n\", classification_report(y_test, y_pred, target_names=mlb.classes_))\n",
        "\n",
        "evaluate_model(best_lr_model, X_test_tfidf, y_test, \"Logistic Regression\")\n",
        "evaluate_model(best_nb_model, X_test_tfidf, y_test, \"Naive Bayes\")"
      ],
      "metadata": {
        "colab": {
          "base_uri": "https://localhost:8080/"
        },
        "id": "V-X7iqDwau9H",
        "outputId": "e2a813af-cda6-4d9c-ad46-484ba3bb44b5"
      },
      "execution_count": null,
      "outputs": [
        {
          "output_type": "stream",
          "name": "stdout",
          "text": [
            "\n",
            "Logistic Regression Performance:\n",
            "Accuracy: 0.0\n",
            "Classification Report:\n",
            "                precision    recall  f1-score   support\n",
            "\n",
            "      action        0.00      0.00      0.00         0\n",
            "       adult        0.00      0.00      0.00         0\n",
            "   adventure        0.00      0.00      0.00         0\n",
            "   animation        0.00      0.00      0.00         0\n",
            "   biography        0.00      0.00      0.00         0\n",
            "      comedy        0.00      0.00      0.00         0\n",
            "       crime        0.00      0.00      0.00         0\n",
            " documentary        0.00      0.00      0.00         0\n",
            "       drama        0.00      0.00      0.00         0\n",
            "      family        0.00      0.00      0.00         0\n",
            "     fantasy        0.00      0.00      0.00         0\n",
            "   game-show        0.00      0.00      0.00         0\n",
            "     history        0.00      0.00      0.00         0\n",
            "      horror        0.00      0.00      0.00         0\n",
            "       music        0.00      0.00      0.00         0\n",
            "     musical        0.00      0.00      0.00         0\n",
            "     mystery        0.00      0.00      0.00         0\n",
            "        news        0.00      0.00      0.00         0\n",
            "  reality-tv        0.00      0.00      0.00         0\n",
            "     romance        0.00      0.00      0.00         0\n",
            "      sci-fi        0.00      0.00      0.00         0\n",
            "       short        0.00      0.00      0.00         0\n",
            "       sport        0.00      0.00      0.00         0\n",
            "   talk-show        0.00      0.00      0.00         0\n",
            "    thriller        0.00      0.00      0.00         0\n",
            "         war        0.00      0.00      0.00         0\n",
            "     western        0.00      0.00      0.00         0\n",
            "           []       0.00      0.00      0.00     54185\n",
            "\n",
            "    micro avg       0.00      0.00      0.00     54185\n",
            "    macro avg       0.00      0.00      0.00     54185\n",
            " weighted avg       0.00      0.00      0.00     54185\n",
            "  samples avg       0.00      0.00      0.00     54185\n",
            "\n",
            "\n",
            "Naive Bayes Performance:\n",
            "Accuracy: 0.0\n",
            "Classification Report:\n",
            "                precision    recall  f1-score   support\n",
            "\n",
            "      action        0.00      0.00      0.00         0\n",
            "       adult        0.00      0.00      0.00         0\n",
            "   adventure        0.00      0.00      0.00         0\n",
            "   animation        0.00      0.00      0.00         0\n",
            "   biography        0.00      0.00      0.00         0\n",
            "      comedy        0.00      0.00      0.00         0\n",
            "       crime        0.00      0.00      0.00         0\n",
            " documentary        0.00      0.00      0.00         0\n",
            "       drama        0.00      0.00      0.00         0\n",
            "      family        0.00      0.00      0.00         0\n",
            "     fantasy        0.00      0.00      0.00         0\n",
            "   game-show        0.00      0.00      0.00         0\n",
            "     history        0.00      0.00      0.00         0\n",
            "      horror        0.00      0.00      0.00         0\n",
            "       music        0.00      0.00      0.00         0\n",
            "     musical        0.00      0.00      0.00         0\n",
            "     mystery        0.00      0.00      0.00         0\n",
            "        news        0.00      0.00      0.00         0\n",
            "  reality-tv        0.00      0.00      0.00         0\n",
            "     romance        0.00      0.00      0.00         0\n",
            "      sci-fi        0.00      0.00      0.00         0\n",
            "       short        0.00      0.00      0.00         0\n",
            "       sport        0.00      0.00      0.00         0\n",
            "   talk-show        0.00      0.00      0.00         0\n",
            "    thriller        0.00      0.00      0.00         0\n",
            "         war        0.00      0.00      0.00         0\n",
            "     western        0.00      0.00      0.00         0\n",
            "           []       0.00      0.00      0.00     54185\n",
            "\n",
            "    micro avg       0.00      0.00      0.00     54185\n",
            "    macro avg       0.00      0.00      0.00     54185\n",
            " weighted avg       0.00      0.00      0.00     54185\n",
            "  samples avg       0.00      0.00      0.00     54185\n",
            "\n"
          ]
        }
      ]
    },
    {
      "cell_type": "code",
      "source": [
        "print(\"Number of classes in mlb:\", len(mlb.classes_))\n",
        "print(\"Classes in mlb:\", mlb.classes_)"
      ],
      "metadata": {
        "colab": {
          "base_uri": "https://localhost:8080/"
        },
        "id": "kS3IKt3pWVnL",
        "outputId": "8cfc11bc-cc73-455c-91c3-22c7318e8a96"
      },
      "execution_count": null,
      "outputs": [
        {
          "output_type": "stream",
          "name": "stdout",
          "text": [
            "Number of classes in mlb: 5\n",
            "Classes in mlb: ['adventure' 'crime' 'fantasy' 'mystery' 'sci-fi']\n"
          ]
        }
      ]
    },
    {
      "cell_type": "code",
      "source": [
        "if hasattr(lr_model, 'classes_'):\n",
        "    print(\"Number of classes in Logistic Regression model:\", len(lr_model.classes_))\n",
        "if hasattr(nb_model, 'classes_'):\n",
        "    print(\"Number of classes in Naive Bayes model:\", len(nb_model.classes_))\n",
        "if hasattr(mlp_model, 'classes_'):\n",
        "    print(\"Number of classes in MLP model:\", len(mlp_model.classes_))"
      ],
      "metadata": {
        "colab": {
          "base_uri": "https://localhost:8080/"
        },
        "id": "S-P8BWkbWc0N",
        "outputId": "1283de23-b7e2-48b8-b6ba-ee42d0988e45"
      },
      "execution_count": null,
      "outputs": [
        {
          "output_type": "stream",
          "name": "stdout",
          "text": [
            "Number of classes in Logistic Regression model: 5\n",
            "Number of classes in Naive Bayes model: 5\n",
            "Number of classes in MLP model: 28\n"
          ]
        }
      ]
    },
    {
      "cell_type": "code",
      "source": [
        "from sklearn.model_selection import train_test_split\n",
        "from sklearn.feature_extraction.text import TfidfVectorizer\n",
        "from sklearn.multiclass import OneVsRestClassifier\n",
        "from sklearn.linear_model import LogisticRegression\n",
        "from sklearn.naive_bayes import MultinomialNB\n",
        "from sklearn.preprocessing import MultiLabelBinarizer\n",
        "import pickle\n",
        "\n",
        "# Example data (replace with your actual data)\n",
        "train_data = pd.DataFrame({\n",
        "    'plot_summary': [\n",
        "        \"A young wizard joins a magical school and faces a dark sorcerer.\",\n",
        "        \"A detective investigates a mysterious murder in a quiet town.\",\n",
        "        \"An astronaut travels to Mars to save humanity from extinction.\"\n",
        "    ],\n",
        "    'genre': [\n",
        "        [\"fantasy\", \"adventure\"],\n",
        "        [\"mystery\", \"crime\"],\n",
        "        [\"sci-fi\", \"adventure\"]\n",
        "    ]\n",
        "})\n",
        "\n",
        "# Preprocess the data\n",
        "train_data['cleaned_plot'] = train_data['plot_summary'].apply(preprocess_text)\n",
        "\n",
        "# Fit the MultilabelBinarizer\n",
        "mlb = MultiLabelBinarizer()\n",
        "y_train = mlb.fit_transform(train_data['genre'])\n",
        "\n",
        "# Vectorize the text data\n",
        "tfidf_vectorizer = TfidfVectorizer(max_features=5000, stop_words='english')\n",
        "X_train_tfidf = tfidf_vectorizer.fit_transform(train_data['cleaned_plot'])\n",
        "\n",
        "# Train Logistic Regression model\n",
        "lr_model = OneVsRestClassifier(LogisticRegression(max_iter=1000))\n",
        "lr_model.fit(X_train_tfidf, y_train)\n",
        "\n",
        "# Train Naive Bayes model\n",
        "nb_model = OneVsRestClassifier(MultinomialNB())\n",
        "nb_model.fit(X_train_tfidf, y_train)\n",
        "\n",
        "# Save the models and vectorizer\n",
        "with open('lr_model.pkl', 'wb') as f:\n",
        "    pickle.dump(lr_model, f)\n",
        "\n",
        "with open('nb_model.pkl', 'wb') as f:\n",
        "    pickle.dump(nb_model, f)\n",
        "\n",
        "with open('tfidf_vectorizer.pkl', 'wb') as f:\n",
        "    pickle.dump(tfidf_vectorizer, f)\n",
        "\n",
        "with open('mlb_encoder.pkl', 'wb') as f:\n",
        "    pickle.dump(mlb, f)"
      ],
      "metadata": {
        "id": "Vv6R6s0TqmUM"
      },
      "execution_count": null,
      "outputs": []
    },
    {
      "cell_type": "code",
      "source": [
        "def predict_genre(plot_summary, model_choice):\n",
        "    \"\"\"\n",
        "    Predict genres for a given plot summary using the selected model.\n",
        "    \"\"\"\n",
        "    try:\n",
        "        # Preprocess the input text\n",
        "        cleaned_plot = preprocess_text(plot_summary)\n",
        "        print(\"Cleaned Plot:\", cleaned_plot)  # Debug\n",
        "\n",
        "        # Select the model based on user choice\n",
        "        if model_choice == \"Logistic Regression\":\n",
        "            # Transform the text into TF-IDF features\n",
        "            features = tfidf_vectorizer.transform([cleaned_plot])\n",
        "            model = lr_model\n",
        "        elif model_choice == \"Naive Bayes\":\n",
        "            # Transform the text into TF-IDF features\n",
        "            features = tfidf_vectorizer.transform([cleaned_plot])\n",
        "            model = nb_model\n",
        "        elif model_choice == \"MLP with BERT\":\n",
        "            # Generate BERT embeddings\n",
        "            features = bert_embeddings(cleaned_plot)\n",
        "            model = mlp_model\n",
        "\n",
        "        # Predict genres\n",
        "        if model_choice == \"MLP with BERT\":\n",
        "            # Ensure the MLP model outputs predictions with the correct number of classes\n",
        "            predicted = model.predict(features.reshape(1, -1))\n",
        "        else:\n",
        "            predicted = model.predict(features)\n",
        "\n",
        "        print(\"Predicted Binary Labels:\", predicted)  # Debug\n",
        "\n",
        "        # Convert binary predictions to genre labels\n",
        "        genres = mlb.inverse_transform(predicted)\n",
        "        print(\"Predicted Genres:\", genres)  # Debug\n",
        "\n",
        "        # Format the output\n",
        "        if len(genres[0]) > 0:\n",
        "            return \", \".join(genres[0])\n",
        "        else:\n",
        "            return \"No genres predicted.\"\n",
        "    except Exception as e:\n",
        "        return f\"Error during prediction: {str(e)}\""
      ],
      "metadata": {
        "id": "9ttdLORdqibd"
      },
      "execution_count": null,
      "outputs": []
    },
    {
      "cell_type": "code",
      "source": [
        "# Example: Train MLP model\n",
        "from sklearn.neural_network import MLPClassifier\n",
        "\n",
        "# Generate BERT embeddings for training data\n",
        "X_train_bert = np.array([bert_embeddings(text) for text in train_data['cleaned_plot']])\n",
        "# Reshape X_train_bert to 2D\n",
        "X_train_bert = X_train_bert.reshape(X_train_bert.shape[0], -1)  # Reshape to (num_samples, num_features)\n",
        "\n",
        "# Train MLP model\n",
        "mlp_model = MLPClassifier(hidden_layer_sizes=(128, 64), max_iter=500, activation='relu')\n",
        "mlp_model.fit(X_train_bert, y_train)\n",
        "\n",
        "# Save the MLP model\n",
        "with open('mlp_model.pkl', 'wb') as f:\n",
        "    pickle.dump(mlp_model, f)"
      ],
      "metadata": {
        "id": "MLRKEo8sW2nD"
      },
      "execution_count": null,
      "outputs": []
    },
    {
      "cell_type": "code",
      "source": [
        "try:\n",
        "    with open('lr_model.pkl', 'rb') as f:\n",
        "        lr_model = pickle.load(f)\n",
        "    print(\"Logistic Regression model loaded successfully.\")\n",
        "except Exception as e:\n",
        "    print(f\"Error loading Logistic Regression model: {e}\")\n",
        "\n",
        "try:\n",
        "    with open('nb_model.pkl', 'rb') as f:\n",
        "        nb_model = pickle.load(f)\n",
        "    print(\"Naive Bayes model loaded successfully.\")\n",
        "except Exception as e:\n",
        "    print(f\"Error loading Naive Bayes model: {e}\")\n",
        "\n",
        "try:\n",
        "    with open('tfidf_vectorizer.pkl', 'rb') as f:\n",
        "        tfidf_vectorizer = pickle.load(f)\n",
        "    print(\"TF-IDF Vectorizer loaded successfully.\")\n",
        "except Exception as e:\n",
        "    print(f\"Error loading TF-IDF Vectorizer: {e}\")\n",
        "\n",
        "try:\n",
        "    with open('mlb_encoder.pkl', 'rb') as f:\n",
        "        mlb = pickle.load(f)\n",
        "    print(\"MultilabelBinarizer loaded successfully.\")\n",
        "except Exception as e:\n",
        "    print(f\"Error loading MultilabelBinarizer: {e}\")\n",
        "\n",
        "try:\n",
        "    with open('mlp_model.pkl', 'rb') as f:\n",
        "        mlp_model = pickle.load(f)\n",
        "    print(\"MLP model loaded successfully.\")\n",
        "except Exception as e:\n",
        "    print(f\"Error loading MLP model: {e}\")"
      ],
      "metadata": {
        "colab": {
          "base_uri": "https://localhost:8080/"
        },
        "id": "JyowfuqasWrO",
        "outputId": "ae59d843-a189-4c8c-d07c-5ac58b4dd508"
      },
      "execution_count": null,
      "outputs": [
        {
          "output_type": "stream",
          "name": "stdout",
          "text": [
            "Logistic Regression model loaded successfully.\n",
            "Naive Bayes model loaded successfully.\n",
            "TF-IDF Vectorizer loaded successfully.\n",
            "MultilabelBinarizer loaded successfully.\n",
            "MLP model loaded successfully.\n"
          ]
        }
      ]
    },
    {
      "cell_type": "code",
      "source": [
        "try:\n",
        "    tokenizer = BertTokenizer.from_pretrained('bert-base-uncased')\n",
        "    bert_model = BertModel.from_pretrained('bert-base-uncased').eval()\n",
        "    device = torch.device(\"cuda\" if torch.cuda.is_available() else \"cpu\")\n",
        "    bert_model = bert_model.to(device)\n",
        "    print(\"BERT model and tokenizer loaded successfully.\")\n",
        "except Exception as e:\n",
        "    print(f\"Error loading BERT model and tokenizer: {e}\")"
      ],
      "metadata": {
        "colab": {
          "base_uri": "https://localhost:8080/"
        },
        "id": "xYMa4nQlsZ8m",
        "outputId": "ca68e1e0-326a-442d-ddc0-1ac8b02f40ab"
      },
      "execution_count": null,
      "outputs": [
        {
          "output_type": "stream",
          "name": "stdout",
          "text": [
            "BERT model and tokenizer loaded successfully.\n"
          ]
        }
      ]
    },
    {
      "cell_type": "code",
      "source": [
        "new_plots = [\n",
        "    \"A young wizard joins a magical school and faces a dark sorcerer.\",\n",
        "    \"A detective investigates a mysterious murder in a quiet town.\",\n",
        "    \"An astronaut travels to Mars to save humanity from extinction.\"\n",
        "]"
      ],
      "metadata": {
        "id": "OVmp_88Wa-Ik"
      },
      "execution_count": null,
      "outputs": []
    },
    {
      "cell_type": "code",
      "source": [
        "print(\"\\nPredicted Genres for New Plots:\")\n",
        "for i, plot in enumerate(new_plots):\n",
        "    genres = predict_genre(plot, \"MLP with BERT\")  # Pass \"MLP with BERT\" as the model choice\n",
        "    print(f\"Plot {i+1}: {plot}\")\n",
        "    print(f\"Predicted Genres: {genres}\")"
      ],
      "metadata": {
        "colab": {
          "base_uri": "https://localhost:8080/"
        },
        "id": "Vsw2bGPnbBJW",
        "outputId": "8fa50f22-f08d-487b-a526-a4269b87ed42"
      },
      "execution_count": null,
      "outputs": [
        {
          "output_type": "stream",
          "name": "stdout",
          "text": [
            "\n",
            "Predicted Genres for New Plots:\n",
            "Cleaned Plot: young wizard join magical school face dark sorcerer\n",
            "Plot 1: A young wizard joins a magical school and faces a dark sorcerer.\n",
            "Predicted Genres: Error during prediction: name 'bert_embeddings' is not defined\n",
            "Cleaned Plot: detective investigates mysterious murder quiet town\n",
            "Plot 2: A detective investigates a mysterious murder in a quiet town.\n",
            "Predicted Genres: Error during prediction: name 'bert_embeddings' is not defined\n",
            "Cleaned Plot: astronaut travel mar save humanity extinction\n",
            "Plot 3: An astronaut travels to Mars to save humanity from extinction.\n",
            "Predicted Genres: Error during prediction: name 'bert_embeddings' is not defined\n"
          ]
        }
      ]
    },
    {
      "cell_type": "code",
      "source": [
        "# Check if all required files are present\n",
        "import os\n",
        "required_files = ['nb_model.pkl', 'lr_model.pkl', 'tfidf_vectorizer.pkl', 'mlb_encoder.pkl']\n",
        "missing_files = [file for file in required_files if not os.path.exists(file)]\n",
        "\n",
        "if missing_files:\n",
        "    print(\"Missing files:\", missing_files)\n",
        "else:\n",
        "    print(\"All required files are present.\")\n",
        "\n",
        "print(\"\\nModels and vectorizer saved.\")"
      ],
      "metadata": {
        "colab": {
          "base_uri": "https://localhost:8080/"
        },
        "id": "ezL3PopDbJUu",
        "outputId": "a04a574d-44e9-4cba-de2d-4e8f263b888d"
      },
      "execution_count": null,
      "outputs": [
        {
          "output_type": "stream",
          "name": "stdout",
          "text": [
            "All required files are present.\n",
            "\n",
            "Models and vectorizer saved.\n"
          ]
        }
      ]
    },
    {
      "cell_type": "code",
      "source": [
        "# Generate BERT embeddings for a single plot\n",
        "cleaned_plot = preprocess_text(\"An astronaut travels to Mars to save humanity from extinction.\")\n",
        "print(\"Cleaned Plot:\", cleaned_plot)"
      ],
      "metadata": {
        "colab": {
          "base_uri": "https://localhost:8080/"
        },
        "id": "VzPdMMy5bQCo",
        "outputId": "a1d45516-e1db-42e0-8af1-25601e8a106f"
      },
      "execution_count": null,
      "outputs": [
        {
          "output_type": "stream",
          "name": "stdout",
          "text": [
            "Cleaned Plot: astronaut travel mar save humanity extinction\n"
          ]
        }
      ]
    },
    {
      "cell_type": "code",
      "source": [
        "features = tfidf_vectorizer.transform([cleaned_plot])\n",
        "print(\"TF-IDF Features Shape:\", features.shape)\n",
        "print(\"TF-IDF Features:\", features.toarray())"
      ],
      "metadata": {
        "colab": {
          "base_uri": "https://localhost:8080/"
        },
        "id": "2C-00YVubTxg",
        "outputId": "d952a107-fa40-41d4-ea6a-8288372b4c4e"
      },
      "execution_count": null,
      "outputs": [
        {
          "output_type": "stream",
          "name": "stdout",
          "text": [
            "TF-IDF Features Shape: (1, 20)\n",
            "TF-IDF Features: [[0.40824829 0.         0.         0.40824829 0.         0.40824829\n",
            "  0.         0.         0.         0.40824829 0.         0.\n",
            "  0.         0.40824829 0.         0.         0.         0.40824829\n",
            "  0.         0.        ]]\n"
          ]
        }
      ]
    },
    {
      "cell_type": "code",
      "source": [
        "# Generate BERT embeddings for the subset\n",
        "# Assuming you have a variable 'cleaned_plot' containing the preprocessed text\n",
        "embeddings = bert_embeddings_batch([cleaned_plot], batch_size=1)\n",
        "print(\"BERT Embeddings Shape:\", embeddings.shape)\n",
        "print(\"BERT Embeddings:\", embeddings)"
      ],
      "metadata": {
        "colab": {
          "base_uri": "https://localhost:8080/"
        },
        "id": "0LzBWlBJbXCf",
        "outputId": "ca8f1b9a-5d10-42ae-9652-cc859740142c"
      },
      "execution_count": null,
      "outputs": [
        {
          "output_type": "stream",
          "name": "stdout",
          "text": [
            "BERT Embeddings Shape: (1, 768)\n",
            "BERT Embeddings: [[ 1.49641484e-01  1.11005664e-01  1.22848749e-01  1.98702201e-01\n",
            "   4.18980092e-01 -2.58568645e-01  1.52008653e-01  9.60539207e-02\n",
            "   2.71281227e-02 -4.04946625e-01  6.42166883e-02 -5.04656583e-02\n",
            "  -7.94860572e-02  2.87532508e-01 -1.72838598e-01  1.64121073e-02\n",
            "  -1.86009422e-01  6.16709590e-02 -5.56144379e-02 -1.70626920e-02\n",
            "   1.91818789e-01 -1.50949731e-01  1.39303178e-01  9.80933756e-02\n",
            "   1.62841268e-02 -9.58957225e-02 -1.61410511e-01  1.79904550e-01\n",
            "  -5.54200225e-02 -1.12486556e-02  3.76757570e-02 -1.29971370e-01\n",
            "  -3.67304944e-02 -1.83674842e-01 -6.56215101e-02 -3.47181782e-03\n",
            "  -1.34664252e-02  1.13067031e-02 -2.10466683e-01  1.15237579e-01\n",
            "  -1.39902711e-01 -1.97870180e-01 -9.87816826e-02  1.60135299e-01\n",
            "   2.17197761e-02 -2.06210867e-01 -2.71660298e-01  2.11523145e-01\n",
            "   1.75887987e-01 -2.65916824e-01 -7.86457211e-02  1.84794694e-01\n",
            "  -2.09296942e-01 -1.35643035e-01  1.53161824e-01  4.81735796e-01\n",
            "   2.42862865e-01 -3.19829941e-01 -1.54091507e-01 -6.97603822e-02\n",
            "   8.45405161e-02 -1.42413005e-02 -9.16521400e-02 -7.21892640e-02\n",
            "  -2.30190098e-01  3.73187736e-02  2.47618958e-01  1.92453355e-01\n",
            "  -6.94364458e-02 -1.94845334e-01  3.03624626e-02 -3.54605049e-01\n",
            "  -4.13844287e-02  1.60237163e-01 -7.61563852e-02 -1.96123600e-01\n",
            "  -2.09558621e-01  1.40372753e-01  2.39688098e-01 -1.92617640e-01\n",
            "   1.07368931e-01  1.39470279e-01 -7.50971586e-02  2.99374938e-01\n",
            "  -6.14617914e-02 -5.12893945e-02  1.03776716e-03  4.05301433e-03\n",
            "  -2.16137752e-01  1.05928086e-01  1.30374193e-01 -2.58097261e-01\n",
            "   6.81909472e-02  1.14366218e-01  4.06325608e-01 -1.00204863e-01\n",
            "  -1.16426989e-01 -1.38577679e-02 -1.88785717e-01  1.52522713e-01\n",
            "  -1.01565666e-01 -5.89149967e-02  2.40210239e-02  2.04444721e-01\n",
            "  -2.93764919e-02 -8.88988152e-02  1.38838142e-01  1.73580244e-01\n",
            "   1.29030496e-02 -5.04930317e-02  2.25548565e-01 -3.18817347e-02\n",
            "  -1.07990697e-01 -8.33754912e-02 -2.76072860e-01  1.13264352e-01\n",
            "   1.75074399e-01 -1.60830721e-01  1.48480192e-01 -7.17290491e-02\n",
            "   1.12369508e-02  3.59126851e-02  5.30727729e-02  5.73147893e-01\n",
            "  -1.68516040e-02  2.67356783e-01 -1.21789850e-01 -2.68460035e-01\n",
            "   1.00928321e-01 -1.06906004e-01  8.00501853e-02  1.81442395e-01\n",
            "  -2.52936184e-02 -1.68169513e-01  1.37018457e-01  2.05590189e-01\n",
            "   1.16967008e-01  7.24373385e-02 -2.37707153e-01 -1.65727124e-01\n",
            "  -1.37755468e-01  1.60351440e-01 -1.87436521e-01 -2.99192518e-02\n",
            "   3.35595846e-01  2.39444479e-01  5.93644455e-02 -9.89675447e-02\n",
            "  -1.56468570e-01 -5.67664057e-02  5.43129817e-02  4.18829210e-02\n",
            "  -2.13734090e-01 -1.91239804e-01 -5.15082479e-03  1.86910704e-01\n",
            "   4.78896983e-02  4.23929170e-02 -2.93298066e-03  9.37679261e-02\n",
            "   2.64078081e-01  1.13813870e-01  4.37397249e-02 -1.05037846e-01\n",
            "  -6.48191124e-02 -1.06193479e-02 -1.45347103e-01  1.40873402e-01\n",
            "  -3.13233547e-02 -1.14554927e-01 -2.37021059e-01  4.13504913e-02\n",
            "   3.79694581e-01  6.90247491e-02  1.51086032e-01  8.38382095e-02\n",
            "   3.41611743e-01  2.08461404e-01 -2.61362523e-01  1.08777434e-01\n",
            "  -1.32915831e+00 -1.49366409e-02 -5.15973754e-02 -6.69365600e-02\n",
            "   1.15044668e-01 -1.78216711e-01  3.17119062e-02  1.51000068e-01\n",
            "   6.56793192e-02 -4.77880388e-02 -2.53502667e-01 -2.16949001e-01\n",
            "  -5.70582598e-02  7.79133216e-02  2.39464194e-01 -2.23591104e-01\n",
            "   4.53118011e-02  1.36069342e-01  1.57154948e-02 -5.38356528e-02\n",
            "   1.85435433e-02 -2.48695388e-02  1.69619784e-01  4.56721596e-02\n",
            "  -1.28240213e-01  4.86154318e-01  5.26359081e-02 -5.09577058e-02\n",
            "  -2.00542137e-01 -6.35190681e-03 -2.04345644e-01  3.98346394e-01\n",
            "  -2.23003551e-01 -9.60105658e-03  1.22250363e-01 -1.22903012e-01\n",
            "   2.15932205e-02 -2.91953146e-01 -3.32562327e-01 -2.31291540e-02\n",
            "  -6.32422566e-02 -6.72590435e-02 -2.25311920e-01 -9.41717848e-02\n",
            "  -1.50554970e-01  2.04138935e-01  3.93896699e-01  4.69513685e-02\n",
            "   2.19561547e-01  6.77607879e-02 -3.56685407e-02 -1.48487836e-01\n",
            "   4.27304357e-02  8.61521587e-02 -1.58137843e-01 -4.47522588e-02\n",
            "   6.75324351e-02 -1.89865753e-01  1.15441717e-01 -9.88506079e-02\n",
            "  -2.50642687e-01 -5.49240261e-02  2.71660984e-01  7.12316409e-02\n",
            "  -5.32174483e-03 -1.78918049e-01 -8.83781072e-03  8.00135508e-02\n",
            "   1.70039684e-01 -5.54349162e-02 -3.70933086e-01 -4.34014559e-01\n",
            "   1.49718583e-01 -1.56655520e-01  1.44436106e-01 -1.29155755e-01\n",
            "  -1.18383579e-03  3.51395048e-02  9.37518850e-02 -5.18541336e-02\n",
            "   3.28912735e-01  8.81939754e-02  3.18072140e-01 -5.05322888e-02\n",
            "  -2.13401645e-01 -5.30011773e-01 -8.18294957e-02  4.09764424e-02\n",
            "   1.48995370e-01  1.83995575e-01  5.31677157e-03  1.87063292e-02\n",
            "   9.88914371e-02 -1.31928235e-01 -2.14139849e-01 -1.50767282e-01\n",
            "   2.53288716e-01  3.35620344e-01  2.59279609e-01  9.14316028e-02\n",
            "   1.08466849e-01  3.68349284e-01  7.23231137e-02  9.77067500e-02\n",
            "   1.89549103e-02 -4.24973220e-02  2.55223066e-02 -1.20397642e-01\n",
            "  -1.93727121e-01 -6.42486587e-02 -1.39700351e-02 -2.99393814e-02\n",
            "  -1.19103916e-01 -4.65937965e-02  1.48778362e-02 -2.83368528e-02\n",
            "   2.49149472e-01  1.63054600e-01  1.14389196e-01 -3.50633264e-02\n",
            "   6.70437962e-02 -1.83607191e-02 -6.96736202e-02  9.98883918e-02\n",
            "  -2.06862688e-01  2.65283078e-01  6.27924874e-03 -2.17539564e-01\n",
            "  -4.12516022e+00 -7.91149661e-02 -5.76660410e-03 -1.88368514e-01\n",
            "   8.34284872e-02 -2.37225201e-02  3.35460871e-01  5.92297837e-02\n",
            "  -3.49480391e-01 -1.23686828e-02  1.78630486e-01  5.14629558e-02\n",
            "   3.21239501e-01 -2.61704531e-02 -6.40810058e-02 -3.88774574e-02\n",
            "   1.09953620e-01 -4.50933874e-02 -2.79845655e-01  1.14442542e-01\n",
            "  -5.98226301e-02 -2.90188402e-01  1.80038959e-01 -1.31872118e-01\n",
            "   3.04748058e-01  6.30013123e-02 -1.19734764e-01  4.26753908e-02\n",
            "  -7.32470751e-02  2.11615101e-01  9.98086631e-02 -1.55993253e-02\n",
            "  -1.21573001e-01 -1.42156810e-01  2.88186818e-02  7.94183314e-02\n",
            "   8.90580863e-02  1.03093728e-01  1.37008756e-01 -9.21720825e-03\n",
            "  -5.96638545e-02 -1.01250514e-01 -8.17838907e-02  7.18617439e-02\n",
            "   3.16651821e-01 -2.53794044e-01  1.85490742e-01  7.08157346e-02\n",
            "   1.34056285e-01  1.73396364e-01  1.79729208e-01  1.21599987e-01\n",
            "   5.21420985e-02 -9.35003161e-02  3.19142081e-02  9.00342911e-02\n",
            "   2.82896273e-02  3.04522634e-01 -2.69852951e-02 -3.32038343e-01\n",
            "   4.74350840e-01  2.72489898e-02 -5.79973385e-02 -1.42624915e-01\n",
            "  -1.52450547e-01  1.57165863e-02  1.05188765e-01 -4.20367330e-01\n",
            "  -2.61892617e-01  1.04251569e-02 -1.95553750e-01  3.45779061e-02\n",
            "  -2.53957421e-01 -8.25099707e-01 -2.78879106e-01 -3.72250937e-02\n",
            "  -1.42376721e-01 -7.07574040e-02  2.07352936e-02  3.78304087e-02\n",
            "  -1.69490218e-01 -1.39645666e-01 -3.49079855e-02  1.85045432e-02\n",
            "  -1.72233373e-01 -2.11128250e-01  6.27228096e-02  3.82816121e-02\n",
            "  -8.13200623e-02 -8.93166661e-03  6.82833791e-02 -8.96276534e-02\n",
            "   5.94581738e-02  9.90761667e-02  4.04322773e-01  8.96684453e-02\n",
            "   1.39585167e-01 -1.00250408e-01  2.74958163e-01  1.15756691e-01\n",
            "  -7.04126656e-02 -3.80239427e-01  3.81690115e-01 -3.17278475e-01\n",
            "  -1.25312418e-01  6.27104193e-03 -2.96822876e-01  3.81443650e-02\n",
            "   6.04965165e-02 -7.51050562e-02  2.18050450e-01 -2.14797169e-01\n",
            "   2.14894012e-01  4.59061041e-02 -5.10618761e-02 -1.44073099e-01\n",
            "   1.42302260e-01  4.88136262e-01  2.30115116e-01  9.84096229e-02\n",
            "  -3.78001690e-01  2.94286847e-01 -2.65782684e-01  2.15641558e-02\n",
            "   1.55005902e-01  1.96372449e-01 -1.37280270e-01  2.40245044e-01\n",
            "   1.94733769e-01  5.47439978e-03 -1.24051012e-01  9.27343443e-02\n",
            "   1.11737661e-01 -1.24431118e-01  1.97218508e-01  4.25733626e-03\n",
            "  -1.56965777e-02  1.85723066e-01  1.41967803e-01  2.06773162e-01\n",
            "   9.93160382e-02 -7.20918775e-02 -1.79001614e-02 -1.75847158e-01\n",
            "  -2.10592896e-02  1.37301087e-01  8.88758153e-03  4.83268276e-02\n",
            "   1.94824770e-01  3.13459247e-01 -1.47123020e-02 -9.09546912e-02\n",
            "   1.68282002e-01 -2.64089376e-01 -4.65837941e-02 -3.30159515e-01\n",
            "   2.89382160e-01 -1.47329003e-01 -1.65647045e-01 -2.32613981e-01\n",
            "   1.24817342e-03 -3.17596868e-02 -1.44455388e-01  2.09969610e-01\n",
            "  -2.04088062e-01  2.61723429e-01  2.07538873e-01 -3.48492086e-01\n",
            "  -1.96458355e-01 -4.99539077e-04 -5.58487810e-02  5.46756834e-02\n",
            "  -8.14402029e-02 -4.81085926e-02 -1.71266794e-01  1.57205120e-01\n",
            "   1.14150368e-01 -3.89135420e-01 -1.06680878e-01  3.16322058e-01\n",
            "  -4.25759703e-02 -5.17279059e-02 -2.34413236e-01 -2.21051529e-01\n",
            "  -5.28975204e-02 -1.16023220e-01  1.27062932e-01 -2.21223474e-01\n",
            "   1.25550807e-01  9.84106511e-02 -1.02691010e-01  2.65619874e-01\n",
            "  -2.07352504e-01 -3.02946210e-01 -1.72381103e-01  8.81272331e-02\n",
            "   5.83910272e-02  6.73803687e-02  3.58242959e-01  2.53895313e-01\n",
            "   4.07424569e-03  3.14264670e-02 -7.51509145e-02  1.08220778e-01\n",
            "   1.04610927e-01 -2.48482764e-01  1.21826239e-01  2.06052005e-01\n",
            "  -2.44116038e-03 -1.08836144e-02 -1.94361746e-01 -1.92968905e-01\n",
            "  -1.19345963e-01 -1.94885153e-02  1.83905005e-01 -1.92932822e-02\n",
            "  -1.74808241e-02  1.09715976e-01  5.58883622e-02  6.04780912e-02\n",
            "  -2.58252561e-01 -6.16436899e-02 -2.70680469e-02 -3.98674458e-02\n",
            "  -6.04865700e-02  6.79842159e-02  2.90555134e-02  6.74335212e-02\n",
            "  -4.46697354e-01 -4.28374633e-02 -3.36559713e-02 -2.48439461e-01\n",
            "  -2.61384308e-01 -9.01218727e-02  3.23971659e-01  1.16154447e-01\n",
            "  -8.22780430e-02 -1.91355556e-01  8.45922381e-02  8.68983567e-03\n",
            "   2.27084197e-03 -2.35095859e-01  7.95372017e-03 -2.60063350e-01\n",
            "   1.31671757e-01  2.71434426e-01  1.83035620e-03  3.74285549e-01\n",
            "   9.73302275e-02 -1.54134095e-01 -4.56310529e-03 -1.20478436e-01\n",
            "  -1.23960346e-01 -3.02736223e-01  6.64940476e-02 -4.79351580e-01\n",
            "  -2.27572322e-01 -1.72504075e-02 -2.10124344e-01  1.48076005e-03\n",
            "  -3.79376262e-02  1.11003928e-01 -8.35550651e-02 -7.20755160e-02\n",
            "   2.21413113e-02  1.71689957e-01 -2.10063346e-02  1.07052615e-02\n",
            "  -6.57970905e-02 -2.33795643e-01  1.77284718e-01  2.40363300e-01\n",
            "   3.09681371e-02 -1.13315016e-01 -2.91326165e-01  1.92819297e-01\n",
            "   1.15729928e-01 -2.60162294e-01 -3.49072754e-01 -1.80258602e-01\n",
            "   1.22368999e-01  4.13016170e-01 -2.37625480e-01  2.13399678e-02\n",
            "   2.95025676e-01 -2.83941269e-01  7.84609020e-02  2.75143627e-02\n",
            "   5.60074672e-02 -1.74373835e-02  2.94063866e-01  2.73778159e-02\n",
            "  -1.23386592e-01  2.35182662e-02  2.15092391e-01  9.28390920e-02\n",
            "   1.65998101e-01  1.56117439e-01 -5.59629425e-02  1.01148143e-01\n",
            "  -2.64703780e-01  3.41884464e-01  1.27888083e-01  1.99164636e-03\n",
            "   5.44957072e-02 -3.73484083e-02  1.60365611e-01 -8.80616903e-03\n",
            "   1.08605810e-02  3.03503931e-01 -1.11324847e-01 -1.63073659e-01\n",
            "   1.42844439e-01  5.42551339e-01 -3.11888516e-01  6.58866167e-02\n",
            "   1.15789033e-01 -5.82482576e-01 -1.36374906e-01  8.93468484e-02\n",
            "  -1.22984804e-01  1.90512240e-01  7.73780867e-02 -1.08529598e-01\n",
            "   2.22441763e-01  4.73227054e-02 -2.10495323e-01  4.26658913e-02\n",
            "   7.44094551e-02  3.40971708e-01  6.33721873e-02  2.84799337e-01\n",
            "  -1.13579538e-02  7.07625151e-02 -1.20834701e-01  9.20478255e-02\n",
            "   1.13726377e-01  2.00968131e-01  5.98510727e-02  6.27987087e-04\n",
            "   1.18309975e-01  6.12453185e-03 -1.66259602e-01  4.10714746e-02\n",
            "   2.44151592e-01 -7.31403232e-02 -3.62200439e-02  1.70345098e-01\n",
            "   4.95933443e-01 -6.22827932e-03 -6.86402395e-02 -8.23199973e-02\n",
            "  -3.62821132e-01 -2.42338344e-01  1.64943337e-01 -6.57202378e-02\n",
            "   2.08548084e-01  1.28327966e-01  9.69015658e-02 -1.35054082e-01\n",
            "   1.56941146e-01 -2.46946678e-01  7.63182715e-02 -3.67191225e-01\n",
            "   1.78263575e-01  8.70669782e-02  7.79592246e-02 -1.83938354e-01\n",
            "  -6.08123094e-02 -1.20976586e-02  5.90422451e-02  7.44543970e-02\n",
            "  -1.71604201e-01 -2.43276358e-04  8.76800064e-03  1.57544881e-01\n",
            "   5.58715239e-02 -2.80819088e-01  4.11194190e-02 -1.13597445e-01\n",
            "  -1.64310515e-01 -4.56376731e-01 -1.30553901e-01 -7.65252486e-02\n",
            "   3.98055315e-02 -1.67122617e-01 -7.11664557e-02 -3.67141291e-02\n",
            "   1.54053628e-01 -2.66316384e-01  4.55310382e-03 -1.36571154e-01\n",
            "  -3.34826522e-02 -5.54798283e-02  2.56721228e-02 -2.54931688e-01\n",
            "   1.28281474e-01 -1.98643804e-01  1.24144569e-01  3.47824357e-02\n",
            "   2.68193066e-01 -2.95247555e-01 -6.24768995e-02  6.63742572e-02\n",
            "   2.39172757e-01  6.23470023e-02 -4.60614711e-02  5.81795089e-02\n",
            "  -1.85886413e-01  8.77802446e-02  1.20234750e-01 -9.00406241e-02\n",
            "  -6.30867422e-01  2.98191190e-01 -6.12225309e-02  2.72437055e-02\n",
            "   8.75986740e-03  1.16539173e-01  6.18834794e-02 -1.50110528e-01\n",
            "  -1.89550996e-01 -2.41038576e-03 -5.49917780e-02 -3.86492833e-02\n",
            "  -1.53287858e-01 -1.66780248e-01 -3.50344509e-01  1.31529421e-01\n",
            "  -4.58978564e-02  1.81634545e-01 -1.98997468e-01  2.29562640e-01\n",
            "  -9.08584297e-02  9.39649269e-02  5.96690923e-02 -1.48558944e-01\n",
            "  -6.46384209e-02  1.42273501e-01 -6.11416250e-02 -2.17748418e-01\n",
            "  -1.25829220e-01 -4.14240211e-02  2.37170130e-01  1.64831892e-01\n",
            "  -5.25640845e-01 -1.53004959e-01  1.47912711e-01  7.94017687e-02\n",
            "  -1.39501378e-01 -1.87524945e-01  6.81861266e-02  2.57743120e-01\n",
            "   5.45775518e-02 -2.95395613e-01  1.55790582e-01 -5.53180873e-02\n",
            "  -7.67434239e-02 -6.50029778e-02  4.77183163e-02  3.35662067e-03]]\n"
          ]
        }
      ]
    },
    {
      "cell_type": "code",
      "source": [
        "\n",
        "%%writefile movie_plot.csv\n",
        "plot_summary\n",
        "A young wizard joins a magical school and faces a dark sorcerer.\n",
        "A detective investigates a mysterious murder in a quiet town.\n",
        "An astronaut travels to Mars to save humanity from extinction."
      ],
      "metadata": {
        "colab": {
          "base_uri": "https://localhost:8080/"
        },
        "id": "mtXUFRuJbD7-",
        "outputId": "60db4950-6be7-4971-c626-f23b5427d35b"
      },
      "execution_count": null,
      "outputs": [
        {
          "output_type": "stream",
          "name": "stdout",
          "text": [
            "Writing movie_plot.csv\n"
          ]
        }
      ]
    },
    {
      "cell_type": "code",
      "source": [
        "pip install gradio"
      ],
      "metadata": {
        "colab": {
          "base_uri": "https://localhost:8080/",
          "height": 1000
        },
        "id": "x4e6c67ce87i",
        "outputId": "0f9765ff-48ed-479a-8901-b2ff7d8fdd54"
      },
      "execution_count": null,
      "outputs": [
        {
          "output_type": "stream",
          "name": "stdout",
          "text": [
            "Collecting gradio\n",
            "  Downloading gradio-5.12.0-py3-none-any.whl.metadata (16 kB)\n",
            "Collecting aiofiles<24.0,>=22.0 (from gradio)\n",
            "  Downloading aiofiles-23.2.1-py3-none-any.whl.metadata (9.7 kB)\n",
            "Requirement already satisfied: anyio<5.0,>=3.0 in /usr/local/lib/python3.11/dist-packages (from gradio) (3.7.1)\n",
            "Collecting fastapi<1.0,>=0.115.2 (from gradio)\n",
            "  Downloading fastapi-0.115.6-py3-none-any.whl.metadata (27 kB)\n",
            "Collecting ffmpy (from gradio)\n",
            "  Downloading ffmpy-0.5.0-py3-none-any.whl.metadata (3.0 kB)\n",
            "Collecting gradio-client==1.5.4 (from gradio)\n",
            "  Downloading gradio_client-1.5.4-py3-none-any.whl.metadata (7.1 kB)\n",
            "Requirement already satisfied: httpx>=0.24.1 in /usr/local/lib/python3.11/dist-packages (from gradio) (0.28.1)\n",
            "Requirement already satisfied: huggingface-hub>=0.25.1 in /usr/local/lib/python3.11/dist-packages (from gradio) (0.27.1)\n",
            "Requirement already satisfied: jinja2<4.0 in /usr/local/lib/python3.11/dist-packages (from gradio) (3.1.5)\n",
            "Collecting markupsafe~=2.0 (from gradio)\n",
            "  Downloading MarkupSafe-2.1.5-cp311-cp311-manylinux_2_17_x86_64.manylinux2014_x86_64.whl.metadata (3.0 kB)\n",
            "Requirement already satisfied: numpy<3.0,>=1.0 in /usr/local/lib/python3.11/dist-packages (from gradio) (1.24.3)\n",
            "Requirement already satisfied: orjson~=3.0 in /usr/local/lib/python3.11/dist-packages (from gradio) (3.10.14)\n",
            "Requirement already satisfied: packaging in /usr/local/lib/python3.11/dist-packages (from gradio) (24.2)\n",
            "Requirement already satisfied: pandas<3.0,>=1.0 in /usr/local/lib/python3.11/dist-packages (from gradio) (2.2.2)\n",
            "Requirement already satisfied: pillow<12.0,>=8.0 in /usr/local/lib/python3.11/dist-packages (from gradio) (11.1.0)\n",
            "Requirement already satisfied: pydantic>=2.0 in /usr/local/lib/python3.11/dist-packages (from gradio) (2.10.5)\n",
            "Collecting pydub (from gradio)\n",
            "  Downloading pydub-0.25.1-py2.py3-none-any.whl.metadata (1.4 kB)\n",
            "Collecting python-multipart>=0.0.18 (from gradio)\n",
            "  Downloading python_multipart-0.0.20-py3-none-any.whl.metadata (1.8 kB)\n",
            "Requirement already satisfied: pyyaml<7.0,>=5.0 in /usr/local/lib/python3.11/dist-packages (from gradio) (6.0.2)\n",
            "Collecting ruff>=0.2.2 (from gradio)\n",
            "  Downloading ruff-0.9.2-py3-none-manylinux_2_17_x86_64.manylinux2014_x86_64.whl.metadata (25 kB)\n",
            "Collecting safehttpx<0.2.0,>=0.1.6 (from gradio)\n",
            "  Downloading safehttpx-0.1.6-py3-none-any.whl.metadata (4.2 kB)\n",
            "Collecting semantic-version~=2.0 (from gradio)\n",
            "  Downloading semantic_version-2.10.0-py2.py3-none-any.whl.metadata (9.7 kB)\n",
            "Collecting starlette<1.0,>=0.40.0 (from gradio)\n",
            "  Downloading starlette-0.45.2-py3-none-any.whl.metadata (6.3 kB)\n",
            "Collecting tomlkit<0.14.0,>=0.12.0 (from gradio)\n",
            "  Downloading tomlkit-0.13.2-py3-none-any.whl.metadata (2.7 kB)\n",
            "Requirement already satisfied: typer<1.0,>=0.12 in /usr/local/lib/python3.11/dist-packages (from gradio) (0.15.1)\n",
            "Requirement already satisfied: typing-extensions~=4.0 in /usr/local/lib/python3.11/dist-packages (from gradio) (4.12.2)\n",
            "Collecting uvicorn>=0.14.0 (from gradio)\n",
            "  Downloading uvicorn-0.34.0-py3-none-any.whl.metadata (6.5 kB)\n",
            "Requirement already satisfied: fsspec in /usr/local/lib/python3.11/dist-packages (from gradio-client==1.5.4->gradio) (2024.10.0)\n",
            "Requirement already satisfied: websockets<15.0,>=10.0 in /usr/local/lib/python3.11/dist-packages (from gradio-client==1.5.4->gradio) (14.1)\n",
            "Requirement already satisfied: idna>=2.8 in /usr/local/lib/python3.11/dist-packages (from anyio<5.0,>=3.0->gradio) (3.10)\n",
            "Requirement already satisfied: sniffio>=1.1 in /usr/local/lib/python3.11/dist-packages (from anyio<5.0,>=3.0->gradio) (1.3.1)\n",
            "Collecting starlette<1.0,>=0.40.0 (from gradio)\n",
            "  Downloading starlette-0.41.3-py3-none-any.whl.metadata (6.0 kB)\n",
            "Requirement already satisfied: certifi in /usr/local/lib/python3.11/dist-packages (from httpx>=0.24.1->gradio) (2024.12.14)\n",
            "Requirement already satisfied: httpcore==1.* in /usr/local/lib/python3.11/dist-packages (from httpx>=0.24.1->gradio) (1.0.7)\n",
            "Requirement already satisfied: h11<0.15,>=0.13 in /usr/local/lib/python3.11/dist-packages (from httpcore==1.*->httpx>=0.24.1->gradio) (0.14.0)\n",
            "Requirement already satisfied: filelock in /usr/local/lib/python3.11/dist-packages (from huggingface-hub>=0.25.1->gradio) (3.16.1)\n",
            "Requirement already satisfied: requests in /usr/local/lib/python3.11/dist-packages (from huggingface-hub>=0.25.1->gradio) (2.32.3)\n",
            "Requirement already satisfied: tqdm>=4.42.1 in /usr/local/lib/python3.11/dist-packages (from huggingface-hub>=0.25.1->gradio) (4.67.1)\n",
            "Requirement already satisfied: python-dateutil>=2.8.2 in /usr/local/lib/python3.11/dist-packages (from pandas<3.0,>=1.0->gradio) (2.8.2)\n",
            "Requirement already satisfied: pytz>=2020.1 in /usr/local/lib/python3.11/dist-packages (from pandas<3.0,>=1.0->gradio) (2024.2)\n",
            "Requirement already satisfied: tzdata>=2022.7 in /usr/local/lib/python3.11/dist-packages (from pandas<3.0,>=1.0->gradio) (2024.2)\n",
            "Requirement already satisfied: annotated-types>=0.6.0 in /usr/local/lib/python3.11/dist-packages (from pydantic>=2.0->gradio) (0.7.0)\n",
            "Requirement already satisfied: pydantic-core==2.27.2 in /usr/local/lib/python3.11/dist-packages (from pydantic>=2.0->gradio) (2.27.2)\n",
            "Requirement already satisfied: click>=8.0.0 in /usr/local/lib/python3.11/dist-packages (from typer<1.0,>=0.12->gradio) (8.1.8)\n",
            "Requirement already satisfied: shellingham>=1.3.0 in /usr/local/lib/python3.11/dist-packages (from typer<1.0,>=0.12->gradio) (1.5.4)\n",
            "Requirement already satisfied: rich>=10.11.0 in /usr/local/lib/python3.11/dist-packages (from typer<1.0,>=0.12->gradio) (13.9.4)\n",
            "Requirement already satisfied: six>=1.5 in /usr/local/lib/python3.11/dist-packages (from python-dateutil>=2.8.2->pandas<3.0,>=1.0->gradio) (1.17.0)\n",
            "Requirement already satisfied: markdown-it-py>=2.2.0 in /usr/local/lib/python3.11/dist-packages (from rich>=10.11.0->typer<1.0,>=0.12->gradio) (3.0.0)\n",
            "Requirement already satisfied: pygments<3.0.0,>=2.13.0 in /usr/local/lib/python3.11/dist-packages (from rich>=10.11.0->typer<1.0,>=0.12->gradio) (2.18.0)\n",
            "Requirement already satisfied: charset-normalizer<4,>=2 in /usr/local/lib/python3.11/dist-packages (from requests->huggingface-hub>=0.25.1->gradio) (3.4.1)\n",
            "Requirement already satisfied: urllib3<3,>=1.21.1 in /usr/local/lib/python3.11/dist-packages (from requests->huggingface-hub>=0.25.1->gradio) (2.3.0)\n",
            "Requirement already satisfied: mdurl~=0.1 in /usr/local/lib/python3.11/dist-packages (from markdown-it-py>=2.2.0->rich>=10.11.0->typer<1.0,>=0.12->gradio) (0.1.2)\n",
            "Downloading gradio-5.12.0-py3-none-any.whl (57.6 MB)\n",
            "\u001b[2K   \u001b[90m━━━━━━━━━━━━━━━━━━━━━━━━━━━━━━━━━━━━━━━━\u001b[0m \u001b[32m57.6/57.6 MB\u001b[0m \u001b[31m10.4 MB/s\u001b[0m eta \u001b[36m0:00:00\u001b[0m\n",
            "\u001b[?25hDownloading gradio_client-1.5.4-py3-none-any.whl (321 kB)\n",
            "\u001b[2K   \u001b[90m━━━━━━━━━━━━━━━━━━━━━━━━━━━━━━━━━━━━━━━━\u001b[0m \u001b[32m321.4/321.4 kB\u001b[0m \u001b[31m20.4 MB/s\u001b[0m eta \u001b[36m0:00:00\u001b[0m\n",
            "\u001b[?25hDownloading aiofiles-23.2.1-py3-none-any.whl (15 kB)\n",
            "Downloading fastapi-0.115.6-py3-none-any.whl (94 kB)\n",
            "\u001b[2K   \u001b[90m━━━━━━━━━━━━━━━━━━━━━━━━━━━━━━━━━━━━━━━━\u001b[0m \u001b[32m94.8/94.8 kB\u001b[0m \u001b[31m8.0 MB/s\u001b[0m eta \u001b[36m0:00:00\u001b[0m\n",
            "\u001b[?25hDownloading MarkupSafe-2.1.5-cp311-cp311-manylinux_2_17_x86_64.manylinux2014_x86_64.whl (28 kB)\n",
            "Downloading python_multipart-0.0.20-py3-none-any.whl (24 kB)\n",
            "Downloading ruff-0.9.2-py3-none-manylinux_2_17_x86_64.manylinux2014_x86_64.whl (12.4 MB)\n",
            "\u001b[2K   \u001b[90m━━━━━━━━━━━━━━━━━━━━━━━━━━━━━━━━━━━━━━━━\u001b[0m \u001b[32m12.4/12.4 MB\u001b[0m \u001b[31m94.8 MB/s\u001b[0m eta \u001b[36m0:00:00\u001b[0m\n",
            "\u001b[?25hDownloading safehttpx-0.1.6-py3-none-any.whl (8.7 kB)\n",
            "Downloading semantic_version-2.10.0-py2.py3-none-any.whl (15 kB)\n",
            "Downloading starlette-0.41.3-py3-none-any.whl (73 kB)\n",
            "\u001b[2K   \u001b[90m━━━━━━━━━━━━━━━━━━━━━━━━━━━━━━━━━━━━━━━━\u001b[0m \u001b[32m73.2/73.2 kB\u001b[0m \u001b[31m5.3 MB/s\u001b[0m eta \u001b[36m0:00:00\u001b[0m\n",
            "\u001b[?25hDownloading tomlkit-0.13.2-py3-none-any.whl (37 kB)\n",
            "Downloading uvicorn-0.34.0-py3-none-any.whl (62 kB)\n",
            "\u001b[2K   \u001b[90m━━━━━━━━━━━━━━━━━━━━━━━━━━━━━━━━━━━━━━━━\u001b[0m \u001b[32m62.3/62.3 kB\u001b[0m \u001b[31m4.8 MB/s\u001b[0m eta \u001b[36m0:00:00\u001b[0m\n",
            "\u001b[?25hDownloading ffmpy-0.5.0-py3-none-any.whl (6.0 kB)\n",
            "Downloading pydub-0.25.1-py2.py3-none-any.whl (32 kB)\n",
            "Installing collected packages: pydub, uvicorn, tomlkit, semantic-version, ruff, python-multipart, markupsafe, ffmpy, aiofiles, starlette, safehttpx, gradio-client, fastapi, gradio\n",
            "  Attempting uninstall: markupsafe\n",
            "    Found existing installation: MarkupSafe 3.0.2\n",
            "    Uninstalling MarkupSafe-3.0.2:\n",
            "      Successfully uninstalled MarkupSafe-3.0.2\n",
            "Successfully installed aiofiles-23.2.1 fastapi-0.115.6 ffmpy-0.5.0 gradio-5.12.0 gradio-client-1.5.4 markupsafe-2.1.5 pydub-0.25.1 python-multipart-0.0.20 ruff-0.9.2 safehttpx-0.1.6 semantic-version-2.10.0 starlette-0.41.3 tomlkit-0.13.2 uvicorn-0.34.0\n"
          ]
        },
        {
          "output_type": "display_data",
          "data": {
            "application/vnd.colab-display-data+json": {
              "pip_warning": {
                "packages": [
                  "markupsafe"
                ]
              },
              "id": "77b7af6091a646b7ac68d1a472589b99"
            }
          },
          "metadata": {}
        }
      ]
    },
    {
      "cell_type": "code",
      "source": [
        "# Install scikit-learn if not already installed\n",
        "!pip install scikit-learn"
      ],
      "metadata": {
        "id": "1dtoTF6poWH0",
        "outputId": "a138c40b-6827-4473-9dfd-b0c7992ca919",
        "colab": {
          "base_uri": "https://localhost:8080/"
        }
      },
      "execution_count": null,
      "outputs": [
        {
          "output_type": "stream",
          "name": "stdout",
          "text": [
            "Requirement already satisfied: scikit-learn in /usr/local/lib/python3.11/dist-packages (1.6.0)\n",
            "Requirement already satisfied: numpy>=1.19.5 in /usr/local/lib/python3.11/dist-packages (from scikit-learn) (1.24.3)\n",
            "Requirement already satisfied: scipy>=1.6.0 in /usr/local/lib/python3.11/dist-packages (from scikit-learn) (1.13.1)\n",
            "Requirement already satisfied: joblib>=1.2.0 in /usr/local/lib/python3.11/dist-packages (from scikit-learn) (1.4.2)\n",
            "Requirement already satisfied: threadpoolctl>=3.1.0 in /usr/local/lib/python3.11/dist-packages (from scikit-learn) (3.5.0)\n"
          ]
        }
      ]
    },
    {
      "cell_type": "code",
      "source": [
        "pip install --upgrade gradio"
      ],
      "metadata": {
        "colab": {
          "base_uri": "https://localhost:8080/"
        },
        "id": "W5C8mEXVpaJq",
        "outputId": "04febba7-bae6-4d02-eb9a-f0af6b951c73"
      },
      "execution_count": null,
      "outputs": [
        {
          "output_type": "stream",
          "name": "stdout",
          "text": [
            "Requirement already satisfied: gradio in /usr/local/lib/python3.11/dist-packages (5.12.0)\n",
            "Requirement already satisfied: aiofiles<24.0,>=22.0 in /usr/local/lib/python3.11/dist-packages (from gradio) (23.2.1)\n",
            "Requirement already satisfied: anyio<5.0,>=3.0 in /usr/local/lib/python3.11/dist-packages (from gradio) (3.7.1)\n",
            "Requirement already satisfied: fastapi<1.0,>=0.115.2 in /usr/local/lib/python3.11/dist-packages (from gradio) (0.115.6)\n",
            "Requirement already satisfied: ffmpy in /usr/local/lib/python3.11/dist-packages (from gradio) (0.5.0)\n",
            "Requirement already satisfied: gradio-client==1.5.4 in /usr/local/lib/python3.11/dist-packages (from gradio) (1.5.4)\n",
            "Requirement already satisfied: httpx>=0.24.1 in /usr/local/lib/python3.11/dist-packages (from gradio) (0.28.1)\n",
            "Requirement already satisfied: huggingface-hub>=0.25.1 in /usr/local/lib/python3.11/dist-packages (from gradio) (0.27.1)\n",
            "Requirement already satisfied: jinja2<4.0 in /usr/local/lib/python3.11/dist-packages (from gradio) (3.1.5)\n",
            "Requirement already satisfied: markupsafe~=2.0 in /usr/local/lib/python3.11/dist-packages (from gradio) (2.1.5)\n",
            "Requirement already satisfied: numpy<3.0,>=1.0 in /usr/local/lib/python3.11/dist-packages (from gradio) (1.24.3)\n",
            "Requirement already satisfied: orjson~=3.0 in /usr/local/lib/python3.11/dist-packages (from gradio) (3.10.14)\n",
            "Requirement already satisfied: packaging in /usr/local/lib/python3.11/dist-packages (from gradio) (24.2)\n",
            "Requirement already satisfied: pandas<3.0,>=1.0 in /usr/local/lib/python3.11/dist-packages (from gradio) (2.2.2)\n",
            "Requirement already satisfied: pillow<12.0,>=8.0 in /usr/local/lib/python3.11/dist-packages (from gradio) (11.1.0)\n",
            "Requirement already satisfied: pydantic>=2.0 in /usr/local/lib/python3.11/dist-packages (from gradio) (2.10.5)\n",
            "Requirement already satisfied: pydub in /usr/local/lib/python3.11/dist-packages (from gradio) (0.25.1)\n",
            "Requirement already satisfied: python-multipart>=0.0.18 in /usr/local/lib/python3.11/dist-packages (from gradio) (0.0.20)\n",
            "Requirement already satisfied: pyyaml<7.0,>=5.0 in /usr/local/lib/python3.11/dist-packages (from gradio) (6.0.2)\n",
            "Requirement already satisfied: ruff>=0.2.2 in /usr/local/lib/python3.11/dist-packages (from gradio) (0.9.2)\n",
            "Requirement already satisfied: safehttpx<0.2.0,>=0.1.6 in /usr/local/lib/python3.11/dist-packages (from gradio) (0.1.6)\n",
            "Requirement already satisfied: semantic-version~=2.0 in /usr/local/lib/python3.11/dist-packages (from gradio) (2.10.0)\n",
            "Requirement already satisfied: starlette<1.0,>=0.40.0 in /usr/local/lib/python3.11/dist-packages (from gradio) (0.41.3)\n",
            "Requirement already satisfied: tomlkit<0.14.0,>=0.12.0 in /usr/local/lib/python3.11/dist-packages (from gradio) (0.13.2)\n",
            "Requirement already satisfied: typer<1.0,>=0.12 in /usr/local/lib/python3.11/dist-packages (from gradio) (0.15.1)\n",
            "Requirement already satisfied: typing-extensions~=4.0 in /usr/local/lib/python3.11/dist-packages (from gradio) (4.12.2)\n",
            "Requirement already satisfied: uvicorn>=0.14.0 in /usr/local/lib/python3.11/dist-packages (from gradio) (0.34.0)\n",
            "Requirement already satisfied: fsspec in /usr/local/lib/python3.11/dist-packages (from gradio-client==1.5.4->gradio) (2024.10.0)\n",
            "Requirement already satisfied: websockets<15.0,>=10.0 in /usr/local/lib/python3.11/dist-packages (from gradio-client==1.5.4->gradio) (14.1)\n",
            "Requirement already satisfied: idna>=2.8 in /usr/local/lib/python3.11/dist-packages (from anyio<5.0,>=3.0->gradio) (3.10)\n",
            "Requirement already satisfied: sniffio>=1.1 in /usr/local/lib/python3.11/dist-packages (from anyio<5.0,>=3.0->gradio) (1.3.1)\n",
            "Requirement already satisfied: certifi in /usr/local/lib/python3.11/dist-packages (from httpx>=0.24.1->gradio) (2024.12.14)\n",
            "Requirement already satisfied: httpcore==1.* in /usr/local/lib/python3.11/dist-packages (from httpx>=0.24.1->gradio) (1.0.7)\n",
            "Requirement already satisfied: h11<0.15,>=0.13 in /usr/local/lib/python3.11/dist-packages (from httpcore==1.*->httpx>=0.24.1->gradio) (0.14.0)\n",
            "Requirement already satisfied: filelock in /usr/local/lib/python3.11/dist-packages (from huggingface-hub>=0.25.1->gradio) (3.16.1)\n",
            "Requirement already satisfied: requests in /usr/local/lib/python3.11/dist-packages (from huggingface-hub>=0.25.1->gradio) (2.32.3)\n",
            "Requirement already satisfied: tqdm>=4.42.1 in /usr/local/lib/python3.11/dist-packages (from huggingface-hub>=0.25.1->gradio) (4.67.1)\n",
            "Requirement already satisfied: python-dateutil>=2.8.2 in /usr/local/lib/python3.11/dist-packages (from pandas<3.0,>=1.0->gradio) (2.8.2)\n",
            "Requirement already satisfied: pytz>=2020.1 in /usr/local/lib/python3.11/dist-packages (from pandas<3.0,>=1.0->gradio) (2024.2)\n",
            "Requirement already satisfied: tzdata>=2022.7 in /usr/local/lib/python3.11/dist-packages (from pandas<3.0,>=1.0->gradio) (2024.2)\n",
            "Requirement already satisfied: annotated-types>=0.6.0 in /usr/local/lib/python3.11/dist-packages (from pydantic>=2.0->gradio) (0.7.0)\n",
            "Requirement already satisfied: pydantic-core==2.27.2 in /usr/local/lib/python3.11/dist-packages (from pydantic>=2.0->gradio) (2.27.2)\n",
            "Requirement already satisfied: click>=8.0.0 in /usr/local/lib/python3.11/dist-packages (from typer<1.0,>=0.12->gradio) (8.1.8)\n",
            "Requirement already satisfied: shellingham>=1.3.0 in /usr/local/lib/python3.11/dist-packages (from typer<1.0,>=0.12->gradio) (1.5.4)\n",
            "Requirement already satisfied: rich>=10.11.0 in /usr/local/lib/python3.11/dist-packages (from typer<1.0,>=0.12->gradio) (13.9.4)\n",
            "Requirement already satisfied: six>=1.5 in /usr/local/lib/python3.11/dist-packages (from python-dateutil>=2.8.2->pandas<3.0,>=1.0->gradio) (1.17.0)\n",
            "Requirement already satisfied: markdown-it-py>=2.2.0 in /usr/local/lib/python3.11/dist-packages (from rich>=10.11.0->typer<1.0,>=0.12->gradio) (3.0.0)\n",
            "Requirement already satisfied: pygments<3.0.0,>=2.13.0 in /usr/local/lib/python3.11/dist-packages (from rich>=10.11.0->typer<1.0,>=0.12->gradio) (2.18.0)\n",
            "Requirement already satisfied: charset-normalizer<4,>=2 in /usr/local/lib/python3.11/dist-packages (from requests->huggingface-hub>=0.25.1->gradio) (3.4.1)\n",
            "Requirement already satisfied: urllib3<3,>=1.21.1 in /usr/local/lib/python3.11/dist-packages (from requests->huggingface-hub>=0.25.1->gradio) (2.3.0)\n",
            "Requirement already satisfied: mdurl~=0.1 in /usr/local/lib/python3.11/dist-packages (from markdown-it-py>=2.2.0->rich>=10.11.0->typer<1.0,>=0.12->gradio) (0.1.2)\n"
          ]
        }
      ]
    },
    {
      "cell_type": "code",
      "source": [
        "%%writefile app.py\n",
        "# Import necessary libraries\n",
        "import pandas as pd\n",
        "import numpy as np\n",
        "import pickle\n",
        "from sklearn.feature_extraction.text import TfidfVectorizer\n",
        "from sklearn.multiclass import OneVsRestClassifier\n",
        "from sklearn.linear_model import LogisticRegression\n",
        "from sklearn.naive_bayes import MultinomialNB\n",
        "from sklearn.preprocessing import MultiLabelBinarizer\n",
        "import re\n",
        "from nltk.corpus import stopwords\n",
        "from nltk.stem import WordNetLemmatizer\n",
        "import nltk\n",
        "import gradio as gr\n",
        "import torch\n",
        "from transformers import BertTokenizer, BertModel\n",
        "from sklearn.neural_network import MLPClassifier\n",
        "\n",
        "# Download NLTK resources\n",
        "nltk.download('stopwords')\n",
        "nltk.download('wordnet')\n",
        "\n",
        "# Initialize NLTK components\n",
        "stop_words = set(stopwords.words('english'))\n",
        "lemmatizer = WordNetLemmatizer()\n",
        "\n",
        "# Load the saved models and vectorizer\n",
        "with open('lr_model.pkl', 'rb') as f:\n",
        "    lr_model = pickle.load(f)\n",
        "\n",
        "with open('nb_model.pkl', 'rb') as f:\n",
        "    nb_model = pickle.load(f)\n",
        "\n",
        "with open('tfidf_vectorizer.pkl', 'rb') as f:\n",
        "    tfidf_vectorizer = pickle.load(f)\n",
        "\n",
        "with open('mlb_encoder.pkl', 'rb') as f:\n",
        "    mlb = pickle.load(f)\n",
        "\n",
        "# Load BERT tokenizer and model\n",
        "tokenizer = BertTokenizer.from_pretrained('bert-base-uncased')\n",
        "bert_model = BertModel.from_pretrained('bert-base-uncased').eval()\n",
        "device = torch.device(\"cuda\" if torch.cuda.is_available() else \"cpu\")\n",
        "bert_model = bert_model.to(device)\n",
        "\n",
        "# Load MLP model trained on BERT embeddings\n",
        "with open('mlp_model.pkl', 'rb') as f:\n",
        "    mlp_model = pickle.load(f)\n",
        "\n",
        "# Preprocessing function\n",
        "def preprocess_text(text):\n",
        "    \"\"\"Clean and preprocess a given text.\"\"\"\n",
        "    text = re.sub(r'[^a-zA-Z\\s]', '', text.lower())  # Remove non-alphabetic characters\n",
        "    tokens = [lemmatizer.lemmatize(word) for word in text.split() if word not in stop_words]\n",
        "    return ' '.join(tokens)\n",
        "\n",
        "# Function to generate BERT embeddings\n",
        "def bert_embeddings(text):\n",
        "    \"\"\"Generate BERT embeddings for a given text.\"\"\"\n",
        "    inputs = tokenizer(text, return_tensors='pt', truncation=True, padding=True, max_length=512)\n",
        "    inputs = {key: value.to(device) for key, value in inputs.items()}\n",
        "    with torch.no_grad():\n",
        "        outputs = bert_model(**inputs)\n",
        "    return outputs.last_hidden_state.mean(dim=1).cpu().numpy()\n",
        "\n",
        "# Function to predict genres\n",
        "def predict_genre(plot_summary, model_choice):\n",
        "    \"\"\"\n",
        "    Predict genres for a given plot summary using the selected model.\n",
        "    \"\"\"\n",
        "    try:\n",
        "        # Preprocess the input text\n",
        "        cleaned_plot = preprocess_text(plot_summary)\n",
        "        print(\"Cleaned Plot:\", cleaned_plot)  # Debug\n",
        "\n",
        "        # Select the model based on user choice\n",
        "        if model_choice == \"Logistic Regression\":\n",
        "            # Transform the text into TF-IDF features\n",
        "            features = tfidf_vectorizer.transform([cleaned_plot])\n",
        "            model = lr_model\n",
        "        elif model_choice == \"Naive Bayes\":\n",
        "            # Transform the text into TF-IDF features\n",
        "            features = tfidf_vectorizer.transform([cleaned_plot])\n",
        "            model = nb_model\n",
        "        elif model_choice == \"MLP with BERT\":\n",
        "            # Generate BERT embeddings\n",
        "            features = bert_embeddings(cleaned_plot)\n",
        "            model = mlp_model\n",
        "\n",
        "        # Predict genres\n",
        "        if model_choice == \"MLP with BERT\":\n",
        "            # Ensure the MLP model outputs predictions with the correct number of classes\n",
        "            predicted = model.predict(features.reshape(1, -1))\n",
        "        else:\n",
        "            predicted = model.predict(features)\n",
        "\n",
        "        print(\"Predicted Binary Labels:\", predicted)  # Debug\n",
        "\n",
        "        # Convert binary predictions to genre labels\n",
        "        genres = mlb.inverse_transform(predicted)\n",
        "        print(\"Predicted Genres:\", genres)  # Debug\n",
        "\n",
        "        # Format the output\n",
        "        if len(genres[0]) > 0:\n",
        "            return \", \".join(genres[0])\n",
        "        else:\n",
        "            return \"No genres predicted.\"\n",
        "    except Exception as e:\n",
        "        return f\"Error during prediction: {str(e)}\"\n",
        "\n",
        "# Gradio interface\n",
        "def gradio_interface(plot_summary, model_choice):\n",
        "    \"\"\"\n",
        "    Gradio interface function to predict genres.\n",
        "    \"\"\"\n",
        "    if len(plot_summary.strip()) < 20:\n",
        "        return \"Please enter a longer plot summary (at least 20 characters).\"\n",
        "\n",
        "    prediction = predict_genre(plot_summary, model_choice)\n",
        "    return prediction\n",
        "\n",
        "# Define Gradio inputs and outputs\n",
        "inputs = [\n",
        "    gr.Textbox(lines=5, placeholder=\"Enter the movie plot summary...\", label=\"Plot Summary\"),\n",
        "    gr.Radio(choices=[\"Logistic Regression\", \"Naive Bayes\", \"MLP with BERT\"], label=\"Model Choice\")\n",
        "]\n",
        "\n",
        "outputs = gr.Textbox(label=\"Predicted Genres\")\n",
        "\n",
        "# Create Gradio interface\n",
        "interface = gr.Interface(\n",
        "    fn=gradio_interface,\n",
        "    inputs=inputs,\n",
        "    outputs=outputs,\n",
        "    title=\"🎬 Movie Genre Classification 🎬\",\n",
        "    description=\"Enter a movie plot summary and select a model to predict its genres.\",\n",
        "    examples=[\n",
        "        [\"A young wizard joins a magical school and faces a dark sorcerer.\", \"Logistic Regression\"],\n",
        "        [\"A detective investigates a mysterious murder in a quiet town.\", \"Naive Bayes\"],\n",
        "        [\"An astronaut travels to Mars to save humanity from extinction.\", \"MLP with BERT\"]\n",
        "    ]\n",
        ")\n",
        "\n",
        "# Launch the interface\n",
        "interface.launch(share=True)"
      ],
      "metadata": {
        "colab": {
          "base_uri": "https://localhost:8080/"
        },
        "id": "vsN-HGkIe6sT",
        "outputId": "28f95101-e06b-438a-e405-d51dd5a0795a"
      },
      "execution_count": null,
      "outputs": [
        {
          "output_type": "stream",
          "name": "stdout",
          "text": [
            "Overwriting app.py\n"
          ]
        }
      ]
    },
    {
      "cell_type": "code",
      "source": [
        "%%writefile app.py\n",
        "# Import necessary libraries\n",
        "import pandas as pd\n",
        "import numpy as np\n",
        "import pickle\n",
        "from sklearn.feature_extraction.text import TfidfVectorizer\n",
        "from sklearn.multiclass import OneVsRestClassifier\n",
        "from sklearn.linear_model import LogisticRegression\n",
        "from sklearn.naive_bayes import MultinomialNB\n",
        "from sklearn.preprocessing import MultiLabelBinarizer\n",
        "import re\n",
        "from nltk.corpus import stopwords\n",
        "from nltk.stem import WordNetLemmatizer\n",
        "import nltk\n",
        "import gradio as gr\n",
        "import torch\n",
        "from transformers import BertTokenizer, BertModel\n",
        "from sklearn.neural_network import MLPClassifier\n",
        "import matplotlib.pyplot as plt\n",
        "\n",
        "# Download NLTK resources\n",
        "nltk.download('stopwords')\n",
        "nltk.download('wordnet')\n",
        "\n",
        "# Initialize NLTK components\n",
        "stop_words = set(stopwords.words('english'))\n",
        "lemmatizer = WordNetLemmatizer()\n",
        "\n",
        "# Load the saved models and vectorizer\n",
        "with open('lr_model.pkl', 'rb') as f:\n",
        "    lr_model = pickle.load(f)\n",
        "\n",
        "with open('nb_model.pkl', 'rb') as f:\n",
        "    nb_model = pickle.load(f)\n",
        "\n",
        "with open('tfidf_vectorizer.pkl', 'rb') as f:\n",
        "    tfidf_vectorizer = pickle.load(f)\n",
        "\n",
        "with open('mlb_encoder.pkl', 'rb') as f:\n",
        "    mlb = pickle.load(f)\n",
        "\n",
        "# Load BERT tokenizer and model\n",
        "tokenizer = BertTokenizer.from_pretrained('bert-base-uncased')\n",
        "bert_model = BertModel.from_pretrained('bert-base-uncased').eval()\n",
        "device = torch.device(\"cuda\" if torch.cuda.is_available() else \"cpu\")\n",
        "bert_model = bert_model.to(device)\n",
        "\n",
        "# Load MLP model trained on BERT embeddings\n",
        "with open('mlp_model.pkl', 'rb') as f:\n",
        "    mlp_model = pickle.load(f)\n",
        "\n",
        "# Preprocessing function\n",
        "def preprocess_text(text):\n",
        "    \"\"\"Clean and preprocess a given text.\"\"\"\n",
        "    text = re.sub(r'[^a-zA-Z\\s]', '', text.lower())  # Remove non-alphabetic characters\n",
        "    tokens = [lemmatizer.lemmatize(word) for word in text.split() if word not in stop_words]\n",
        "    return ' '.join(tokens)\n",
        "\n",
        "# Function to generate BERT embeddings\n",
        "def bert_embeddings(text):\n",
        "    \"\"\"Generate BERT embeddings for a given text.\"\"\"\n",
        "    inputs = tokenizer(text, return_tensors='pt', truncation=True, padding=True, max_length=512)\n",
        "    inputs = {key: value.to(device) for key, value in inputs.items()}\n",
        "    with torch.no_grad():\n",
        "        outputs = bert_model(**inputs)\n",
        "    return outputs.last_hidden_state.mean(dim=1).cpu().numpy()\n",
        "\n",
        "# Function to predict genres\n",
        "def predict_genre(plot_summary, model_choice, top_n=3):\n",
        "    \"\"\"\n",
        "    Predict genres for a given plot summary using the selected model.\n",
        "    Returns the top N predicted genres and their probabilities.\n",
        "    \"\"\"\n",
        "    try:\n",
        "        # Preprocess the input text\n",
        "        cleaned_plot = preprocess_text(plot_summary)\n",
        "        print(\"Cleaned Plot:\", cleaned_plot)  # Debug\n",
        "\n",
        "        # Select the model based on user choice\n",
        "        if model_choice == \"Logistic Regression\":\n",
        "            # Transform the text into TF-IDF features\n",
        "            features = tfidf_vectorizer.transform([cleaned_plot])\n",
        "            model = lr_model\n",
        "        elif model_choice == \"Naive Bayes\":\n",
        "            # Transform the text into TF-IDF features\n",
        "            features = tfidf_vectorizer.transform([cleaned_plot])\n",
        "            model = nb_model\n",
        "        elif model_choice == \"MLP with BERT\":\n",
        "            # Generate BERT embeddings\n",
        "            features = bert_embeddings(cleaned_plot)\n",
        "            model = mlp_model\n",
        "\n",
        "        # Predict genre probabilities\n",
        "        if hasattr(model, \"predict_proba\"):\n",
        "            probabilities = model.predict_proba(features.reshape(1, -1))[0] if model_choice == \"MLP with BERT\" else model.predict_proba(features)[0]\n",
        "        else:\n",
        "            # For models without predict_proba, use decision function\n",
        "            probabilities = model.decision_function(features.reshape(1, -1))[0] if model_choice == \"MLP with BERT\" else model.decision_function(features)[0]\n",
        "\n",
        "        # Get the top N genres and their probabilities\n",
        "        top_indices = np.argsort(probabilities)[-top_n:][::-1]\n",
        "        top_genres = mlb.classes_[top_indices]\n",
        "        top_probabilities = probabilities[top_indices]\n",
        "\n",
        "        # Create a bar chart of the top genres\n",
        "        plt.figure(figsize=(8, 4))\n",
        "        plt.barh(top_genres, top_probabilities, color='skyblue')\n",
        "        plt.xlabel('Probability')\n",
        "        plt.title('Top Predicted Genres')\n",
        "        plt.gca().invert_yaxis()  # Invert y-axis to show the highest probability at the top\n",
        "        plt.tight_layout()\n",
        "\n",
        "        # Save the plot to a file\n",
        "        plot_file = \"genre_probabilities.png\"\n",
        "        plt.savefig(plot_file)\n",
        "        plt.close()\n",
        "\n",
        "        # Format the output\n",
        "        result = {\n",
        "            \"genres\": \", \".join(top_genres),\n",
        "            \"plot\": plot_file\n",
        "        }\n",
        "        return result\n",
        "    except Exception as e:\n",
        "        return {\"genres\": f\"Error during prediction: {str(e)}\", \"plot\": None}\n",
        "\n",
        "# Function to handle CSV file upload\n",
        "def predict_from_csv(file, model_choice, top_n=3):\n",
        "    \"\"\"Predict genres for multiple plot summaries from a CSV file.\"\"\"\n",
        "    try:\n",
        "        # Read the CSV file\n",
        "        df = pd.read_csv(file)\n",
        "        if 'plot_summary' not in df.columns:\n",
        "            return \"Error: The CSV file must contain a 'plot_summary' column.\"\n",
        "\n",
        "        # Predict genres for each plot summary\n",
        "        results = []\n",
        "        for plot_summary in df['plot_summary']:\n",
        "            result = predict_genre(plot_summary, model_choice, top_n)\n",
        "            results.append(result[\"genres\"])\n",
        "\n",
        "        # Add predictions to the DataFrame\n",
        "        df['predicted_genres'] = results\n",
        "\n",
        "        # Save the results to a new CSV file\n",
        "        output_file = \"predictions.csv\"\n",
        "        df.to_csv(output_file, index=False)\n",
        "\n",
        "        return output_file\n",
        "    except Exception as e:\n",
        "        return f\"Error processing the CSV file: {str(e)}\"\n",
        "\n",
        "# Gradio interface for single prediction\n",
        "def gradio_interface(plot_summary, model_choice, top_n):\n",
        "    \"\"\"\n",
        "    Gradio interface function to predict genres.\n",
        "    \"\"\"\n",
        "    if len(plot_summary.strip()) < 20:\n",
        "        return \"Please enter a longer plot summary (at least 20 characters).\", None\n",
        "\n",
        "    result = predict_genre(plot_summary, model_choice, top_n)\n",
        "    return result[\"genres\"], result[\"plot\"]\n",
        "\n",
        "# Define Gradio inputs and outputs for single prediction\n",
        "inputs_single = [\n",
        "    gr.Textbox(lines=5, placeholder=\"Enter the movie plot summary...\", label=\"Plot Summary\"),\n",
        "    gr.Radio(choices=[\"Logistic Regression\", \"Naive Bayes\", \"MLP with BERT\"], label=\"Model Choice\"),\n",
        "    gr.Slider(minimum=1, maximum=5, step=1, value=3, label=\"Number of Top Genres to Display\")  # Use 'value' instead of 'default'\n",
        "]\n",
        "\n",
        "outputs_single = [\n",
        "    gr.Textbox(label=\"Predicted Genres\"),\n",
        "    gr.Image(label=\"Genre Probabilities\", type=\"filepath\")\n",
        "]\n",
        "\n",
        "# Define Gradio inputs and outputs for CSV file upload\n",
        "inputs_csv = [\n",
        "    gr.File(label=\"Upload CSV File (must contain a 'plot_summary' column)\"),\n",
        "    gr.Radio(choices=[\"Logistic Regression\", \"Naive Bayes\", \"MLP with BERT\"], label=\"Model Choice\"),\n",
        "    gr.Slider(minimum=1, maximum=5, step=1, value=3, label=\"Number of Top Genres to Display\")  # Use 'value' instead of 'default'\n",
        "]\n",
        "\n",
        "outputs_csv = gr.File(label=\"Download Predictions\")\n",
        "\n",
        "# Create Gradio interface for single prediction\n",
        "interface_single = gr.Interface(\n",
        "    fn=gradio_interface,\n",
        "    inputs=inputs_single,\n",
        "    outputs=outputs_single,\n",
        "    title=\"🎬 Movie Genre Classification 🎬\",\n",
        "    description=\"Enter a movie plot summary and select a model to predict its genres.\",\n",
        "    examples=[\n",
        "        [\"A young wizard joins a magical school and faces a dark sorcerer.\", \"Logistic Regression\", 3],\n",
        "        [\"A detective investigates a mysterious murder in a quiet town.\", \"Naive Bayes\", 3],\n",
        "        [\"An astronaut travels to Mars to save humanity from extinction.\", \"MLP with BERT\", 3]\n",
        "    ]\n",
        ")\n",
        "\n",
        "# Create Gradio interface for CSV file upload\n",
        "interface_csv = gr.Interface(\n",
        "    fn=predict_from_csv,\n",
        "    inputs=inputs_csv,\n",
        "    outputs=outputs_csv,\n",
        "    title=\"📁 Batch Movie Genre Classification 📁\",\n",
        "    description=\"Upload a CSV file containing movie plot summaries to predict genres in bulk.\"\n",
        ")\n",
        "\n",
        "# Combine both interfaces into a single app\n",
        "app = gr.TabbedInterface(\n",
        "    [interface_single, interface_csv],\n",
        "    [\"Single Prediction\", \"Batch Prediction\"]\n",
        ")\n",
        "\n",
        "# Launch the interface\n",
        "app.launch(share=True)"
      ],
      "metadata": {
        "colab": {
          "base_uri": "https://localhost:8080/"
        },
        "id": "vQmh9s8MZ6Ck",
        "outputId": "e95bebc4-4391-4941-908d-93f3d8c14397"
      },
      "execution_count": null,
      "outputs": [
        {
          "output_type": "stream",
          "name": "stdout",
          "text": [
            "Overwriting app.py\n"
          ]
        }
      ]
    },
    {
      "cell_type": "code",
      "source": [
        "!python app.py"
      ],
      "metadata": {
        "colab": {
          "base_uri": "https://localhost:8080/"
        },
        "id": "EWOPnStnfDfI",
        "outputId": "f9c1218c-4901-41e4-c1d2-8135ad49790f"
      },
      "execution_count": null,
      "outputs": [
        {
          "output_type": "stream",
          "name": "stdout",
          "text": [
            "2025-01-21 15:13:42.199972: E external/local_xla/xla/stream_executor/cuda/cuda_fft.cc:485] Unable to register cuFFT factory: Attempting to register factory for plugin cuFFT when one has already been registered\n",
            "2025-01-21 15:13:42.247176: E external/local_xla/xla/stream_executor/cuda/cuda_dnn.cc:8454] Unable to register cuDNN factory: Attempting to register factory for plugin cuDNN when one has already been registered\n",
            "2025-01-21 15:13:42.263124: E external/local_xla/xla/stream_executor/cuda/cuda_blas.cc:1452] Unable to register cuBLAS factory: Attempting to register factory for plugin cuBLAS when one has already been registered\n",
            "2025-01-21 15:13:45.077681: W tensorflow/compiler/tf2tensorrt/utils/py_utils.cc:38] TF-TRT Warning: Could not find TensorRT\n",
            "[nltk_data] Downloading package stopwords to /root/nltk_data...\n",
            "[nltk_data]   Package stopwords is already up-to-date!\n",
            "[nltk_data] Downloading package wordnet to /root/nltk_data...\n",
            "[nltk_data]   Package wordnet is already up-to-date!\n",
            "* Running on local URL:  http://127.0.0.1:7860\n",
            "* Running on public URL: https://9441bbfe2de2909044.gradio.live\n",
            "\n",
            "This share link expires in 72 hours. For free permanent hosting and GPU upgrades, run `gradio deploy` from the terminal in the working directory to deploy to Hugging Face Spaces (https://huggingface.co/spaces)\n",
            "Cleaned Plot: young wizard join magical school face dark sorcerer\n",
            "Cleaned Plot: detective investigates mysterious murder quiet town\n",
            "Cleaned Plot: astronaut travel mar save humanity extinction\n",
            "Cleaned Plot: young wizard join magical school face dark sorcerer\n",
            "Cleaned Plot: young wizard join magical school face dark sorcerer\n",
            "Cleaned Plot: young wizard join magical school face dark sorcerer\n"
          ]
        }
      ]
    }
  ]
}